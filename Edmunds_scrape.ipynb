{
 "cells": [
  {
   "cell_type": "code",
   "execution_count": 30,
   "metadata": {},
   "outputs": [],
   "source": [
    "#load packages\n",
    "from selenium import webdriver\n",
    "from selenium.webdriver.chrome.service import Service\n",
    "from selenium.webdriver.common.by import By\n",
    "from selenium.webdriver.support.ui import WebDriverWait\n",
    "from selenium.webdriver.support import expected_conditions as EC\n",
    "from selenium.common.exceptions import TimeoutException\n",
    "import plotly.express as px\n",
    "import plotly.graph_objects as go\n",
    "import plotly.io as pio\n",
    "from IPython.display import display\n",
    "import pandas as pd\n",
    " \n"
   ]
  },
  {
   "cell_type": "markdown",
   "metadata": {},
   "source": [
    "# Scraping Edmunds.com for vehicle data"
   ]
  },
  {
   "cell_type": "code",
   "execution_count": null,
   "metadata": {},
   "outputs": [
    {
     "name": "stdout",
     "output_type": "stream",
     "text": [
      "Page 11: Number of car listings found: 21\n",
      "Car found: 2023 Volvo XC60, B5 Core 4dr SUV, $32,998, 28,998 miles\n",
      "Car found: 2021 Volvo XC60, Recharge Plug-In Hybrid T8 R-Design 4dr SUV, $38,000, 29,224 miles\n",
      "Car found: 2020 Volvo XC60, T5 Inscription 4dr SUV, $27,998, 34,022 miles\n",
      "Car found: 2022 Volvo XC60, B5 Inscription 4dr SUV, $37,990, 15,825 miles\n",
      "Car found: 2021 Volvo XC60, T5 Momentum 4dr SUV, $26,998, 36,953 miles\n",
      "Car found: 2021 Volvo XC60, Recharge Plug-In Hybrid T8 Inscription 4dr SUV, $41,998, 10,811 miles\n",
      "Car found: 2022 Volvo XC60, B5 Momentum 4dr SUV, $31,998, 30,448 miles\n",
      "Car found: 2022 Volvo XC60, B5 Inscription 4dr SUV, $37,998, 11,933 miles\n",
      "Car found: 2019 Volvo XC60, T6 Momentum 4dr SUV, $25,998, 52,060 miles\n",
      "Car found: 2023 Volvo XC60, B5 Plus Dark 4dr SUV, $39,998, 11,837 miles\n",
      "Car found: 2021 Volvo XC60, T5 Momentum 4dr SUV, $26,998, 39,091 miles\n",
      "Car found: 2024 Volvo XC60, B5 Plus 4dr SUV, $41,998, 12,549 miles\n",
      "Car found: 2022 Volvo XC60, B5 R-Design 4dr SUV, $30,998, 33,209 miles\n",
      "Car found: 2023 Volvo XC60, B5 Plus Dark 4dr SUV, $40,998, 12,860 miles\n",
      "Car found: 2013 Volvo XC60, 3.2 4dr SUV, $9,500, 111,027 miles\n",
      "Car found: 2024 Volvo XC60, B5 Plus 4dr SUV, $41,998, 13,109 miles\n",
      "Car found: 2019 Volvo XC60, T6 Inscription 4dr SUV, $24,998, 63,267 miles\n",
      "Car found: 2020 Volvo XC60, T5 Inscription 4dr SUV, $24,998, 60,090 miles\n",
      "Car found: 2015 Volvo XC60, T6 4dr SUV, $8,999, 171,792 miles\n",
      "Car found: 2023 Volvo XC60, B5 Plus Bright 4dr SUV, $37,998, 14,612 miles\n",
      "Car found: 2022 Volvo XC60, B5 Momentum 4dr SUV, $33,998, 14,978 miles\n",
      "Page 13: Number of car listings found: 21\n",
      "Car found: 2015 Volvo XC60, T5 Drive-E Premier 4dr SUV, $17,998, 71,735 miles\n",
      "Car found: 2014 Volvo XC60, T6 4dr SUV, $19,590, 46,211 miles\n",
      "Car found: Certified 2024 Volvo XC60, B5 Ultimate 4dr SUV, $48,500, 13,843 miles\n",
      "Car found: 2015 Volvo XC60, T6 4dr SUV, $18,998, 66,220 miles\n",
      "Car found: 2016 Volvo XC60, T5 Platinum 4dr SUV, $18,998, 73,085 miles\n",
      "Car found: 2016 Volvo XC60, T5 Drive-E Premier 4dr SUV, $18,998, 69,596 miles\n",
      "Car found: 2021 Volvo XC60, T5 Momentum 4dr SUV, $30,998, 24,236 miles\n",
      "Car found: Certified 2022 Volvo XC60, Recharge Plug-In Hybrid T8 Inscription 4dr SUV w/Prod. End 11/21, $45,759, 25,409 miles\n",
      "Car found: 2016 Volvo XC60, T5 Drive-E Platinum 4dr SUV, $19,998, 51,996 miles\n",
      "Car found: 2023 Volvo XC60, B5 Plus Bright 4dr SUV, $37,998, 23,101 miles\n",
      "Car found: 2016 Volvo XC60, T6 Drive-E 4dr SUV, $19,998, 67,500 miles\n",
      "Car found: 2016 Volvo XC60, T5 Drive-E Premier 4dr SUV, $20,998, 43,361 miles\n",
      "Car found: 2023 Volvo XC60, B5 Plus Dark 4dr SUV, $37,998, 23,368 miles\n",
      "Car found: 2018 Volvo XC60, T6 Momentum 4dr SUV, $24,590, 42,954 miles\n",
      "Car found: 2023 Volvo XC60, B5 Plus Dark 4dr SUV, $37,998, 24,014 miles\n",
      "Car found: 2021 Volvo XC60, T5 Momentum 4dr SUV, $28,998, 29,290 miles\n",
      "Car found: 2022 Volvo XC60, B5 Momentum 4dr SUV, $32,998, 27,075 miles\n",
      "Car found: 2020 Volvo XC60, T5 Momentum 4dr SUV, $24,590, 67,198 miles\n",
      "Car found: 2022 Volvo XC60, Recharge Plug-In Hybrid T8 Inscription Expression 4dr SUV w/Prod. End 11/21, $38,590, 31,031 miles\n",
      "Car found: 2023 Volvo XC60, B5 Plus Bright 4dr SUV, $32,590, 28,055 miles\n",
      "Car found: 2019 Volvo XC60, T6 R-Design 4dr SUV, $24,990, 70,113 miles\n",
      "Page 15: Number of car listings found: 21\n",
      "Car found: 2021 Volvo XC60, T5 Inscription 4dr SUV, $29,998, 36,639 miles\n",
      "Car found: 2021 Volvo XC60, T5 Momentum 4dr SUV, $25,998, 52,145 miles\n",
      "Car found: 2018 Volvo XC60, T6 Momentum 4dr SUV, $25,998, 54,567 miles\n",
      "Car found: 2019 Volvo XC60, T6 Momentum 4dr SUV, $28,998, 39,482 miles\n",
      "Car found: 2021 Volvo XC60, Recharge Plug-In Hybrid T8 Inscription Expression 4dr SUV, $35,590, 32,861 miles\n",
      "Car found: 2019 Volvo XC60, T5 Momentum 4dr SUV, $24,998, 50,504 miles\n",
      "Car found: 2022 Volvo XC60, B5 Inscription 4dr SUV, $32,998, 35,891 miles\n",
      "Car found: 2022 Volvo XC60, Recharge Plug-In Hybrid T8 Inscription 4dr SUV w/Prod. End 11/21, $40,590, 43,243 miles\n",
      "Car found: 2019 Volvo XC60, T5 Momentum 4dr SUV, $26,998, 53,965 miles\n",
      "Car found: 2020 Volvo XC60, T5 Momentum 4dr SUV, $26,998, 59,725 miles\n",
      "Car found: 2021 Volvo XC60, T5 Momentum 4dr SUV, $26,998, 55,683 miles\n",
      "Car found: 2021 Volvo XC60, T5 Momentum 4dr SUV, $26,998, 56,353 miles\n",
      "Car found: 2020 Volvo XC60, T5 Inscription 4dr SUV, $27,998, 45,682 miles\n",
      "Car found: 2021 Volvo XC60, T6 Momentum 4dr SUV, $27,998, 50,603 miles\n",
      "Car found: 2022 Volvo XC60, B5 Momentum 4dr SUV, $28,998, 44,805 miles\n",
      "Car found: 2021 Volvo XC60, Recharge Plug-In Hybrid T8 Inscription Expression 4dr SUV, $32,590, 51,077 miles\n",
      "Car found: 2022 Volvo XC60, B5 Momentum 4dr SUV, $27,998, 63,230 miles\n",
      "Car found: 2020 Volvo XC60, T5 Momentum 4dr SUV, $28,998, 47,784 miles\n",
      "Car found: 2016 Volvo XC60, T6 Drive-E 4dr SUV, $20,590, 39,200 miles\n",
      "Car found: 2023 Volvo XC60, B5 Core 4dr SUV, $37,998, 5,226 miles\n",
      "Car found: 2022 Volvo XC60, B5 Inscription 4dr SUV, $38,998, 5,625 miles\n",
      "Page 17: Number of car listings found: 21\n",
      "Car found: 2022 Volvo XC60, B5 Momentum 4dr SUV, $33,998, 23,485 miles\n",
      "Car found: 2018 Volvo XC60, T8 Inscription Twin Engine Plug-In Hybrid 4dr SUV, $31,998, 24,535 miles\n",
      "Car found: 2024 Volvo XC60, Recharge T8 Plus Plug-In Hybrid 4dr SUV, $53,990, 691 miles\n",
      "Car found: 2017 Volvo XC60, T5 Inscription 4dr SUV, $20,998, 54,545 miles\n",
      "Car found: 2013 Volvo XC60, 3.2 4dr SUV, $10,899, 125,230 miles\n",
      "Car found: 2012 Volvo XC60, 3.2 4dr SUV, $12,997, 85,620 miles\n",
      "Car found: 2018 Volvo XC60, T5 Momentum 4dr SUV, $23,990, 57,337 miles\n",
      "Car found: 2023 Volvo XC60, B5 Core 4dr SUV, $32,998, 27,201 miles\n",
      "Car found: 2023 Volvo XC60, B5 Ultimate Dark 4dr SUV, $42,998, 25,502 miles\n",
      "Car found: 2019 Volvo XC60, T6 Inscription 4dr SUV, $23,628, 68,287 miles\n",
      "Car found: 2022 Volvo XC60, Recharge Plug-In Hybrid T8 Inscription 4dr SUV w/Prod. End 11/21, $38,990, 39,496 miles\n",
      "Car found: 2019 Volvo XC60, T5 Momentum 4dr SUV, $22,998, 65,764 miles\n",
      "Car found: 2021 Volvo XC60, T5 Momentum 4dr SUV, $29,998, 30,663 miles\n",
      "Car found: 2022 Volvo XC60, Recharge Plug-In Hybrid T8 Inscription 4dr SUV w/Prod. End 11/21, $43,590, 18,885 miles\n",
      "Car found: 2018 Volvo XC60, T5 R-Design 4dr SUV, $22,498, 77,448 miles\n",
      "Car found: 2022 Volvo XC60, Recharge Plug-In Hybrid T8 Inscription Expression 4dr SUV w/Prod. End 11/21, $41,998, 28,069 miles\n",
      "Car found: 2021 Volvo XC60, T5 Momentum 4dr SUV, $26,904, 36,681 miles\n",
      "Car found: 2015 Volvo XC60, T5 Drive-E Premier Plus 4dr SUV w/Prod. End 6/14, $15,990, 73,406 miles\n",
      "Car found: 2013 Volvo XC60, T6 4dr SUV, $16,590, 60,401 miles\n",
      "Car found: 2016 Volvo XC60, T5 Premier 4dr SUV, $17,590, 77,476 miles\n",
      "Car found: 2018 Volvo XC60, T5 Inscription 4dr SUV, $25,998, 46,946 miles\n",
      "Page 19: Number of car listings found: 21\n",
      "Car found: 2018 Volvo XC60, T8 R-Design Twin Engine Plug-In Hybrid 4dr SUV, $29,990, 30,821 miles\n",
      "Car found: 2019 Volvo XC60, T8 R-Design Twin Engine Plug-In Hybrid 4dr SUV, $34,998, 50,545 miles\n",
      "Car found: 2023 Volvo XC60, B5 Plus Bright 4dr SUV, $38,990, 10,933 miles\n",
      "Car found: 2019 Volvo XC60, T5 R-Design 4dr SUV, $24,990, 50,434 miles\n",
      "Car found: 2013 Volvo XC60, 3.2 4dr SUV, $8,359, 140,292 miles\n",
      "Car found: 2021 Volvo XC60, T5 Momentum 4dr SUV, $29,590, 37,862 miles\n",
      "Car found: 2019 Volvo XC60, T8 R-Design Twin Engine Plug-In Hybrid 4dr SUV, $32,590, 31,527 miles\n",
      "Car found: 2020 Volvo XC60, T6 R-Design 4dr SUV, $30,590, 40,032 miles\n",
      "Car found: 2015 Volvo XC60, T6 Premier Plus 4dr SUV w/Prod. End 6/14, $12,719, 157,076 miles\n",
      "Car found: 2020 Volvo XC60, T5 Inscription 4dr SUV, $28,990, 41,509 miles\n",
      "Car found: 2020 Volvo XC60, T6 Inscription 4dr SUV, $32,590, 37,887 miles\n",
      "Car found: 2020 Volvo XC60, T8 Momentum Twin Engine Plug-In Hybrid 4dr SUV, $32,990, 49,802 miles\n",
      "Car found: 2021 Volvo XC60, T5 Inscription 4dr SUV, $32,590, 41,245 miles\n",
      "Car found: 2013 Volvo XC60, 3.2 4dr SUV, $16,590, 57,425 miles\n",
      "Car found: 2016 Volvo XC60, T6 Drive-E 4dr SUV, $18,990, 65,675 miles\n",
      "Car found: 2016 Volvo XC60, T6 4dr SUV, $19,990, 47,405 miles\n",
      "Car found: 2017 Volvo XC60, T5 Dynamic 4dr SUV, $19,590, 67,977 miles\n",
      "Car found: 2021 Volvo XC60, T5 Momentum 4dr SUV, Not Priced, 61,681 miles\n",
      "Car found: 2011 Volvo XC60, T6 4dr SUV, $7,999, 142,252 miles\n",
      "Car found: 2015 Volvo XC60, T5 Drive-E Premier 4dr SUV, $16,590, 61,404 miles\n",
      "Car found: Certified 2022 Volvo XC60, B5 Momentum 4dr SUV, $35,000, 37,453 miles\n",
      "An error occurred on page 21: Message: \n",
      "Stacktrace:\n",
      "\tGetHandleVerifier [0x011474A3+25091]\n",
      "\t(No symbol) [0x010CDC04]\n",
      "\t(No symbol) [0x00FAB373]\n",
      "\t(No symbol) [0x00FEF4DC]\n",
      "\t(No symbol) [0x00FEF65B]\n",
      "\t(No symbol) [0x0102D8E2]\n",
      "\t(No symbol) [0x01011F54]\n",
      "\t(No symbol) [0x0102B49E]\n",
      "\t(No symbol) [0x01011CA6]\n",
      "\t(No symbol) [0x00FE31D5]\n",
      "\t(No symbol) [0x00FE435D]\n",
      "\tGetHandleVerifier [0x014407C3+3142947]\n",
      "\tGetHandleVerifier [0x01451A2B+3213195]\n",
      "\tGetHandleVerifier [0x0144C412+3191154]\n",
      "\tGetHandleVerifier [0x011E8720+685184]\n",
      "\t(No symbol) [0x010D6E1D]\n",
      "\t(No symbol) [0x010D3E18]\n",
      "\t(No symbol) [0x010D3FB6]\n",
      "\t(No symbol) [0x010C66F0]\n",
      "\tBaseThreadInitThunk [0x75B45D49+25]\n",
      "\tRtlInitializeExceptionChain [0x775ECEBB+107]\n",
      "\tRtlGetAppContainerNamedObjectPath [0x775ECE41+561]\n",
      "\n"
     ]
    }
   ],
   "source": [
    "# Set up the driver (make sure to specify the path to your WebDriver)\n",
    "service = Service(r'C:\\Users\\amyfo\\.wdm\\drivers\\chromedriver\\win64\\132.0.6834.159\\chromedriver-win32\\chromedriver.exe')\n",
    "driver = webdriver.Chrome(service=service)\n",
    "\n",
    "# Set a timeout for the WebDriver\n",
    "driver.set_page_load_timeout(180)\n",
    "\n",
    "# Base URL\n",
    "base_url = \"https://www.edmunds.com/inventory/srp.html?inventorytype=used%2Ccpo&make=volvo&model=volvo%7Cxc60\"\n",
    "\n",
    "# Initialize an empty list to store car data\n",
    "volvo_data = []\n",
    "\n",
    "# Loop through pages, if the program quit at page \"n\", start the application again on that page\n",
    "# for example, if the program quit at page 10, start the application again on page 11 by setting page_number = 10\n",
    "page_number = 10\n",
    "max_retries = 3\n",
    "\n",
    "while True:\n",
    "    page_number += 1\n",
    "\n",
    "    # Construct the URL with the current page number\n",
    "    url = f\"{base_url}&pagenumber={page_number}\"\n",
    "    retries = 0\n",
    "    while retries < max_retries:\n",
    "        try:\n",
    "            driver.get(url)\n",
    "            break\n",
    "        except TimeoutException:\n",
    "            print(f\"Page {page_number} timed out.\")\n",
    "            retries += 1\n",
    "            if retries == max_retries:\n",
    "                print(f\"Page {page_number} failed to load after {max_retries} retries. Skipping to the next page.\")\n",
    "                page_number += 1\n",
    "                continue\n",
    "\n",
    "    try:\n",
    "        # Wait until the listings load\n",
    "        WebDriverWait(driver, 60).until(\n",
    "            EC.presence_of_element_located((By.CLASS_NAME, \"vehicle-info\"))\n",
    "        )\n",
    "\n",
    "        # Find all divs with class 'vehicle-info'\n",
    "        car_listings = driver.find_elements(By.CLASS_NAME, 'vehicle-info')\n",
    "\n",
    "        # Debug print\n",
    "        print(f\"Page {page_number}: Number of car listings found: {len(car_listings)}\")\n",
    "\n",
    "        # If no car listings are found, break the loop\n",
    "        if not car_listings:\n",
    "            break\n",
    "\n",
    "        # Extract car listings from the results container\n",
    "        for car in car_listings:\n",
    "            title = car.find_element(By.CLASS_NAME, 'size-16.text-cool-gray-10.fw-bold.mb-0_5').text.strip()\n",
    "            description = car.find_element(By.CLASS_NAME, 'fw-normal.size-14.text-cool-gray-30').text.strip()\n",
    "            # Getting the pricing details container\n",
    "            pricing_details = car.find_element(By.CLASS_NAME, 'pricing-details')\n",
    "            # Pulling the price from within the heading to exclude the extra price details\n",
    "            price = pricing_details.find_element(By.CLASS_NAME, 'heading-3').text.strip() if pricing_details else None\n",
    "            # Add mileage which is in ul class=mb_0 and then within span class text-cool-gray-30\n",
    "            mileage = car.find_element(By.CSS_SELECTOR, 'ul.mb-0 span.text-cool-gray-30').text.strip()\n",
    "\n",
    "            if title and description and price:\n",
    "                volvo_data.append({\n",
    "                    #saving the page number to keep track of what data was scraped\n",
    "                    'Page': page_number,\n",
    "                    'Title': title,\n",
    "                    'Description': description,\n",
    "                    'Price': price,\n",
    "                    'Mileage': mileage\n",
    "                })\n",
    "                # Debug print\n",
    "                print(f\"Car found: {title}, {description}, {price}, {mileage}\")\n",
    "\n",
    "        # save each batch of page data to a csv\n",
    "        volvo_df = pd.DataFrame(volvo_data)\n",
    "        with open('volvo_data.csv', 'a', newline='', encoding='utf-8') as f:\n",
    "            volvo_df.to_csv(f, header=f.tell()==0, index=False)\n",
    "\n",
    "        # Clear the volvo_data list to avoid duplicates\n",
    "        volvo_data.clear()\n",
    "\n",
    "    except Exception as e:\n",
    "        print(f\"An error occurred on page {page_number}: {e}\")\n",
    "        break\n",
    "\n",
    "    # Increment the page number\n",
    "    page_number += 1\n",
    "\n",
    "# Close the driver\n",
    "driver.quit()"
   ]
  },
  {
   "cell_type": "markdown",
   "metadata": {},
   "source": [
    "## Cleaning the scraped Edmunds data"
   ]
  },
  {
   "cell_type": "code",
   "execution_count": 31,
   "metadata": {},
   "outputs": [
    {
     "data": {
      "text/html": [
       "<div>\n",
       "<style scoped>\n",
       "    .dataframe tbody tr th:only-of-type {\n",
       "        vertical-align: middle;\n",
       "    }\n",
       "\n",
       "    .dataframe tbody tr th {\n",
       "        vertical-align: top;\n",
       "    }\n",
       "\n",
       "    .dataframe thead th {\n",
       "        text-align: right;\n",
       "    }\n",
       "</style>\n",
       "<table border=\"1\" class=\"dataframe\">\n",
       "  <thead>\n",
       "    <tr style=\"text-align: right;\">\n",
       "      <th></th>\n",
       "      <th>Page</th>\n",
       "      <th>Title</th>\n",
       "      <th>Description</th>\n",
       "      <th>Price</th>\n",
       "      <th>Mileage</th>\n",
       "      <th>Year</th>\n",
       "    </tr>\n",
       "  </thead>\n",
       "  <tbody>\n",
       "    <tr>\n",
       "      <th>0</th>\n",
       "      <td>1</td>\n",
       "      <td>Volvo XC60</td>\n",
       "      <td>T6 Inscription 4dr SUV</td>\n",
       "      <td>27293</td>\n",
       "      <td>39106</td>\n",
       "      <td>2019</td>\n",
       "    </tr>\n",
       "    <tr>\n",
       "      <th>1</th>\n",
       "      <td>1</td>\n",
       "      <td>Volvo XC60</td>\n",
       "      <td>B6 Ultimate Bright 4dr SUV</td>\n",
       "      <td>37175</td>\n",
       "      <td>32922</td>\n",
       "      <td>2023</td>\n",
       "    </tr>\n",
       "    <tr>\n",
       "      <th>2</th>\n",
       "      <td>1</td>\n",
       "      <td>Volvo XC60</td>\n",
       "      <td>B5 Core 4dr SUV</td>\n",
       "      <td>31789</td>\n",
       "      <td>24514</td>\n",
       "      <td>2023</td>\n",
       "    </tr>\n",
       "    <tr>\n",
       "      <th>3</th>\n",
       "      <td>1</td>\n",
       "      <td>Volvo XC60</td>\n",
       "      <td>T6 4dr SUV</td>\n",
       "      <td>11799</td>\n",
       "      <td>83670</td>\n",
       "      <td>2012</td>\n",
       "    </tr>\n",
       "    <tr>\n",
       "      <th>4</th>\n",
       "      <td>1</td>\n",
       "      <td>Volvo XC60</td>\n",
       "      <td>Recharge Plug-In Hybrid T8 Inscription Extende...</td>\n",
       "      <td>45482</td>\n",
       "      <td>22964</td>\n",
       "      <td>2022</td>\n",
       "    </tr>\n",
       "    <tr>\n",
       "      <th>...</th>\n",
       "      <td>...</td>\n",
       "      <td>...</td>\n",
       "      <td>...</td>\n",
       "      <td>...</td>\n",
       "      <td>...</td>\n",
       "      <td>...</td>\n",
       "    </tr>\n",
       "    <tr>\n",
       "      <th>246</th>\n",
       "      <td>19</td>\n",
       "      <td>Volvo XC60</td>\n",
       "      <td>T6 4dr SUV</td>\n",
       "      <td>19990</td>\n",
       "      <td>47405</td>\n",
       "      <td>2016</td>\n",
       "    </tr>\n",
       "    <tr>\n",
       "      <th>247</th>\n",
       "      <td>19</td>\n",
       "      <td>Volvo XC60</td>\n",
       "      <td>T5 Dynamic 4dr SUV</td>\n",
       "      <td>19590</td>\n",
       "      <td>67977</td>\n",
       "      <td>2017</td>\n",
       "    </tr>\n",
       "    <tr>\n",
       "      <th>249</th>\n",
       "      <td>19</td>\n",
       "      <td>Volvo XC60</td>\n",
       "      <td>T6 4dr SUV</td>\n",
       "      <td>7999</td>\n",
       "      <td>142252</td>\n",
       "      <td>2011</td>\n",
       "    </tr>\n",
       "    <tr>\n",
       "      <th>250</th>\n",
       "      <td>19</td>\n",
       "      <td>Volvo XC60</td>\n",
       "      <td>T5 Drive-E Premier 4dr SUV</td>\n",
       "      <td>16590</td>\n",
       "      <td>61404</td>\n",
       "      <td>2015</td>\n",
       "    </tr>\n",
       "    <tr>\n",
       "      <th>251</th>\n",
       "      <td>19</td>\n",
       "      <td>Certified  Volvo XC60</td>\n",
       "      <td>B5 Momentum 4dr SUV</td>\n",
       "      <td>35000</td>\n",
       "      <td>37453</td>\n",
       "      <td>2022</td>\n",
       "    </tr>\n",
       "  </tbody>\n",
       "</table>\n",
       "<p>251 rows × 6 columns</p>\n",
       "</div>"
      ],
      "text/plain": [
       "     Page                  Title  \\\n",
       "0       1             Volvo XC60   \n",
       "1       1             Volvo XC60   \n",
       "2       1             Volvo XC60   \n",
       "3       1             Volvo XC60   \n",
       "4       1             Volvo XC60   \n",
       "..    ...                    ...   \n",
       "246    19             Volvo XC60   \n",
       "247    19             Volvo XC60   \n",
       "249    19             Volvo XC60   \n",
       "250    19             Volvo XC60   \n",
       "251    19  Certified  Volvo XC60   \n",
       "\n",
       "                                           Description  Price  Mileage  Year  \n",
       "0                               T6 Inscription 4dr SUV  27293    39106  2019  \n",
       "1                           B6 Ultimate Bright 4dr SUV  37175    32922  2023  \n",
       "2                                      B5 Core 4dr SUV  31789    24514  2023  \n",
       "3                                           T6 4dr SUV  11799    83670  2012  \n",
       "4    Recharge Plug-In Hybrid T8 Inscription Extende...  45482    22964  2022  \n",
       "..                                                 ...    ...      ...   ...  \n",
       "246                                         T6 4dr SUV  19990    47405  2016  \n",
       "247                                 T5 Dynamic 4dr SUV  19590    67977  2017  \n",
       "249                                         T6 4dr SUV   7999   142252  2011  \n",
       "250                         T5 Drive-E Premier 4dr SUV  16590    61404  2015  \n",
       "251                                B5 Momentum 4dr SUV  35000    37453  2022  \n",
       "\n",
       "[251 rows x 6 columns]"
      ]
     },
     "metadata": {},
     "output_type": "display_data"
    }
   ],
   "source": [
    "# load the data from the csv\n",
    "volvo_df = pd.read_csv('volvo_data.csv')\n",
    "\n",
    "# remove any rows where the price is set to \"Not Priced\"\n",
    "volvo_df = volvo_df[volvo_df['Price'] != 'Not Priced']\n",
    "\n",
    "# Extract the year from the title and create a new column for it, make it an integer\n",
    "volvo_df['Year'] = volvo_df['Title'].str.extract(r'(\\d{4})').astype(int)\n",
    "\n",
    "# Remove the year from the title\n",
    "volvo_df['Title'] = volvo_df['Title'].str.replace(r'\\d{4}', '', regex=True).str.strip()\n",
    "\n",
    "# make price an integer\n",
    "volvo_df['Price'] = volvo_df['Price'].str.replace('$', '').str.replace(',', '').astype(int)\n",
    "\n",
    "# remove the word miles from the mileage column and make mileage an integer\n",
    "volvo_df['Mileage'] = volvo_df['Mileage'].str.replace(' miles', '').str.replace(',', '').astype(int)\n",
    "\n",
    "# preview the cleaned data\n",
    "display(volvo_df)\n"
   ]
  },
  {
   "cell_type": "code",
   "execution_count": 32,
   "metadata": {},
   "outputs": [],
   "source": [
    "#save the new, cleaned data to a csv\n",
    "volvo_df.to_csv('volvo_data_clean.csv', index=False)\n"
   ]
  },
  {
   "cell_type": "markdown",
   "metadata": {},
   "source": [
    "# Predicting the price of a Volvo XC60"
   ]
  },
  {
   "cell_type": "code",
   "execution_count": 33,
   "metadata": {},
   "outputs": [
    {
     "data": {
      "application/vnd.plotly.v1+json": {
       "config": {
        "plotlyServerURL": "https://plot.ly"
       },
       "data": [
        {
         "hovertemplate": "Mileage=%{x}<br>Price=%{y}<br>Year=%{marker.color}<extra></extra>",
         "legendgroup": "",
         "marker": {
          "color": [
           2019,
           2023,
           2023,
           2012,
           2022,
           2020,
           2022,
           2022,
           2022,
           2013,
           2022,
           2015,
           2017,
           2022,
           2020,
           2018,
           2023,
           2022,
           2022,
           2021,
           2017,
           2013,
           2010,
           2019,
           2024,
           2022,
           2022,
           2022,
           2024,
           2022,
           2022,
           2016,
           2022,
           2022,
           2021,
           2024,
           2022,
           2024,
           2024,
           2022,
           2024,
           2022,
           2022,
           2022,
           2023,
           2022,
           2018,
           2017,
           2024,
           2024,
           2021,
           2021,
           2023,
           2010,
           2022,
           2020,
           2022,
           2022,
           2023,
           2016,
           2024,
           2023,
           2022,
           2020,
           2019,
           2024,
           2022,
           2021,
           2023,
           2022,
           2022,
           2022,
           2022,
           2022,
           2022,
           2023,
           2022,
           2022,
           2024,
           2022,
           2019,
           2023,
           2019,
           2022,
           2025,
           2022,
           2023,
           2021,
           2023,
           2022,
           2022,
           2022,
           2020,
           2023,
           2024,
           2024,
           2021,
           2022,
           2022,
           2019,
           2023,
           2024,
           2022,
           2022,
           2022,
           2021,
           2023,
           2022,
           2022,
           2024,
           2022,
           2019,
           2022,
           2021,
           2022,
           2013,
           2021,
           2019,
           2019,
           2021,
           2022,
           2022,
           2023,
           2020,
           2019,
           2021,
           2022,
           2024,
           2022,
           2020,
           2022,
           2019,
           2022,
           2019,
           2017,
           2022,
           2022,
           2019,
           2023,
           2022,
           2022,
           2019,
           2021,
           2022,
           2021,
           2022,
           2022,
           2023,
           2021,
           2020,
           2022,
           2021,
           2021,
           2022,
           2022,
           2019,
           2023,
           2021,
           2024,
           2022,
           2023,
           2013,
           2024,
           2019,
           2020,
           2015,
           2023,
           2022,
           2015,
           2014,
           2024,
           2015,
           2016,
           2016,
           2021,
           2022,
           2016,
           2023,
           2016,
           2016,
           2023,
           2018,
           2023,
           2021,
           2022,
           2020,
           2022,
           2023,
           2019,
           2021,
           2021,
           2018,
           2019,
           2021,
           2019,
           2022,
           2022,
           2019,
           2020,
           2021,
           2021,
           2020,
           2021,
           2022,
           2021,
           2022,
           2020,
           2016,
           2023,
           2022,
           2022,
           2018,
           2024,
           2017,
           2013,
           2012,
           2018,
           2023,
           2023,
           2019,
           2022,
           2019,
           2021,
           2022,
           2018,
           2022,
           2021,
           2015,
           2013,
           2016,
           2018,
           2018,
           2019,
           2023,
           2019,
           2013,
           2021,
           2019,
           2020,
           2015,
           2020,
           2020,
           2020,
           2021,
           2013,
           2016,
           2016,
           2017,
           2011,
           2015,
           2022
          ],
          "coloraxis": "coloraxis",
          "symbol": "circle"
         },
         "mode": "markers",
         "name": "",
         "orientation": "v",
         "showlegend": false,
         "type": "scatter",
         "x": [
          39106,
          32922,
          24514,
          83670,
          22964,
          48894,
          30553,
          11527,
          24259,
          165954,
          49321,
          65123,
          56135,
          30156,
          31890,
          71641,
          35568,
          15964,
          21216,
          61143,
          90573,
          113925,
          123615,
          99033,
          14541,
          32006,
          23237,
          10991,
          10028,
          32723,
          33051,
          114773,
          12890,
          26467,
          42285,
          7107,
          51765,
          13203,
          11004,
          42172,
          5498,
          30046,
          38656,
          38132,
          14242,
          42431,
          72364,
          65529,
          14868,
          12111,
          84810,
          22507,
          23387,
          159490,
          27428,
          32475,
          22018,
          45007,
          20100,
          93137,
          10750,
          21110,
          37818,
          42582,
          34540,
          12553,
          48058,
          21050,
          42274,
          25496,
          31172,
          38035,
          56994,
          17585,
          33751,
          34205,
          12505,
          41842,
          13650,
          34777,
          53485,
          5051,
          50621,
          44208,
          5861,
          53134,
          7252,
          11882,
          38747,
          14232,
          43317,
          34294,
          28178,
          39738,
          11285,
          11812,
          27813,
          35480,
          14429,
          20455,
          8274,
          16008,
          18679,
          18265,
          20599,
          45521,
          11069,
          20419,
          42431,
          14266,
          22415,
          26954,
          26335,
          36120,
          24037,
          105635,
          26653,
          30120,
          41565,
          59617,
          33751,
          32371,
          28640,
          76740,
          74623,
          38444,
          34133,
          13424,
          20585,
          54329,
          33325,
          43955,
          27374,
          43831,
          140499,
          21863,
          34655,
          42365,
          28453,
          30448,
          34802,
          52141,
          82166,
          37284,
          36953,
          35010,
          27368,
          28998,
          29224,
          34022,
          15825,
          36953,
          10811,
          30448,
          11933,
          52060,
          11837,
          39091,
          12549,
          33209,
          12860,
          111027,
          13109,
          63267,
          60090,
          171792,
          14612,
          14978,
          71735,
          46211,
          13843,
          66220,
          73085,
          69596,
          24236,
          25409,
          51996,
          23101,
          67500,
          43361,
          23368,
          42954,
          24014,
          29290,
          27075,
          67198,
          31031,
          28055,
          70113,
          36639,
          52145,
          54567,
          39482,
          32861,
          50504,
          35891,
          43243,
          53965,
          59725,
          55683,
          56353,
          45682,
          50603,
          44805,
          51077,
          63230,
          47784,
          39200,
          5226,
          5625,
          23485,
          24535,
          691,
          54545,
          125230,
          85620,
          57337,
          27201,
          25502,
          68287,
          39496,
          65764,
          30663,
          18885,
          77448,
          28069,
          36681,
          73406,
          60401,
          77476,
          46946,
          30821,
          50545,
          10933,
          50434,
          140292,
          37862,
          31527,
          40032,
          157076,
          41509,
          37887,
          49802,
          41245,
          57425,
          65675,
          47405,
          67977,
          142252,
          61404,
          37453
         ],
         "xaxis": "x",
         "y": [
          27293,
          37175,
          31789,
          11799,
          45482,
          27998,
          40675,
          45850,
          34120,
          7902,
          28998,
          18998,
          19998,
          37250,
          34000,
          24998,
          36099,
          45990,
          44920,
          31110,
          15900,
          9999,
          6999,
          26988,
          35990,
          27199,
          30998,
          30998,
          38590,
          37500,
          29998,
          10999,
          33998,
          31590,
          28998,
          41998,
          28998,
          43998,
          38998,
          28998,
          42998,
          31998,
          33990,
          30998,
          34299,
          26998,
          24998,
          15200,
          39998,
          40500,
          22359,
          32890,
          36590,
          5900,
          31998,
          28998,
          35461,
          32998,
          36998,
          13623,
          41500,
          35998,
          29998,
          24998,
          25998,
          40998,
          28998,
          34359,
          31998,
          44759,
          32990,
          39590,
          27998,
          34998,
          30998,
          33998,
          41759,
          29998,
          41000,
          28998,
          22998,
          36998,
          26590,
          28998,
          55989,
          29998,
          40998,
          31998,
          34998,
          32998,
          28998,
          34998,
          29554,
          33998,
          55998,
          41998,
          28417,
          35998,
          39422,
          27998,
          41998,
          39998,
          30998,
          37998,
          32990,
          27998,
          49500,
          33998,
          26998,
          51990,
          39899,
          28998,
          33588,
          28998,
          34998,
          10999,
          31998,
          27998,
          27998,
          27998,
          30998,
          39990,
          33990,
          26787,
          21749,
          28998,
          30998,
          38590,
          32590,
          23797,
          30998,
          25998,
          33998,
          26998,
          12359,
          31590,
          30998,
          26998,
          35193,
          31998,
          44359,
          25998,
          25199,
          30998,
          26998,
          34998,
          40991,
          32998,
          38000,
          27998,
          37990,
          26998,
          41998,
          31998,
          37998,
          25998,
          39998,
          26998,
          41998,
          30998,
          40998,
          9500,
          41998,
          24998,
          24998,
          8999,
          37998,
          33998,
          17998,
          19590,
          48500,
          18998,
          18998,
          18998,
          30998,
          45759,
          19998,
          37998,
          19998,
          20998,
          37998,
          24590,
          37998,
          28998,
          32998,
          24590,
          38590,
          32590,
          24990,
          29998,
          25998,
          25998,
          28998,
          35590,
          24998,
          32998,
          40590,
          26998,
          26998,
          26998,
          26998,
          27998,
          27998,
          28998,
          32590,
          27998,
          28998,
          20590,
          37998,
          38998,
          33998,
          31998,
          53990,
          20998,
          10899,
          12997,
          23990,
          32998,
          42998,
          23628,
          38990,
          22998,
          29998,
          43590,
          22498,
          41998,
          26904,
          15990,
          16590,
          17590,
          25998,
          29990,
          34998,
          38990,
          24990,
          8359,
          29590,
          32590,
          30590,
          12719,
          28990,
          32590,
          32990,
          32590,
          16590,
          18990,
          19990,
          19590,
          7999,
          16590,
          35000
         ],
         "yaxis": "y"
        }
       ],
       "layout": {
        "coloraxis": {
         "colorbar": {
          "title": {
           "text": "Year"
          }
         },
         "colorscale": [
          [
           0,
           "#0d0887"
          ],
          [
           0.1111111111111111,
           "#46039f"
          ],
          [
           0.2222222222222222,
           "#7201a8"
          ],
          [
           0.3333333333333333,
           "#9c179e"
          ],
          [
           0.4444444444444444,
           "#bd3786"
          ],
          [
           0.5555555555555556,
           "#d8576b"
          ],
          [
           0.6666666666666666,
           "#ed7953"
          ],
          [
           0.7777777777777778,
           "#fb9f3a"
          ],
          [
           0.8888888888888888,
           "#fdca26"
          ],
          [
           1,
           "#f0f921"
          ]
         ]
        },
        "height": 800,
        "legend": {
         "tracegroupgap": 0
        },
        "template": {
         "data": {
          "bar": [
           {
            "error_x": {
             "color": "#2a3f5f"
            },
            "error_y": {
             "color": "#2a3f5f"
            },
            "marker": {
             "line": {
              "color": "#E5ECF6",
              "width": 0.5
             },
             "pattern": {
              "fillmode": "overlay",
              "size": 10,
              "solidity": 0.2
             }
            },
            "type": "bar"
           }
          ],
          "barpolar": [
           {
            "marker": {
             "line": {
              "color": "#E5ECF6",
              "width": 0.5
             },
             "pattern": {
              "fillmode": "overlay",
              "size": 10,
              "solidity": 0.2
             }
            },
            "type": "barpolar"
           }
          ],
          "carpet": [
           {
            "aaxis": {
             "endlinecolor": "#2a3f5f",
             "gridcolor": "white",
             "linecolor": "white",
             "minorgridcolor": "white",
             "startlinecolor": "#2a3f5f"
            },
            "baxis": {
             "endlinecolor": "#2a3f5f",
             "gridcolor": "white",
             "linecolor": "white",
             "minorgridcolor": "white",
             "startlinecolor": "#2a3f5f"
            },
            "type": "carpet"
           }
          ],
          "choropleth": [
           {
            "colorbar": {
             "outlinewidth": 0,
             "ticks": ""
            },
            "type": "choropleth"
           }
          ],
          "contour": [
           {
            "colorbar": {
             "outlinewidth": 0,
             "ticks": ""
            },
            "colorscale": [
             [
              0,
              "#0d0887"
             ],
             [
              0.1111111111111111,
              "#46039f"
             ],
             [
              0.2222222222222222,
              "#7201a8"
             ],
             [
              0.3333333333333333,
              "#9c179e"
             ],
             [
              0.4444444444444444,
              "#bd3786"
             ],
             [
              0.5555555555555556,
              "#d8576b"
             ],
             [
              0.6666666666666666,
              "#ed7953"
             ],
             [
              0.7777777777777778,
              "#fb9f3a"
             ],
             [
              0.8888888888888888,
              "#fdca26"
             ],
             [
              1,
              "#f0f921"
             ]
            ],
            "type": "contour"
           }
          ],
          "contourcarpet": [
           {
            "colorbar": {
             "outlinewidth": 0,
             "ticks": ""
            },
            "type": "contourcarpet"
           }
          ],
          "heatmap": [
           {
            "colorbar": {
             "outlinewidth": 0,
             "ticks": ""
            },
            "colorscale": [
             [
              0,
              "#0d0887"
             ],
             [
              0.1111111111111111,
              "#46039f"
             ],
             [
              0.2222222222222222,
              "#7201a8"
             ],
             [
              0.3333333333333333,
              "#9c179e"
             ],
             [
              0.4444444444444444,
              "#bd3786"
             ],
             [
              0.5555555555555556,
              "#d8576b"
             ],
             [
              0.6666666666666666,
              "#ed7953"
             ],
             [
              0.7777777777777778,
              "#fb9f3a"
             ],
             [
              0.8888888888888888,
              "#fdca26"
             ],
             [
              1,
              "#f0f921"
             ]
            ],
            "type": "heatmap"
           }
          ],
          "heatmapgl": [
           {
            "colorbar": {
             "outlinewidth": 0,
             "ticks": ""
            },
            "colorscale": [
             [
              0,
              "#0d0887"
             ],
             [
              0.1111111111111111,
              "#46039f"
             ],
             [
              0.2222222222222222,
              "#7201a8"
             ],
             [
              0.3333333333333333,
              "#9c179e"
             ],
             [
              0.4444444444444444,
              "#bd3786"
             ],
             [
              0.5555555555555556,
              "#d8576b"
             ],
             [
              0.6666666666666666,
              "#ed7953"
             ],
             [
              0.7777777777777778,
              "#fb9f3a"
             ],
             [
              0.8888888888888888,
              "#fdca26"
             ],
             [
              1,
              "#f0f921"
             ]
            ],
            "type": "heatmapgl"
           }
          ],
          "histogram": [
           {
            "marker": {
             "pattern": {
              "fillmode": "overlay",
              "size": 10,
              "solidity": 0.2
             }
            },
            "type": "histogram"
           }
          ],
          "histogram2d": [
           {
            "colorbar": {
             "outlinewidth": 0,
             "ticks": ""
            },
            "colorscale": [
             [
              0,
              "#0d0887"
             ],
             [
              0.1111111111111111,
              "#46039f"
             ],
             [
              0.2222222222222222,
              "#7201a8"
             ],
             [
              0.3333333333333333,
              "#9c179e"
             ],
             [
              0.4444444444444444,
              "#bd3786"
             ],
             [
              0.5555555555555556,
              "#d8576b"
             ],
             [
              0.6666666666666666,
              "#ed7953"
             ],
             [
              0.7777777777777778,
              "#fb9f3a"
             ],
             [
              0.8888888888888888,
              "#fdca26"
             ],
             [
              1,
              "#f0f921"
             ]
            ],
            "type": "histogram2d"
           }
          ],
          "histogram2dcontour": [
           {
            "colorbar": {
             "outlinewidth": 0,
             "ticks": ""
            },
            "colorscale": [
             [
              0,
              "#0d0887"
             ],
             [
              0.1111111111111111,
              "#46039f"
             ],
             [
              0.2222222222222222,
              "#7201a8"
             ],
             [
              0.3333333333333333,
              "#9c179e"
             ],
             [
              0.4444444444444444,
              "#bd3786"
             ],
             [
              0.5555555555555556,
              "#d8576b"
             ],
             [
              0.6666666666666666,
              "#ed7953"
             ],
             [
              0.7777777777777778,
              "#fb9f3a"
             ],
             [
              0.8888888888888888,
              "#fdca26"
             ],
             [
              1,
              "#f0f921"
             ]
            ],
            "type": "histogram2dcontour"
           }
          ],
          "mesh3d": [
           {
            "colorbar": {
             "outlinewidth": 0,
             "ticks": ""
            },
            "type": "mesh3d"
           }
          ],
          "parcoords": [
           {
            "line": {
             "colorbar": {
              "outlinewidth": 0,
              "ticks": ""
             }
            },
            "type": "parcoords"
           }
          ],
          "pie": [
           {
            "automargin": true,
            "type": "pie"
           }
          ],
          "scatter": [
           {
            "fillpattern": {
             "fillmode": "overlay",
             "size": 10,
             "solidity": 0.2
            },
            "type": "scatter"
           }
          ],
          "scatter3d": [
           {
            "line": {
             "colorbar": {
              "outlinewidth": 0,
              "ticks": ""
             }
            },
            "marker": {
             "colorbar": {
              "outlinewidth": 0,
              "ticks": ""
             }
            },
            "type": "scatter3d"
           }
          ],
          "scattercarpet": [
           {
            "marker": {
             "colorbar": {
              "outlinewidth": 0,
              "ticks": ""
             }
            },
            "type": "scattercarpet"
           }
          ],
          "scattergeo": [
           {
            "marker": {
             "colorbar": {
              "outlinewidth": 0,
              "ticks": ""
             }
            },
            "type": "scattergeo"
           }
          ],
          "scattergl": [
           {
            "marker": {
             "colorbar": {
              "outlinewidth": 0,
              "ticks": ""
             }
            },
            "type": "scattergl"
           }
          ],
          "scattermapbox": [
           {
            "marker": {
             "colorbar": {
              "outlinewidth": 0,
              "ticks": ""
             }
            },
            "type": "scattermapbox"
           }
          ],
          "scatterpolar": [
           {
            "marker": {
             "colorbar": {
              "outlinewidth": 0,
              "ticks": ""
             }
            },
            "type": "scatterpolar"
           }
          ],
          "scatterpolargl": [
           {
            "marker": {
             "colorbar": {
              "outlinewidth": 0,
              "ticks": ""
             }
            },
            "type": "scatterpolargl"
           }
          ],
          "scatterternary": [
           {
            "marker": {
             "colorbar": {
              "outlinewidth": 0,
              "ticks": ""
             }
            },
            "type": "scatterternary"
           }
          ],
          "surface": [
           {
            "colorbar": {
             "outlinewidth": 0,
             "ticks": ""
            },
            "colorscale": [
             [
              0,
              "#0d0887"
             ],
             [
              0.1111111111111111,
              "#46039f"
             ],
             [
              0.2222222222222222,
              "#7201a8"
             ],
             [
              0.3333333333333333,
              "#9c179e"
             ],
             [
              0.4444444444444444,
              "#bd3786"
             ],
             [
              0.5555555555555556,
              "#d8576b"
             ],
             [
              0.6666666666666666,
              "#ed7953"
             ],
             [
              0.7777777777777778,
              "#fb9f3a"
             ],
             [
              0.8888888888888888,
              "#fdca26"
             ],
             [
              1,
              "#f0f921"
             ]
            ],
            "type": "surface"
           }
          ],
          "table": [
           {
            "cells": {
             "fill": {
              "color": "#EBF0F8"
             },
             "line": {
              "color": "white"
             }
            },
            "header": {
             "fill": {
              "color": "#C8D4E3"
             },
             "line": {
              "color": "white"
             }
            },
            "type": "table"
           }
          ]
         },
         "layout": {
          "annotationdefaults": {
           "arrowcolor": "#2a3f5f",
           "arrowhead": 0,
           "arrowwidth": 1
          },
          "autotypenumbers": "strict",
          "coloraxis": {
           "colorbar": {
            "outlinewidth": 0,
            "ticks": ""
           }
          },
          "colorscale": {
           "diverging": [
            [
             0,
             "#8e0152"
            ],
            [
             0.1,
             "#c51b7d"
            ],
            [
             0.2,
             "#de77ae"
            ],
            [
             0.3,
             "#f1b6da"
            ],
            [
             0.4,
             "#fde0ef"
            ],
            [
             0.5,
             "#f7f7f7"
            ],
            [
             0.6,
             "#e6f5d0"
            ],
            [
             0.7,
             "#b8e186"
            ],
            [
             0.8,
             "#7fbc41"
            ],
            [
             0.9,
             "#4d9221"
            ],
            [
             1,
             "#276419"
            ]
           ],
           "sequential": [
            [
             0,
             "#0d0887"
            ],
            [
             0.1111111111111111,
             "#46039f"
            ],
            [
             0.2222222222222222,
             "#7201a8"
            ],
            [
             0.3333333333333333,
             "#9c179e"
            ],
            [
             0.4444444444444444,
             "#bd3786"
            ],
            [
             0.5555555555555556,
             "#d8576b"
            ],
            [
             0.6666666666666666,
             "#ed7953"
            ],
            [
             0.7777777777777778,
             "#fb9f3a"
            ],
            [
             0.8888888888888888,
             "#fdca26"
            ],
            [
             1,
             "#f0f921"
            ]
           ],
           "sequentialminus": [
            [
             0,
             "#0d0887"
            ],
            [
             0.1111111111111111,
             "#46039f"
            ],
            [
             0.2222222222222222,
             "#7201a8"
            ],
            [
             0.3333333333333333,
             "#9c179e"
            ],
            [
             0.4444444444444444,
             "#bd3786"
            ],
            [
             0.5555555555555556,
             "#d8576b"
            ],
            [
             0.6666666666666666,
             "#ed7953"
            ],
            [
             0.7777777777777778,
             "#fb9f3a"
            ],
            [
             0.8888888888888888,
             "#fdca26"
            ],
            [
             1,
             "#f0f921"
            ]
           ]
          },
          "colorway": [
           "#636efa",
           "#EF553B",
           "#00cc96",
           "#ab63fa",
           "#FFA15A",
           "#19d3f3",
           "#FF6692",
           "#B6E880",
           "#FF97FF",
           "#FECB52"
          ],
          "font": {
           "color": "#2a3f5f"
          },
          "geo": {
           "bgcolor": "white",
           "lakecolor": "white",
           "landcolor": "#E5ECF6",
           "showlakes": true,
           "showland": true,
           "subunitcolor": "white"
          },
          "hoverlabel": {
           "align": "left"
          },
          "hovermode": "closest",
          "mapbox": {
           "style": "light"
          },
          "paper_bgcolor": "white",
          "plot_bgcolor": "#E5ECF6",
          "polar": {
           "angularaxis": {
            "gridcolor": "white",
            "linecolor": "white",
            "ticks": ""
           },
           "bgcolor": "#E5ECF6",
           "radialaxis": {
            "gridcolor": "white",
            "linecolor": "white",
            "ticks": ""
           }
          },
          "scene": {
           "xaxis": {
            "backgroundcolor": "#E5ECF6",
            "gridcolor": "white",
            "gridwidth": 2,
            "linecolor": "white",
            "showbackground": true,
            "ticks": "",
            "zerolinecolor": "white"
           },
           "yaxis": {
            "backgroundcolor": "#E5ECF6",
            "gridcolor": "white",
            "gridwidth": 2,
            "linecolor": "white",
            "showbackground": true,
            "ticks": "",
            "zerolinecolor": "white"
           },
           "zaxis": {
            "backgroundcolor": "#E5ECF6",
            "gridcolor": "white",
            "gridwidth": 2,
            "linecolor": "white",
            "showbackground": true,
            "ticks": "",
            "zerolinecolor": "white"
           }
          },
          "shapedefaults": {
           "line": {
            "color": "#2a3f5f"
           }
          },
          "ternary": {
           "aaxis": {
            "gridcolor": "white",
            "linecolor": "white",
            "ticks": ""
           },
           "baxis": {
            "gridcolor": "white",
            "linecolor": "white",
            "ticks": ""
           },
           "bgcolor": "#E5ECF6",
           "caxis": {
            "gridcolor": "white",
            "linecolor": "white",
            "ticks": ""
           }
          },
          "title": {
           "x": 0.05
          },
          "xaxis": {
           "automargin": true,
           "gridcolor": "white",
           "linecolor": "white",
           "ticks": "",
           "title": {
            "standoff": 15
           },
           "zerolinecolor": "white",
           "zerolinewidth": 2
          },
          "yaxis": {
           "automargin": true,
           "gridcolor": "white",
           "linecolor": "white",
           "ticks": "",
           "title": {
            "standoff": 15
           },
           "zerolinecolor": "white",
           "zerolinewidth": 2
          }
         }
        },
        "title": {
         "text": "Volvo XC60 Price vs Mileage"
        },
        "xaxis": {
         "anchor": "y",
         "domain": [
          0,
          1
         ],
         "title": {
          "text": "Mileage"
         }
        },
        "yaxis": {
         "anchor": "x",
         "domain": [
          0,
          1
         ],
         "tickprefix": "$",
         "title": {
          "text": "Price"
         }
        }
       }
      }
     },
     "metadata": {},
     "output_type": "display_data"
    }
   ],
   "source": [
    "#pull the new csv as a dataframe\n",
    "volvo_df_clean = pd.read_csv('volvo_data_clean.csv')\n",
    "\n",
    "#scatterplot using plotly\n",
    "fig = px.scatter(volvo_df_clean, x='Mileage', y='Price', title='Price vs Year', color=\"Year\")\n",
    "fig.update_layout(height=800)\n",
    "fig.update_yaxes(tickprefix=\"$\")\n",
    "fig.update_layout(title=\"Volvo XC60 Price vs Mileage\")\n",
    "fig.show()\n"
   ]
  },
  {
   "cell_type": "code",
   "execution_count": 35,
   "metadata": {},
   "outputs": [
    {
     "data": {
      "application/vnd.plotly.v1+json": {
       "config": {
        "plotlyServerURL": "https://plot.ly"
       },
       "data": [
        {
         "mode": "markers",
         "name": "Actual",
         "type": "scatter",
         "x": [
          39106,
          32922,
          24514,
          83670,
          22964,
          48894,
          30553,
          11527,
          24259,
          165954,
          49321,
          65123,
          56135,
          30156,
          31890,
          71641,
          35568,
          15964,
          21216,
          61143,
          90573,
          113925,
          123615,
          99033,
          14541,
          32006,
          23237,
          10991,
          10028,
          32723,
          33051,
          114773,
          12890,
          26467,
          42285,
          7107,
          51765,
          13203,
          11004,
          42172,
          5498,
          30046,
          38656,
          38132,
          14242,
          42431,
          72364,
          65529,
          14868,
          12111,
          84810,
          22507,
          23387,
          159490,
          27428,
          32475,
          22018,
          45007,
          20100,
          93137,
          10750,
          21110,
          37818,
          42582,
          34540,
          12553,
          48058,
          21050,
          42274,
          25496,
          31172,
          38035,
          56994,
          17585,
          33751,
          34205,
          12505,
          41842,
          13650,
          34777,
          53485,
          5051,
          50621,
          44208,
          5861,
          53134,
          7252,
          11882,
          38747,
          14232,
          43317,
          34294,
          28178,
          39738,
          11285,
          11812,
          27813,
          35480,
          14429,
          20455,
          8274,
          16008,
          18679,
          18265,
          20599,
          45521,
          11069,
          20419,
          42431,
          14266,
          22415,
          26954,
          26335,
          36120,
          24037,
          105635,
          26653,
          30120,
          41565,
          59617,
          33751,
          32371,
          28640,
          76740,
          74623,
          38444,
          34133,
          13424,
          20585,
          54329,
          33325,
          43955,
          27374,
          43831,
          140499,
          21863,
          34655,
          42365,
          28453,
          30448,
          34802,
          52141,
          82166,
          37284,
          36953,
          35010,
          27368,
          28998,
          29224,
          34022,
          15825,
          36953,
          10811,
          30448,
          11933,
          52060,
          11837,
          39091,
          12549,
          33209,
          12860,
          111027,
          13109,
          63267,
          60090,
          171792,
          14612,
          14978,
          71735,
          46211,
          13843,
          66220,
          73085,
          69596,
          24236,
          25409,
          51996,
          23101,
          67500,
          43361,
          23368,
          42954,
          24014,
          29290,
          27075,
          67198,
          31031,
          28055,
          70113,
          36639,
          52145,
          54567,
          39482,
          32861,
          50504,
          35891,
          43243,
          53965,
          59725,
          55683,
          56353,
          45682,
          50603,
          44805,
          51077,
          63230,
          47784,
          39200,
          5226,
          5625,
          23485,
          24535,
          691,
          54545,
          125230,
          85620,
          57337,
          27201,
          25502,
          68287,
          39496,
          65764,
          30663,
          18885,
          77448,
          28069,
          36681,
          73406,
          60401,
          77476,
          46946,
          30821,
          50545,
          10933,
          50434,
          140292,
          37862,
          31527,
          40032,
          157076,
          41509,
          37887,
          49802,
          41245,
          57425,
          65675,
          47405,
          67977,
          142252,
          61404,
          37453
         ],
         "y": [
          27293,
          37175,
          31789,
          11799,
          45482,
          27998,
          40675,
          45850,
          34120,
          7902,
          28998,
          18998,
          19998,
          37250,
          34000,
          24998,
          36099,
          45990,
          44920,
          31110,
          15900,
          9999,
          6999,
          26988,
          35990,
          27199,
          30998,
          30998,
          38590,
          37500,
          29998,
          10999,
          33998,
          31590,
          28998,
          41998,
          28998,
          43998,
          38998,
          28998,
          42998,
          31998,
          33990,
          30998,
          34299,
          26998,
          24998,
          15200,
          39998,
          40500,
          22359,
          32890,
          36590,
          5900,
          31998,
          28998,
          35461,
          32998,
          36998,
          13623,
          41500,
          35998,
          29998,
          24998,
          25998,
          40998,
          28998,
          34359,
          31998,
          44759,
          32990,
          39590,
          27998,
          34998,
          30998,
          33998,
          41759,
          29998,
          41000,
          28998,
          22998,
          36998,
          26590,
          28998,
          55989,
          29998,
          40998,
          31998,
          34998,
          32998,
          28998,
          34998,
          29554,
          33998,
          55998,
          41998,
          28417,
          35998,
          39422,
          27998,
          41998,
          39998,
          30998,
          37998,
          32990,
          27998,
          49500,
          33998,
          26998,
          51990,
          39899,
          28998,
          33588,
          28998,
          34998,
          10999,
          31998,
          27998,
          27998,
          27998,
          30998,
          39990,
          33990,
          26787,
          21749,
          28998,
          30998,
          38590,
          32590,
          23797,
          30998,
          25998,
          33998,
          26998,
          12359,
          31590,
          30998,
          26998,
          35193,
          31998,
          44359,
          25998,
          25199,
          30998,
          26998,
          34998,
          40991,
          32998,
          38000,
          27998,
          37990,
          26998,
          41998,
          31998,
          37998,
          25998,
          39998,
          26998,
          41998,
          30998,
          40998,
          9500,
          41998,
          24998,
          24998,
          8999,
          37998,
          33998,
          17998,
          19590,
          48500,
          18998,
          18998,
          18998,
          30998,
          45759,
          19998,
          37998,
          19998,
          20998,
          37998,
          24590,
          37998,
          28998,
          32998,
          24590,
          38590,
          32590,
          24990,
          29998,
          25998,
          25998,
          28998,
          35590,
          24998,
          32998,
          40590,
          26998,
          26998,
          26998,
          26998,
          27998,
          27998,
          28998,
          32590,
          27998,
          28998,
          20590,
          37998,
          38998,
          33998,
          31998,
          53990,
          20998,
          10899,
          12997,
          23990,
          32998,
          42998,
          23628,
          38990,
          22998,
          29998,
          43590,
          22498,
          41998,
          26904,
          15990,
          16590,
          17590,
          25998,
          29990,
          34998,
          38990,
          24990,
          8359,
          29590,
          32590,
          30590,
          12719,
          28990,
          32590,
          32990,
          32590,
          16590,
          18990,
          19990,
          19590,
          7999,
          16590,
          35000
         ]
        },
        {
         "mode": "lines",
         "name": "Predicted",
         "type": "scatter",
         "x": [
          39106,
          32922,
          24514,
          83670,
          22964,
          48894,
          30553,
          11527,
          24259,
          165954,
          49321,
          65123,
          56135,
          30156,
          31890,
          71641,
          35568,
          15964,
          21216,
          61143,
          90573,
          113925,
          123615,
          99033,
          14541,
          32006,
          23237,
          10991,
          10028,
          32723,
          33051,
          114773,
          12890,
          26467,
          42285,
          7107,
          51765,
          13203,
          11004,
          42172,
          5498,
          30046,
          38656,
          38132,
          14242,
          42431,
          72364,
          65529,
          14868,
          12111,
          84810,
          22507,
          23387,
          159490,
          27428,
          32475,
          22018,
          45007,
          20100,
          93137,
          10750,
          21110,
          37818,
          42582,
          34540,
          12553,
          48058,
          21050,
          42274,
          25496,
          31172,
          38035,
          56994,
          17585,
          33751,
          34205,
          12505,
          41842,
          13650,
          34777,
          53485,
          5051,
          50621,
          44208,
          5861,
          53134,
          7252,
          11882,
          38747,
          14232,
          43317,
          34294,
          28178,
          39738,
          11285,
          11812,
          27813,
          35480,
          14429,
          20455,
          8274,
          16008,
          18679,
          18265,
          20599,
          45521,
          11069,
          20419,
          42431,
          14266,
          22415,
          26954,
          26335,
          36120,
          24037,
          105635,
          26653,
          30120,
          41565,
          59617,
          33751,
          32371,
          28640,
          76740,
          74623,
          38444,
          34133,
          13424,
          20585,
          54329,
          33325,
          43955,
          27374,
          43831,
          140499,
          21863,
          34655,
          42365,
          28453,
          30448,
          34802,
          52141,
          82166,
          37284,
          36953,
          35010,
          27368,
          28998,
          29224,
          34022,
          15825,
          36953,
          10811,
          30448,
          11933,
          52060,
          11837,
          39091,
          12549,
          33209,
          12860,
          111027,
          13109,
          63267,
          60090,
          171792,
          14612,
          14978,
          71735,
          46211,
          13843,
          66220,
          73085,
          69596,
          24236,
          25409,
          51996,
          23101,
          67500,
          43361,
          23368,
          42954,
          24014,
          29290,
          27075,
          67198,
          31031,
          28055,
          70113,
          36639,
          52145,
          54567,
          39482,
          32861,
          50504,
          35891,
          43243,
          53965,
          59725,
          55683,
          56353,
          45682,
          50603,
          44805,
          51077,
          63230,
          47784,
          39200,
          5226,
          5625,
          23485,
          24535,
          691,
          54545,
          125230,
          85620,
          57337,
          27201,
          25502,
          68287,
          39496,
          65764,
          30663,
          18885,
          77448,
          28069,
          36681,
          73406,
          60401,
          77476,
          46946,
          30821,
          50545,
          10933,
          50434,
          140292,
          37862,
          31527,
          40032,
          157076,
          41509,
          37887,
          49802,
          41245,
          57425,
          65675,
          47405,
          67977,
          142252,
          61404,
          37453
         ],
         "y": [
          31318.91800073305,
          32922.412280094766,
          35102.58367415577,
          19763.594736587624,
          35504.49443305142,
          28780.91638262302,
          33536.68749804559,
          38470.077239173654,
          35168.7044764257,
          -1572.4213182311214,
          28670.196450978867,
          24572.781088353742,
          26903.34489542086,
          33639.628511775634,
          33190.007056340124,
          22882.681522881612,
          32236.311720070335,
          37319.5752796769,
          35957.74605018018,
          25604.784198292233,
          17973.665724551094,
          11918.556020208485,
          9405.96553395121,
          15780.010872772298,
          37688.55528606948,
          33159.9285737389,
          35433.706280033024,
          38609.0605725724,
          38858.763837615305,
          32974.01243559169,
          32888.9629330641,
          11698.671940502998,
          38116.65506860929,
          34596.17611794727,
          30494.611999101282,
          39616.17114518574,
          28036.473938242772,
          38035.49502503875,
          38605.689708142956,
          30523.91258991109,
          40033.3804426458,
          33668.151210794036,
          31435.601769444693,
          31571.473535677796,
          37766.08516794677,
          30456.754598585947,
          22695.209601151582,
          24467.506399249465,
          37603.765080805686,
          38318.64763711233,
          19467.995855851474,
          35622.99328260968,
          35394.81169046248,
          103.6761949956126,
          34346.99144743197,
          33038.31815701499,
          35749.78964460966,
          29788.80484702777,
          36247.121796585045,
          17308.82754015856,
          38671.55121314908,
          35985.231560143366,
          31652.89287651214,
          30417.6007117516,
          32502.869307260473,
          38204.03824651112,
          28997.688895162864,
          36000.78939597159,
          30497.464269003118,
          34847.9537611006,
          33376.18249175113,
          31596.625370266753,
          26680.608545813535,
          36899.2544150512,
          32707.454848401547,
          32589.733890634692,
          38216.48451517369,
          30609.480686966293,
          37919.589148118524,
          32441.41585573901,
          27590.48264450051,
          40149.286319566025,
          28333.110008034135,
          29995.98336080688,
          39939.25553588508,
          27681.495984095585,
          39578.573041934214,
          38378.02671052336,
          31412.00571843856,
          37768.6781405848,
          30227.017222855924,
          32566.65643415617,
          34152.51849957924,
          31155.042130009155,
          38532.82717701413,
          38396.177518989614,
          34247.16200086757,
          32259.129879285054,
          37717.596579615485,
          36155.07126793475,
          39313.57123832689,
          37308.166200069536,
          36615.583208450014,
          36722.93227566472,
          36117.732461947024,
          29655.526053432703,
          38588.83538599572,
          36164.40596943168,
          30456.754598585947,
          37759.86203361548,
          35646.84863087961,
          34469.89835047489,
          34630.40335676934,
          32093.179630450722,
          35226.26846899011,
          14068.130337140661,
          34547.94682687979,
          33648.96321327257,
          30681.3060290399,
          26000.471822856583,
          32707.454848401547,
          33065.28507245057,
          34032.72316370195,
          21560.524774746853,
          22109.457082219156,
          31490.572789371065,
          32608.40329362856,
          37978.19032973814,
          36121.36262364028,
          27371.635753850234,
          32817.9154827819,
          30061.5855685492,
          34360.99349967736,
          30093.738429260855,
          5027.990531890544,
          35789.980720499225,
          32473.050121923057,
          30473.86821799699,
          34081.21175203323,
          33563.91371074497,
          32434.93342414392,
          27938.9781670526,
          20153.5778213483,
          31791.357615383284,
          31877.18500970229,
          32380.99959327276,
          34362.54928326018,
          33939.89474326025,
          33881.293561640625,
          32637.18528991076,
          37355.617599345605,
          31877.18500970229,
          38655.73408005706,
          33563.91371074497,
          38364.80255006938,
          27959.981245420695,
          38389.695087394524,
          31322.807459690106,
          38205.07543556633,
          32847.993965383124,
          38124.4339865234,
          12669.999490711434,
          38059.86896783629,
          25054.0368099733,
          25877.82421707746,
          -3086.1987443167745,
          37670.14518033942,
          37575.24238178729,
          22858.30758008407,
          29476.610941408188,
          37869.54477620442,
          24288.33198996115,
          22508.25627394916,
          23412.944427360057,
          35174.66831349319,
          34870.512623051516,
          27976.57627030413,
          35468.97070791032,
          23956.43149229249,
          30215.608143248563,
          35399.738338474745,
          30321.142129616645,
          35232.232306057595,
          33864.17994222959,
          34438.52338155465,
          24034.739265961187,
          33412.74340594745,
          34184.412063027085,
          23278.887741973576,
          31958.604350536632,
          27937.940977997387,
          27309.92300506497,
          31221.422229542884,
          32938.22941318679,
          28363.44778789916,
          32152.55870386176,
          30246.205220377393,
          27466.019957874763,
          25972.46771836579,
          27020.547258660106,
          26846.818091911668,
          29613.779193960312,
          28337.7773587826,
          29841.18289431611,
          28214.870455739674,
          25063.630808734033,
          29068.73634544506,
          31294.544057935513,
          40103.90929840039,
          40000.449690142734,
          35369.40055860972,
          35097.138431615895,
          41279.8223897499,
          27315.62754486865,
          8987.200452908328,
          19257.965072170526,
          26591.669584328884,
          34405.851926315394,
          34846.39797751778,
          23752.364545679022,
          31217.792067849634,
          24406.57154225561,
          33508.16479902719,
          36562.167972106465,
          21376.942311973875,
          34180.78190133383,
          31947.71386545688,
          22425.02185226819,
          25797.18276803453,
          21369.681988587374,
          29286.027452512513,
          33467.19583134622,
          28352.816600083213,
          38624.099813873014,
          28381.598596365417,
          5081.665065497895,
          31641.48379690478,
          33284.131963100845,
          31078.808734450882,
          729.619789817596,
          30695.826675812903,
          31635.00136530969,
          28545.474467089316,
          30764.281153457065,
          26568.851425114168,
          24429.648998734134,
          29167.01000842664,
          23832.74669745815,
          4573.442428442766,
          25537.107612439482,
          31747.53637780047
         ]
        }
       ],
       "layout": {
        "height": 800,
        "template": {
         "data": {
          "bar": [
           {
            "error_x": {
             "color": "#2a3f5f"
            },
            "error_y": {
             "color": "#2a3f5f"
            },
            "marker": {
             "line": {
              "color": "#E5ECF6",
              "width": 0.5
             },
             "pattern": {
              "fillmode": "overlay",
              "size": 10,
              "solidity": 0.2
             }
            },
            "type": "bar"
           }
          ],
          "barpolar": [
           {
            "marker": {
             "line": {
              "color": "#E5ECF6",
              "width": 0.5
             },
             "pattern": {
              "fillmode": "overlay",
              "size": 10,
              "solidity": 0.2
             }
            },
            "type": "barpolar"
           }
          ],
          "carpet": [
           {
            "aaxis": {
             "endlinecolor": "#2a3f5f",
             "gridcolor": "white",
             "linecolor": "white",
             "minorgridcolor": "white",
             "startlinecolor": "#2a3f5f"
            },
            "baxis": {
             "endlinecolor": "#2a3f5f",
             "gridcolor": "white",
             "linecolor": "white",
             "minorgridcolor": "white",
             "startlinecolor": "#2a3f5f"
            },
            "type": "carpet"
           }
          ],
          "choropleth": [
           {
            "colorbar": {
             "outlinewidth": 0,
             "ticks": ""
            },
            "type": "choropleth"
           }
          ],
          "contour": [
           {
            "colorbar": {
             "outlinewidth": 0,
             "ticks": ""
            },
            "colorscale": [
             [
              0,
              "#0d0887"
             ],
             [
              0.1111111111111111,
              "#46039f"
             ],
             [
              0.2222222222222222,
              "#7201a8"
             ],
             [
              0.3333333333333333,
              "#9c179e"
             ],
             [
              0.4444444444444444,
              "#bd3786"
             ],
             [
              0.5555555555555556,
              "#d8576b"
             ],
             [
              0.6666666666666666,
              "#ed7953"
             ],
             [
              0.7777777777777778,
              "#fb9f3a"
             ],
             [
              0.8888888888888888,
              "#fdca26"
             ],
             [
              1,
              "#f0f921"
             ]
            ],
            "type": "contour"
           }
          ],
          "contourcarpet": [
           {
            "colorbar": {
             "outlinewidth": 0,
             "ticks": ""
            },
            "type": "contourcarpet"
           }
          ],
          "heatmap": [
           {
            "colorbar": {
             "outlinewidth": 0,
             "ticks": ""
            },
            "colorscale": [
             [
              0,
              "#0d0887"
             ],
             [
              0.1111111111111111,
              "#46039f"
             ],
             [
              0.2222222222222222,
              "#7201a8"
             ],
             [
              0.3333333333333333,
              "#9c179e"
             ],
             [
              0.4444444444444444,
              "#bd3786"
             ],
             [
              0.5555555555555556,
              "#d8576b"
             ],
             [
              0.6666666666666666,
              "#ed7953"
             ],
             [
              0.7777777777777778,
              "#fb9f3a"
             ],
             [
              0.8888888888888888,
              "#fdca26"
             ],
             [
              1,
              "#f0f921"
             ]
            ],
            "type": "heatmap"
           }
          ],
          "heatmapgl": [
           {
            "colorbar": {
             "outlinewidth": 0,
             "ticks": ""
            },
            "colorscale": [
             [
              0,
              "#0d0887"
             ],
             [
              0.1111111111111111,
              "#46039f"
             ],
             [
              0.2222222222222222,
              "#7201a8"
             ],
             [
              0.3333333333333333,
              "#9c179e"
             ],
             [
              0.4444444444444444,
              "#bd3786"
             ],
             [
              0.5555555555555556,
              "#d8576b"
             ],
             [
              0.6666666666666666,
              "#ed7953"
             ],
             [
              0.7777777777777778,
              "#fb9f3a"
             ],
             [
              0.8888888888888888,
              "#fdca26"
             ],
             [
              1,
              "#f0f921"
             ]
            ],
            "type": "heatmapgl"
           }
          ],
          "histogram": [
           {
            "marker": {
             "pattern": {
              "fillmode": "overlay",
              "size": 10,
              "solidity": 0.2
             }
            },
            "type": "histogram"
           }
          ],
          "histogram2d": [
           {
            "colorbar": {
             "outlinewidth": 0,
             "ticks": ""
            },
            "colorscale": [
             [
              0,
              "#0d0887"
             ],
             [
              0.1111111111111111,
              "#46039f"
             ],
             [
              0.2222222222222222,
              "#7201a8"
             ],
             [
              0.3333333333333333,
              "#9c179e"
             ],
             [
              0.4444444444444444,
              "#bd3786"
             ],
             [
              0.5555555555555556,
              "#d8576b"
             ],
             [
              0.6666666666666666,
              "#ed7953"
             ],
             [
              0.7777777777777778,
              "#fb9f3a"
             ],
             [
              0.8888888888888888,
              "#fdca26"
             ],
             [
              1,
              "#f0f921"
             ]
            ],
            "type": "histogram2d"
           }
          ],
          "histogram2dcontour": [
           {
            "colorbar": {
             "outlinewidth": 0,
             "ticks": ""
            },
            "colorscale": [
             [
              0,
              "#0d0887"
             ],
             [
              0.1111111111111111,
              "#46039f"
             ],
             [
              0.2222222222222222,
              "#7201a8"
             ],
             [
              0.3333333333333333,
              "#9c179e"
             ],
             [
              0.4444444444444444,
              "#bd3786"
             ],
             [
              0.5555555555555556,
              "#d8576b"
             ],
             [
              0.6666666666666666,
              "#ed7953"
             ],
             [
              0.7777777777777778,
              "#fb9f3a"
             ],
             [
              0.8888888888888888,
              "#fdca26"
             ],
             [
              1,
              "#f0f921"
             ]
            ],
            "type": "histogram2dcontour"
           }
          ],
          "mesh3d": [
           {
            "colorbar": {
             "outlinewidth": 0,
             "ticks": ""
            },
            "type": "mesh3d"
           }
          ],
          "parcoords": [
           {
            "line": {
             "colorbar": {
              "outlinewidth": 0,
              "ticks": ""
             }
            },
            "type": "parcoords"
           }
          ],
          "pie": [
           {
            "automargin": true,
            "type": "pie"
           }
          ],
          "scatter": [
           {
            "fillpattern": {
             "fillmode": "overlay",
             "size": 10,
             "solidity": 0.2
            },
            "type": "scatter"
           }
          ],
          "scatter3d": [
           {
            "line": {
             "colorbar": {
              "outlinewidth": 0,
              "ticks": ""
             }
            },
            "marker": {
             "colorbar": {
              "outlinewidth": 0,
              "ticks": ""
             }
            },
            "type": "scatter3d"
           }
          ],
          "scattercarpet": [
           {
            "marker": {
             "colorbar": {
              "outlinewidth": 0,
              "ticks": ""
             }
            },
            "type": "scattercarpet"
           }
          ],
          "scattergeo": [
           {
            "marker": {
             "colorbar": {
              "outlinewidth": 0,
              "ticks": ""
             }
            },
            "type": "scattergeo"
           }
          ],
          "scattergl": [
           {
            "marker": {
             "colorbar": {
              "outlinewidth": 0,
              "ticks": ""
             }
            },
            "type": "scattergl"
           }
          ],
          "scattermapbox": [
           {
            "marker": {
             "colorbar": {
              "outlinewidth": 0,
              "ticks": ""
             }
            },
            "type": "scattermapbox"
           }
          ],
          "scatterpolar": [
           {
            "marker": {
             "colorbar": {
              "outlinewidth": 0,
              "ticks": ""
             }
            },
            "type": "scatterpolar"
           }
          ],
          "scatterpolargl": [
           {
            "marker": {
             "colorbar": {
              "outlinewidth": 0,
              "ticks": ""
             }
            },
            "type": "scatterpolargl"
           }
          ],
          "scatterternary": [
           {
            "marker": {
             "colorbar": {
              "outlinewidth": 0,
              "ticks": ""
             }
            },
            "type": "scatterternary"
           }
          ],
          "surface": [
           {
            "colorbar": {
             "outlinewidth": 0,
             "ticks": ""
            },
            "colorscale": [
             [
              0,
              "#0d0887"
             ],
             [
              0.1111111111111111,
              "#46039f"
             ],
             [
              0.2222222222222222,
              "#7201a8"
             ],
             [
              0.3333333333333333,
              "#9c179e"
             ],
             [
              0.4444444444444444,
              "#bd3786"
             ],
             [
              0.5555555555555556,
              "#d8576b"
             ],
             [
              0.6666666666666666,
              "#ed7953"
             ],
             [
              0.7777777777777778,
              "#fb9f3a"
             ],
             [
              0.8888888888888888,
              "#fdca26"
             ],
             [
              1,
              "#f0f921"
             ]
            ],
            "type": "surface"
           }
          ],
          "table": [
           {
            "cells": {
             "fill": {
              "color": "#EBF0F8"
             },
             "line": {
              "color": "white"
             }
            },
            "header": {
             "fill": {
              "color": "#C8D4E3"
             },
             "line": {
              "color": "white"
             }
            },
            "type": "table"
           }
          ]
         },
         "layout": {
          "annotationdefaults": {
           "arrowcolor": "#2a3f5f",
           "arrowhead": 0,
           "arrowwidth": 1
          },
          "autotypenumbers": "strict",
          "coloraxis": {
           "colorbar": {
            "outlinewidth": 0,
            "ticks": ""
           }
          },
          "colorscale": {
           "diverging": [
            [
             0,
             "#8e0152"
            ],
            [
             0.1,
             "#c51b7d"
            ],
            [
             0.2,
             "#de77ae"
            ],
            [
             0.3,
             "#f1b6da"
            ],
            [
             0.4,
             "#fde0ef"
            ],
            [
             0.5,
             "#f7f7f7"
            ],
            [
             0.6,
             "#e6f5d0"
            ],
            [
             0.7,
             "#b8e186"
            ],
            [
             0.8,
             "#7fbc41"
            ],
            [
             0.9,
             "#4d9221"
            ],
            [
             1,
             "#276419"
            ]
           ],
           "sequential": [
            [
             0,
             "#0d0887"
            ],
            [
             0.1111111111111111,
             "#46039f"
            ],
            [
             0.2222222222222222,
             "#7201a8"
            ],
            [
             0.3333333333333333,
             "#9c179e"
            ],
            [
             0.4444444444444444,
             "#bd3786"
            ],
            [
             0.5555555555555556,
             "#d8576b"
            ],
            [
             0.6666666666666666,
             "#ed7953"
            ],
            [
             0.7777777777777778,
             "#fb9f3a"
            ],
            [
             0.8888888888888888,
             "#fdca26"
            ],
            [
             1,
             "#f0f921"
            ]
           ],
           "sequentialminus": [
            [
             0,
             "#0d0887"
            ],
            [
             0.1111111111111111,
             "#46039f"
            ],
            [
             0.2222222222222222,
             "#7201a8"
            ],
            [
             0.3333333333333333,
             "#9c179e"
            ],
            [
             0.4444444444444444,
             "#bd3786"
            ],
            [
             0.5555555555555556,
             "#d8576b"
            ],
            [
             0.6666666666666666,
             "#ed7953"
            ],
            [
             0.7777777777777778,
             "#fb9f3a"
            ],
            [
             0.8888888888888888,
             "#fdca26"
            ],
            [
             1,
             "#f0f921"
            ]
           ]
          },
          "colorway": [
           "#636efa",
           "#EF553B",
           "#00cc96",
           "#ab63fa",
           "#FFA15A",
           "#19d3f3",
           "#FF6692",
           "#B6E880",
           "#FF97FF",
           "#FECB52"
          ],
          "font": {
           "color": "#2a3f5f"
          },
          "geo": {
           "bgcolor": "white",
           "lakecolor": "white",
           "landcolor": "#E5ECF6",
           "showlakes": true,
           "showland": true,
           "subunitcolor": "white"
          },
          "hoverlabel": {
           "align": "left"
          },
          "hovermode": "closest",
          "mapbox": {
           "style": "light"
          },
          "paper_bgcolor": "white",
          "plot_bgcolor": "#E5ECF6",
          "polar": {
           "angularaxis": {
            "gridcolor": "white",
            "linecolor": "white",
            "ticks": ""
           },
           "bgcolor": "#E5ECF6",
           "radialaxis": {
            "gridcolor": "white",
            "linecolor": "white",
            "ticks": ""
           }
          },
          "scene": {
           "xaxis": {
            "backgroundcolor": "#E5ECF6",
            "gridcolor": "white",
            "gridwidth": 2,
            "linecolor": "white",
            "showbackground": true,
            "ticks": "",
            "zerolinecolor": "white"
           },
           "yaxis": {
            "backgroundcolor": "#E5ECF6",
            "gridcolor": "white",
            "gridwidth": 2,
            "linecolor": "white",
            "showbackground": true,
            "ticks": "",
            "zerolinecolor": "white"
           },
           "zaxis": {
            "backgroundcolor": "#E5ECF6",
            "gridcolor": "white",
            "gridwidth": 2,
            "linecolor": "white",
            "showbackground": true,
            "ticks": "",
            "zerolinecolor": "white"
           }
          },
          "shapedefaults": {
           "line": {
            "color": "#2a3f5f"
           }
          },
          "ternary": {
           "aaxis": {
            "gridcolor": "white",
            "linecolor": "white",
            "ticks": ""
           },
           "baxis": {
            "gridcolor": "white",
            "linecolor": "white",
            "ticks": ""
           },
           "bgcolor": "#E5ECF6",
           "caxis": {
            "gridcolor": "white",
            "linecolor": "white",
            "ticks": ""
           }
          },
          "title": {
           "x": 0.05
          },
          "xaxis": {
           "automargin": true,
           "gridcolor": "white",
           "linecolor": "white",
           "ticks": "",
           "title": {
            "standoff": 15
           },
           "zerolinecolor": "white",
           "zerolinewidth": 2
          },
          "yaxis": {
           "automargin": true,
           "gridcolor": "white",
           "linecolor": "white",
           "ticks": "",
           "title": {
            "standoff": 15
           },
           "zerolinecolor": "white",
           "zerolinewidth": 2
          }
         }
        },
        "title": {
         "text": "Linear Regression Model for Volvo XC60"
        },
        "xaxis": {
         "title": {
          "text": "Mileage"
         }
        },
        "yaxis": {
         "title": {
          "text": "Price"
         }
        }
       }
      }
     },
     "metadata": {},
     "output_type": "display_data"
    }
   ],
   "source": [
    "#use the volvo_df_clean to fit a linear regression model\n",
    "from sklearn.linear_model import LinearRegression\n",
    "from sklearn.model_selection import train_test_split\n",
    "from sklearn.metrics import mean_squared_error, r2_score\n",
    "\n",
    "# Split the data into training and testing sets\n",
    "x = volvo_df_clean[['Mileage']]\n",
    "y = volvo_df_clean['Price']\n",
    "\n",
    "\n",
    "# Create and fit the linear regression model\n",
    "\n",
    "volvo_model = LinearRegression()\n",
    "\n",
    "#model.fit(x.values.reshape(-1, 1), y) \n",
    "volvo_model.fit(x, y) \n",
    "#plot the model\n",
    "v_fig = go.Figure()\n",
    "v_fig.add_trace(go.Scatter(x=x['Mileage'], y=y, mode='markers', name='Actual'))\n",
    "v_fig.add_trace(go.Scatter(x=x['Mileage'], y=volvo_model.predict(x), mode='lines', name='Predicted'))\n",
    "v_fig.update_layout(title=\"Linear Regression Model for Volvo XC60\", height=800)\n",
    "v_fig.update_xaxes(title=\"Mileage\")\n",
    "v_fig.update_yaxes(title=\"Price\")\n",
    "v_fig.show()\n",
    "\n"
   ]
  },
  {
   "cell_type": "code",
   "execution_count": 36,
   "metadata": {},
   "outputs": [
    {
     "name": "stdout",
     "output_type": "stream",
     "text": [
      "Regression equation: predicted_price = 41459.0 -0.26 * mileage\n",
      "R^2: 0.71\n",
      "Standard Error: 4906.31\n"
     ]
    }
   ],
   "source": [
    "# Calculate the R^2 score\n",
    "from sklearn.metrics import mean_squared_error\n",
    "\n",
    "\n",
    "r2 = round(volvo_model.score(x, y), 2)\n",
    "\n",
    "# Calculate the mean squared error\n",
    "mse = mean_squared_error(y, volvo_model.predict(x))\n",
    "\n",
    "# Calculate the standard error (root mean squared error)\n",
    "standard_error = round(mse ** 0.5, 2)\n",
    "\n",
    "#print the regression equation\n",
    "print(f\"Regression equation: predicted_price = { round(volvo_model.intercept_, 2)} {round(volvo_model.coef_[0], 2)} * mileage\")\n",
    "print(f\"R^2: {r2}\")\n",
    "print(f\"Standard Error: {standard_error}\")\n",
    "\n"
   ]
  },
  {
   "cell_type": "markdown",
   "metadata": {},
   "source": [
    "# Predicting the price of a Rav4"
   ]
  },
  {
   "cell_type": "code",
   "execution_count": 37,
   "metadata": {},
   "outputs": [
    {
     "data": {
      "text/html": [
       "<div>\n",
       "<style scoped>\n",
       "    .dataframe tbody tr th:only-of-type {\n",
       "        vertical-align: middle;\n",
       "    }\n",
       "\n",
       "    .dataframe tbody tr th {\n",
       "        vertical-align: top;\n",
       "    }\n",
       "\n",
       "    .dataframe thead th {\n",
       "        text-align: right;\n",
       "    }\n",
       "</style>\n",
       "<table border=\"1\" class=\"dataframe\">\n",
       "  <thead>\n",
       "    <tr style=\"text-align: right;\">\n",
       "      <th></th>\n",
       "      <th>year</th>\n",
       "      <th>price</th>\n",
       "      <th>Mileage</th>\n",
       "    </tr>\n",
       "  </thead>\n",
       "  <tbody>\n",
       "    <tr>\n",
       "      <th>0</th>\n",
       "      <td>2019</td>\n",
       "      <td>22953</td>\n",
       "      <td>41706</td>\n",
       "    </tr>\n",
       "    <tr>\n",
       "      <th>1</th>\n",
       "      <td>2023</td>\n",
       "      <td>30798</td>\n",
       "      <td>36517</td>\n",
       "    </tr>\n",
       "    <tr>\n",
       "      <th>2</th>\n",
       "      <td>2023</td>\n",
       "      <td>28489</td>\n",
       "      <td>46231</td>\n",
       "    </tr>\n",
       "    <tr>\n",
       "      <th>3</th>\n",
       "      <td>2022</td>\n",
       "      <td>23189</td>\n",
       "      <td>58206</td>\n",
       "    </tr>\n",
       "    <tr>\n",
       "      <th>4</th>\n",
       "      <td>2023</td>\n",
       "      <td>41553</td>\n",
       "      <td>5794</td>\n",
       "    </tr>\n",
       "  </tbody>\n",
       "</table>\n",
       "</div>"
      ],
      "text/plain": [
       "   year  price  Mileage\n",
       "0  2019  22953    41706\n",
       "1  2023  30798    36517\n",
       "2  2023  28489    46231\n",
       "3  2022  23189    58206\n",
       "4  2023  41553     5794"
      ]
     },
     "metadata": {},
     "output_type": "display_data"
    }
   ],
   "source": [
    "#open the csv file called toyotarav4 and read it as a dataframe\n",
    "toyota_df = pd.read_csv('toyotarav4.csv')\n",
    "\n",
    "#convert the price, mileage and year to integer\n",
    "toyota_df['price'] = toyota_df['price'].str.replace('$', '').str.replace(',', '').astype(int)\n",
    "toyota_df['mileage'] = toyota_df['mileage'].str.replace(' miles', '').str.replace(',', '').astype(int)\n",
    "#rename mileage to Mileage\n",
    "toyota_df.rename(columns={'mileage': 'Mileage'}, inplace=True)\n",
    "toyota_df['year'] = toyota_df['year'].astype(int)\n",
    "\n",
    "#preview the first 5 rows of data\n",
    "display(toyota_df.head())\n",
    "\n"
   ]
  },
  {
   "cell_type": "code",
   "execution_count": 38,
   "metadata": {},
   "outputs": [
    {
     "data": {
      "application/vnd.plotly.v1+json": {
       "config": {
        "plotlyServerURL": "https://plot.ly"
       },
       "data": [
        {
         "hovertemplate": "Mileage=%{x}<br>price=%{y}<br>year=%{marker.color}<extra></extra>",
         "legendgroup": "",
         "marker": {
          "color": [
           2019,
           2023,
           2023,
           2022,
           2023,
           2019,
           2021,
           2022,
           2017,
           2023,
           2024,
           2022,
           2022,
           2020,
           2022,
           2022,
           2017,
           2021,
           2022,
           2023,
           2023,
           2021,
           2018,
           2022,
           2009,
           2023,
           2021,
           2023,
           2024,
           2018,
           2022,
           2009,
           2023,
           2024,
           2022,
           2015,
           2021,
           2017,
           2022,
           2016,
           2020,
           2023,
           2024,
           2023,
           2022,
           2024,
           2023,
           2022,
           2022,
           2023,
           2017,
           2022,
           2021,
           2018,
           2018,
           2022,
           2022,
           2020,
           2023,
           2022,
           2020,
           2021,
           2023,
           2014,
           2021,
           2022,
           2022,
           2022,
           2013,
           2022,
           2023,
           2022,
           2011,
           2016,
           2023,
           2024,
           2021,
           2021,
           2023,
           2022,
           2022,
           2024,
           2021,
           2022,
           2024,
           2012,
           2023,
           2023,
           2021,
           2017,
           2019,
           2023,
           2024,
           2021,
           2023,
           2020,
           2022,
           2024,
           2024,
           2022,
           2020,
           2011,
           2023,
           2023,
           2021,
           2022,
           2023,
           2022,
           2023,
           2022,
           2022,
           2023,
           2021,
           2011,
           2022,
           2021,
           2021,
           2018,
           2023,
           2024,
           2021,
           2023,
           2022,
           2023,
           2022,
           2021,
           2014,
           2022,
           2021,
           2011,
           2018,
           2014,
           2016,
           2022,
           2023,
           2022,
           2021,
           2022,
           2021,
           2023,
           2023,
           2012,
           2022,
           2023,
           2024,
           2022,
           2024,
           2023,
           2023,
           2023,
           2022,
           2023,
           2021,
           2017,
           2021,
           2022,
           2021,
           2022,
           2024,
           2021,
           2023,
           2017,
           2019,
           2022,
           2023,
           2023,
           2023,
           2024,
           2011,
           2010,
           2013,
           2023,
           2023,
           2018,
           2023,
           2021,
           2022,
           2022,
           2021,
           2020,
           2021,
           2017,
           2016,
           2022,
           2020,
           2013,
           2012,
           2021,
           2017,
           2021,
           2013,
           2020,
           2024,
           2023,
           2020,
           2023,
           2023,
           2018,
           2021,
           2023,
           2022,
           2014,
           2024,
           2022,
           2013,
           2024,
           2022,
           2020,
           2024,
           2020,
           2023,
           2024,
           2022,
           2022,
           2013,
           2024,
           2011,
           2023,
           2024,
           2023,
           2010,
           2019,
           2023,
           2019,
           2004,
           2022,
           2023,
           2019,
           2022,
           2019,
           2024,
           2024,
           2020,
           2023,
           2021,
           2023,
           2023,
           2012,
           2023,
           2021,
           2016,
           2023,
           2022,
           2024,
           2021,
           2022,
           2020,
           2021,
           2024,
           2022,
           2019,
           2023,
           2022,
           2021,
           2010,
           2021,
           2023,
           2020,
           2022,
           2020,
           2007,
           2022,
           2016,
           2022,
           2022,
           2022,
           2022,
           2019,
           2017,
           2021,
           2019,
           2023,
           2010,
           2023,
           2023,
           2020,
           2022,
           2024,
           2022,
           2021,
           2023,
           2023,
           2024,
           2023,
           2022,
           2022,
           2022,
           2023,
           2022,
           2022,
           2017,
           2023,
           2024,
           2019,
           2024,
           2020,
           2023,
           2024,
           2022,
           2023
          ],
          "coloraxis": "coloraxis",
          "symbol": "circle"
         },
         "mode": "markers",
         "name": "",
         "orientation": "v",
         "showlegend": false,
         "type": "scatter",
         "x": [
          41706,
          36517,
          46231,
          58206,
          5794,
          73319,
          36957,
          62737,
          55523,
          17529,
          9691,
          53609,
          40301,
          31983,
          74530,
          55502,
          74202,
          57361,
          22962,
          275,
          48201,
          58874,
          58140,
          21339,
          170240,
          39398,
          49205,
          16054,
          15546,
          150951,
          53812,
          195319,
          43359,
          12886,
          51416,
          149934,
          76628,
          81794,
          54491,
          99218,
          59150,
          23484,
          14194,
          39941,
          27123,
          14410,
          36298,
          61722,
          33221,
          41797,
          63180,
          57146,
          36653,
          124729,
          85019,
          83589,
          55848,
          51073,
          29505,
          18011,
          45837,
          62900,
          42330,
          148533,
          18393,
          63005,
          19919,
          19585,
          135707,
          39278,
          57563,
          39855,
          182467,
          122075,
          18016,
          4078,
          53906,
          26462,
          40886,
          55123,
          56371,
          31617,
          88773,
          57219,
          34798,
          186545,
          12674,
          37728,
          54653,
          107751,
          78794,
          47918,
          25188,
          73067,
          23416,
          39939,
          35167,
          33450,
          28471,
          58218,
          58876,
          134568,
          47218,
          22541,
          87481,
          28268,
          33662,
          56680,
          35333,
          55160,
          62396,
          39293,
          60958,
          183288,
          30395,
          65841,
          69870,
          89082,
          35548,
          33769,
          25366,
          24579,
          20455,
          36318,
          59896,
          28024,
          69552,
          57072,
          21717,
          129761,
          51578,
          141220,
          98300,
          52598,
          41588,
          58680,
          31293,
          57393,
          75993,
          8688,
          33662,
          230676,
          56951,
          18689,
          16764,
          59841,
          17477,
          44542,
          33436,
          37460,
          33346,
          41109,
          39879,
          145190,
          50176,
          73150,
          55921,
          66238,
          20109,
          49043,
          10490,
          52852,
          64108,
          38788,
          49882,
          37599,
          47961,
          11566,
          124135,
          136134,
          91613,
          41287,
          38168,
          90880,
          43453,
          81112,
          54625,
          61680,
          51510,
          31226,
          40511,
          54534,
          112533,
          58689,
          44183,
          120813,
          99620,
          56755,
          59118,
          61147,
          119312,
          66348,
          42099,
          53253,
          55288,
          39911,
          49322,
          75552,
          77163,
          40455,
          44462,
          156461,
          13154,
          12999,
          191660,
          30831,
          59576,
          61964,
          2456,
          46179,
          56494,
          10906,
          59404,
          61101,
          174797,
          33726,
          171277,
          25913,
          18209,
          39146,
          122682,
          46606,
          42867,
          43555,
          206590,
          54919,
          50367,
          41290,
          41929,
          49756,
          29272,
          31754,
          107003,
          38587,
          17793,
          42086,
          45709,
          125344,
          32546,
          44049,
          147706,
          33506,
          53755,
          3620,
          49779,
          30638,
          36831,
          62121,
          30668,
          32317,
          113910,
          37841,
          19378,
          57976,
          182318,
          74930,
          37543,
          61047,
          21197,
          58138,
          172777,
          55068,
          96168,
          16527,
          57442,
          54669,
          64381,
          62149,
          50133,
          39674,
          102969,
          40100,
          234723,
          39898,
          38566,
          50241,
          51310,
          19012,
          51907,
          36000,
          18641,
          6728,
          6818,
          36134,
          57274,
          43291,
          51064,
          36619,
          47943,
          60332,
          112785,
          32044,
          27257,
          80030,
          26727,
          105949,
          47565,
          27829,
          28360,
          29274
         ],
         "xaxis": "x",
         "y": [
          22953,
          30798,
          28489,
          23189,
          41553,
          22519,
          31422,
          26990,
          23990,
          41450,
          47000,
          28398,
          36990,
          32590,
          33491,
          24489,
          19341,
          25969,
          31563,
          52995,
          30191,
          25269,
          23498,
          27299,
          9999,
          30798,
          26074,
          41200,
          33789,
          19990,
          32698,
          5041,
          29998,
          31988,
          28398,
          15298,
          31613,
          23492,
          28398,
          16598,
          24498,
          30684,
          34290,
          30798,
          31790,
          33489,
          30798,
          29490,
          29876,
          30498,
          19297,
          25239,
          27298,
          16699,
          22174,
          26991,
          28398,
          26998,
          42697,
          38586,
          33205,
          30692,
          29998,
          16991,
          32587,
          29490,
          32599,
          33301,
          14498,
          36254,
          38041,
          25999,
          8899,
          15861,
          34291,
          32798,
          28555,
          27998,
          30498,
          28398,
          27190,
          34998,
          25000,
          26787,
          32591,
          9500,
          39600,
          30798,
          24189,
          18995,
          22589,
          34798,
          35798,
          26099,
          38490,
          29300,
          31847,
          31398,
          47092,
          27398,
          23500,
          12500,
          31573,
          30950,
          22571,
          30797,
          30799,
          25589,
          30999,
          26789,
          26990,
          30798,
          28999,
          8499,
          31491,
          28000,
          24900,
          20690,
          30798,
          32680,
          32920,
          29160,
          33000,
          30799,
          25039,
          27500,
          16988,
          26798,
          31777,
          10645,
          24999,
          12790,
          15495,
          26389,
          30498,
          25189,
          30398,
          29990,
          22871,
          33999,
          30799,
          8630,
          25989,
          31295,
          34821,
          23989,
          34389,
          34398,
          27498,
          30999,
          32495,
          30498,
          25980,
          13996,
          23850,
          26171,
          26890,
          24498,
          47498,
          32349,
          34000,
          21988,
          25500,
          33788,
          28998,
          30798,
          30300,
          30988,
          12498,
          9971,
          16940,
          30498,
          30798,
          18999,
          32500,
          19314,
          28398,
          24765,
          26389,
          36499,
          28998,
          23498,
          18091,
          26990,
          19990,
          14329,
          12914,
          29991,
          21488,
          26499,
          14490,
          29980,
          34191,
          26889,
          23990,
          30798,
          33500,
          23497,
          27993,
          33591,
          25900,
          11018,
          43174,
          39000,
          10200,
          32591,
          28398,
          31499,
          49500,
          33900,
          27689,
          34000,
          25189,
          28398,
          10599,
          32591,
          8499,
          40500,
          36798,
          30998,
          11650,
          24989,
          32997,
          26499,
          6998,
          26990,
          28798,
          27499,
          32548,
          28995,
          28985,
          39000,
          22500,
          30798,
          28291,
          30498,
          28998,
          13990,
          27499,
          25500,
          16995,
          33000,
          26520,
          50101,
          30466,
          34191,
          36498,
          24269,
          31840,
          31961,
          23991,
          29360,
          29298,
          30995,
          11498,
          31410,
          30798,
          30448,
          32125,
          28000,
          9250,
          26198,
          14497,
          30669,
          24389,
          26489,
          28998,
          27440,
          21000,
          35000,
          23900,
          30498,
          6789,
          30798,
          30798,
          34998,
          23839,
          37798,
          33098,
          32400,
          31811,
          41790,
          51000,
          30798,
          26990,
          29098,
          24689,
          40980,
          37097,
          26990,
          17988,
          32350,
          32498,
          24600,
          33000,
          20299,
          30191,
          29989,
          28498,
          30999
         ],
         "yaxis": "y"
        }
       ],
       "layout": {
        "coloraxis": {
         "colorbar": {
          "title": {
           "text": "year"
          }
         },
         "colorscale": [
          [
           0,
           "#0d0887"
          ],
          [
           0.1111111111111111,
           "#46039f"
          ],
          [
           0.2222222222222222,
           "#7201a8"
          ],
          [
           0.3333333333333333,
           "#9c179e"
          ],
          [
           0.4444444444444444,
           "#bd3786"
          ],
          [
           0.5555555555555556,
           "#d8576b"
          ],
          [
           0.6666666666666666,
           "#ed7953"
          ],
          [
           0.7777777777777778,
           "#fb9f3a"
          ],
          [
           0.8888888888888888,
           "#fdca26"
          ],
          [
           1,
           "#f0f921"
          ]
         ]
        },
        "height": 800,
        "legend": {
         "tracegroupgap": 0
        },
        "template": {
         "data": {
          "bar": [
           {
            "error_x": {
             "color": "#2a3f5f"
            },
            "error_y": {
             "color": "#2a3f5f"
            },
            "marker": {
             "line": {
              "color": "#E5ECF6",
              "width": 0.5
             },
             "pattern": {
              "fillmode": "overlay",
              "size": 10,
              "solidity": 0.2
             }
            },
            "type": "bar"
           }
          ],
          "barpolar": [
           {
            "marker": {
             "line": {
              "color": "#E5ECF6",
              "width": 0.5
             },
             "pattern": {
              "fillmode": "overlay",
              "size": 10,
              "solidity": 0.2
             }
            },
            "type": "barpolar"
           }
          ],
          "carpet": [
           {
            "aaxis": {
             "endlinecolor": "#2a3f5f",
             "gridcolor": "white",
             "linecolor": "white",
             "minorgridcolor": "white",
             "startlinecolor": "#2a3f5f"
            },
            "baxis": {
             "endlinecolor": "#2a3f5f",
             "gridcolor": "white",
             "linecolor": "white",
             "minorgridcolor": "white",
             "startlinecolor": "#2a3f5f"
            },
            "type": "carpet"
           }
          ],
          "choropleth": [
           {
            "colorbar": {
             "outlinewidth": 0,
             "ticks": ""
            },
            "type": "choropleth"
           }
          ],
          "contour": [
           {
            "colorbar": {
             "outlinewidth": 0,
             "ticks": ""
            },
            "colorscale": [
             [
              0,
              "#0d0887"
             ],
             [
              0.1111111111111111,
              "#46039f"
             ],
             [
              0.2222222222222222,
              "#7201a8"
             ],
             [
              0.3333333333333333,
              "#9c179e"
             ],
             [
              0.4444444444444444,
              "#bd3786"
             ],
             [
              0.5555555555555556,
              "#d8576b"
             ],
             [
              0.6666666666666666,
              "#ed7953"
             ],
             [
              0.7777777777777778,
              "#fb9f3a"
             ],
             [
              0.8888888888888888,
              "#fdca26"
             ],
             [
              1,
              "#f0f921"
             ]
            ],
            "type": "contour"
           }
          ],
          "contourcarpet": [
           {
            "colorbar": {
             "outlinewidth": 0,
             "ticks": ""
            },
            "type": "contourcarpet"
           }
          ],
          "heatmap": [
           {
            "colorbar": {
             "outlinewidth": 0,
             "ticks": ""
            },
            "colorscale": [
             [
              0,
              "#0d0887"
             ],
             [
              0.1111111111111111,
              "#46039f"
             ],
             [
              0.2222222222222222,
              "#7201a8"
             ],
             [
              0.3333333333333333,
              "#9c179e"
             ],
             [
              0.4444444444444444,
              "#bd3786"
             ],
             [
              0.5555555555555556,
              "#d8576b"
             ],
             [
              0.6666666666666666,
              "#ed7953"
             ],
             [
              0.7777777777777778,
              "#fb9f3a"
             ],
             [
              0.8888888888888888,
              "#fdca26"
             ],
             [
              1,
              "#f0f921"
             ]
            ],
            "type": "heatmap"
           }
          ],
          "heatmapgl": [
           {
            "colorbar": {
             "outlinewidth": 0,
             "ticks": ""
            },
            "colorscale": [
             [
              0,
              "#0d0887"
             ],
             [
              0.1111111111111111,
              "#46039f"
             ],
             [
              0.2222222222222222,
              "#7201a8"
             ],
             [
              0.3333333333333333,
              "#9c179e"
             ],
             [
              0.4444444444444444,
              "#bd3786"
             ],
             [
              0.5555555555555556,
              "#d8576b"
             ],
             [
              0.6666666666666666,
              "#ed7953"
             ],
             [
              0.7777777777777778,
              "#fb9f3a"
             ],
             [
              0.8888888888888888,
              "#fdca26"
             ],
             [
              1,
              "#f0f921"
             ]
            ],
            "type": "heatmapgl"
           }
          ],
          "histogram": [
           {
            "marker": {
             "pattern": {
              "fillmode": "overlay",
              "size": 10,
              "solidity": 0.2
             }
            },
            "type": "histogram"
           }
          ],
          "histogram2d": [
           {
            "colorbar": {
             "outlinewidth": 0,
             "ticks": ""
            },
            "colorscale": [
             [
              0,
              "#0d0887"
             ],
             [
              0.1111111111111111,
              "#46039f"
             ],
             [
              0.2222222222222222,
              "#7201a8"
             ],
             [
              0.3333333333333333,
              "#9c179e"
             ],
             [
              0.4444444444444444,
              "#bd3786"
             ],
             [
              0.5555555555555556,
              "#d8576b"
             ],
             [
              0.6666666666666666,
              "#ed7953"
             ],
             [
              0.7777777777777778,
              "#fb9f3a"
             ],
             [
              0.8888888888888888,
              "#fdca26"
             ],
             [
              1,
              "#f0f921"
             ]
            ],
            "type": "histogram2d"
           }
          ],
          "histogram2dcontour": [
           {
            "colorbar": {
             "outlinewidth": 0,
             "ticks": ""
            },
            "colorscale": [
             [
              0,
              "#0d0887"
             ],
             [
              0.1111111111111111,
              "#46039f"
             ],
             [
              0.2222222222222222,
              "#7201a8"
             ],
             [
              0.3333333333333333,
              "#9c179e"
             ],
             [
              0.4444444444444444,
              "#bd3786"
             ],
             [
              0.5555555555555556,
              "#d8576b"
             ],
             [
              0.6666666666666666,
              "#ed7953"
             ],
             [
              0.7777777777777778,
              "#fb9f3a"
             ],
             [
              0.8888888888888888,
              "#fdca26"
             ],
             [
              1,
              "#f0f921"
             ]
            ],
            "type": "histogram2dcontour"
           }
          ],
          "mesh3d": [
           {
            "colorbar": {
             "outlinewidth": 0,
             "ticks": ""
            },
            "type": "mesh3d"
           }
          ],
          "parcoords": [
           {
            "line": {
             "colorbar": {
              "outlinewidth": 0,
              "ticks": ""
             }
            },
            "type": "parcoords"
           }
          ],
          "pie": [
           {
            "automargin": true,
            "type": "pie"
           }
          ],
          "scatter": [
           {
            "fillpattern": {
             "fillmode": "overlay",
             "size": 10,
             "solidity": 0.2
            },
            "type": "scatter"
           }
          ],
          "scatter3d": [
           {
            "line": {
             "colorbar": {
              "outlinewidth": 0,
              "ticks": ""
             }
            },
            "marker": {
             "colorbar": {
              "outlinewidth": 0,
              "ticks": ""
             }
            },
            "type": "scatter3d"
           }
          ],
          "scattercarpet": [
           {
            "marker": {
             "colorbar": {
              "outlinewidth": 0,
              "ticks": ""
             }
            },
            "type": "scattercarpet"
           }
          ],
          "scattergeo": [
           {
            "marker": {
             "colorbar": {
              "outlinewidth": 0,
              "ticks": ""
             }
            },
            "type": "scattergeo"
           }
          ],
          "scattergl": [
           {
            "marker": {
             "colorbar": {
              "outlinewidth": 0,
              "ticks": ""
             }
            },
            "type": "scattergl"
           }
          ],
          "scattermapbox": [
           {
            "marker": {
             "colorbar": {
              "outlinewidth": 0,
              "ticks": ""
             }
            },
            "type": "scattermapbox"
           }
          ],
          "scatterpolar": [
           {
            "marker": {
             "colorbar": {
              "outlinewidth": 0,
              "ticks": ""
             }
            },
            "type": "scatterpolar"
           }
          ],
          "scatterpolargl": [
           {
            "marker": {
             "colorbar": {
              "outlinewidth": 0,
              "ticks": ""
             }
            },
            "type": "scatterpolargl"
           }
          ],
          "scatterternary": [
           {
            "marker": {
             "colorbar": {
              "outlinewidth": 0,
              "ticks": ""
             }
            },
            "type": "scatterternary"
           }
          ],
          "surface": [
           {
            "colorbar": {
             "outlinewidth": 0,
             "ticks": ""
            },
            "colorscale": [
             [
              0,
              "#0d0887"
             ],
             [
              0.1111111111111111,
              "#46039f"
             ],
             [
              0.2222222222222222,
              "#7201a8"
             ],
             [
              0.3333333333333333,
              "#9c179e"
             ],
             [
              0.4444444444444444,
              "#bd3786"
             ],
             [
              0.5555555555555556,
              "#d8576b"
             ],
             [
              0.6666666666666666,
              "#ed7953"
             ],
             [
              0.7777777777777778,
              "#fb9f3a"
             ],
             [
              0.8888888888888888,
              "#fdca26"
             ],
             [
              1,
              "#f0f921"
             ]
            ],
            "type": "surface"
           }
          ],
          "table": [
           {
            "cells": {
             "fill": {
              "color": "#EBF0F8"
             },
             "line": {
              "color": "white"
             }
            },
            "header": {
             "fill": {
              "color": "#C8D4E3"
             },
             "line": {
              "color": "white"
             }
            },
            "type": "table"
           }
          ]
         },
         "layout": {
          "annotationdefaults": {
           "arrowcolor": "#2a3f5f",
           "arrowhead": 0,
           "arrowwidth": 1
          },
          "autotypenumbers": "strict",
          "coloraxis": {
           "colorbar": {
            "outlinewidth": 0,
            "ticks": ""
           }
          },
          "colorscale": {
           "diverging": [
            [
             0,
             "#8e0152"
            ],
            [
             0.1,
             "#c51b7d"
            ],
            [
             0.2,
             "#de77ae"
            ],
            [
             0.3,
             "#f1b6da"
            ],
            [
             0.4,
             "#fde0ef"
            ],
            [
             0.5,
             "#f7f7f7"
            ],
            [
             0.6,
             "#e6f5d0"
            ],
            [
             0.7,
             "#b8e186"
            ],
            [
             0.8,
             "#7fbc41"
            ],
            [
             0.9,
             "#4d9221"
            ],
            [
             1,
             "#276419"
            ]
           ],
           "sequential": [
            [
             0,
             "#0d0887"
            ],
            [
             0.1111111111111111,
             "#46039f"
            ],
            [
             0.2222222222222222,
             "#7201a8"
            ],
            [
             0.3333333333333333,
             "#9c179e"
            ],
            [
             0.4444444444444444,
             "#bd3786"
            ],
            [
             0.5555555555555556,
             "#d8576b"
            ],
            [
             0.6666666666666666,
             "#ed7953"
            ],
            [
             0.7777777777777778,
             "#fb9f3a"
            ],
            [
             0.8888888888888888,
             "#fdca26"
            ],
            [
             1,
             "#f0f921"
            ]
           ],
           "sequentialminus": [
            [
             0,
             "#0d0887"
            ],
            [
             0.1111111111111111,
             "#46039f"
            ],
            [
             0.2222222222222222,
             "#7201a8"
            ],
            [
             0.3333333333333333,
             "#9c179e"
            ],
            [
             0.4444444444444444,
             "#bd3786"
            ],
            [
             0.5555555555555556,
             "#d8576b"
            ],
            [
             0.6666666666666666,
             "#ed7953"
            ],
            [
             0.7777777777777778,
             "#fb9f3a"
            ],
            [
             0.8888888888888888,
             "#fdca26"
            ],
            [
             1,
             "#f0f921"
            ]
           ]
          },
          "colorway": [
           "#636efa",
           "#EF553B",
           "#00cc96",
           "#ab63fa",
           "#FFA15A",
           "#19d3f3",
           "#FF6692",
           "#B6E880",
           "#FF97FF",
           "#FECB52"
          ],
          "font": {
           "color": "#2a3f5f"
          },
          "geo": {
           "bgcolor": "white",
           "lakecolor": "white",
           "landcolor": "#E5ECF6",
           "showlakes": true,
           "showland": true,
           "subunitcolor": "white"
          },
          "hoverlabel": {
           "align": "left"
          },
          "hovermode": "closest",
          "mapbox": {
           "style": "light"
          },
          "paper_bgcolor": "white",
          "plot_bgcolor": "#E5ECF6",
          "polar": {
           "angularaxis": {
            "gridcolor": "white",
            "linecolor": "white",
            "ticks": ""
           },
           "bgcolor": "#E5ECF6",
           "radialaxis": {
            "gridcolor": "white",
            "linecolor": "white",
            "ticks": ""
           }
          },
          "scene": {
           "xaxis": {
            "backgroundcolor": "#E5ECF6",
            "gridcolor": "white",
            "gridwidth": 2,
            "linecolor": "white",
            "showbackground": true,
            "ticks": "",
            "zerolinecolor": "white"
           },
           "yaxis": {
            "backgroundcolor": "#E5ECF6",
            "gridcolor": "white",
            "gridwidth": 2,
            "linecolor": "white",
            "showbackground": true,
            "ticks": "",
            "zerolinecolor": "white"
           },
           "zaxis": {
            "backgroundcolor": "#E5ECF6",
            "gridcolor": "white",
            "gridwidth": 2,
            "linecolor": "white",
            "showbackground": true,
            "ticks": "",
            "zerolinecolor": "white"
           }
          },
          "shapedefaults": {
           "line": {
            "color": "#2a3f5f"
           }
          },
          "ternary": {
           "aaxis": {
            "gridcolor": "white",
            "linecolor": "white",
            "ticks": ""
           },
           "baxis": {
            "gridcolor": "white",
            "linecolor": "white",
            "ticks": ""
           },
           "bgcolor": "#E5ECF6",
           "caxis": {
            "gridcolor": "white",
            "linecolor": "white",
            "ticks": ""
           }
          },
          "title": {
           "x": 0.05
          },
          "xaxis": {
           "automargin": true,
           "gridcolor": "white",
           "linecolor": "white",
           "ticks": "",
           "title": {
            "standoff": 15
           },
           "zerolinecolor": "white",
           "zerolinewidth": 2
          },
          "yaxis": {
           "automargin": true,
           "gridcolor": "white",
           "linecolor": "white",
           "ticks": "",
           "title": {
            "standoff": 15
           },
           "zerolinecolor": "white",
           "zerolinewidth": 2
          }
         }
        },
        "title": {
         "text": "Toyota RAV4 Price vs Mileage"
        },
        "xaxis": {
         "anchor": "y",
         "domain": [
          0,
          1
         ],
         "title": {
          "text": "Mileage"
         }
        },
        "yaxis": {
         "anchor": "x",
         "domain": [
          0,
          1
         ],
         "tickprefix": "$",
         "title": {
          "text": "Price"
         }
        }
       }
      }
     },
     "metadata": {},
     "output_type": "display_data"
    }
   ],
   "source": [
    "#create a scatterplot of the rav4 data with mileage on the x-axis and price on the y-axis\n",
    "fig = px.scatter(toyota_df, x='Mileage', y='price', title='Price vs Mileage', color=\"year\")\n",
    "fig.update_layout(height=800)\n",
    "fig.update_yaxes(tickprefix=\"$\")\n",
    "fig.update_layout(title=\"Toyota RAV4 Price vs Mileage\")\n",
    "fig.update_yaxes(title=\"Price\")\n",
    "fig.update_xaxes(title=\"Mileage\")\n",
    "fig.show()\n"
   ]
  },
  {
   "cell_type": "code",
   "execution_count": 39,
   "metadata": {},
   "outputs": [
    {
     "data": {
      "application/vnd.plotly.v1+json": {
       "config": {
        "plotlyServerURL": "https://plot.ly"
       },
       "data": [
        {
         "mode": "markers",
         "name": "Actual",
         "type": "scatter",
         "x": [
          41706,
          36517,
          46231,
          58206,
          5794,
          73319,
          36957,
          62737,
          55523,
          17529,
          9691,
          53609,
          40301,
          31983,
          74530,
          55502,
          74202,
          57361,
          22962,
          275,
          48201,
          58874,
          58140,
          21339,
          170240,
          39398,
          49205,
          16054,
          15546,
          150951,
          53812,
          195319,
          43359,
          12886,
          51416,
          149934,
          76628,
          81794,
          54491,
          99218,
          59150,
          23484,
          14194,
          39941,
          27123,
          14410,
          36298,
          61722,
          33221,
          41797,
          63180,
          57146,
          36653,
          124729,
          85019,
          83589,
          55848,
          51073,
          29505,
          18011,
          45837,
          62900,
          42330,
          148533,
          18393,
          63005,
          19919,
          19585,
          135707,
          39278,
          57563,
          39855,
          182467,
          122075,
          18016,
          4078,
          53906,
          26462,
          40886,
          55123,
          56371,
          31617,
          88773,
          57219,
          34798,
          186545,
          12674,
          37728,
          54653,
          107751,
          78794,
          47918,
          25188,
          73067,
          23416,
          39939,
          35167,
          33450,
          28471,
          58218,
          58876,
          134568,
          47218,
          22541,
          87481,
          28268,
          33662,
          56680,
          35333,
          55160,
          62396,
          39293,
          60958,
          183288,
          30395,
          65841,
          69870,
          89082,
          35548,
          33769,
          25366,
          24579,
          20455,
          36318,
          59896,
          28024,
          69552,
          57072,
          21717,
          129761,
          51578,
          141220,
          98300,
          52598,
          41588,
          58680,
          31293,
          57393,
          75993,
          8688,
          33662,
          230676,
          56951,
          18689,
          16764,
          59841,
          17477,
          44542,
          33436,
          37460,
          33346,
          41109,
          39879,
          145190,
          50176,
          73150,
          55921,
          66238,
          20109,
          49043,
          10490,
          52852,
          64108,
          38788,
          49882,
          37599,
          47961,
          11566,
          124135,
          136134,
          91613,
          41287,
          38168,
          90880,
          43453,
          81112,
          54625,
          61680,
          51510,
          31226,
          40511,
          54534,
          112533,
          58689,
          44183,
          120813,
          99620,
          56755,
          59118,
          61147,
          119312,
          66348,
          42099,
          53253,
          55288,
          39911,
          49322,
          75552,
          77163,
          40455,
          44462,
          156461,
          13154,
          12999,
          191660,
          30831,
          59576,
          61964,
          2456,
          46179,
          56494,
          10906,
          59404,
          61101,
          174797,
          33726,
          171277,
          25913,
          18209,
          39146,
          122682,
          46606,
          42867,
          43555,
          206590,
          54919,
          50367,
          41290,
          41929,
          49756,
          29272,
          31754,
          107003,
          38587,
          17793,
          42086,
          45709,
          125344,
          32546,
          44049,
          147706,
          33506,
          53755,
          3620,
          49779,
          30638,
          36831,
          62121,
          30668,
          32317,
          113910,
          37841,
          19378,
          57976,
          182318,
          74930,
          37543,
          61047,
          21197,
          58138,
          172777,
          55068,
          96168,
          16527,
          57442,
          54669,
          64381,
          62149,
          50133,
          39674,
          102969,
          40100,
          234723,
          39898,
          38566,
          50241,
          51310,
          19012,
          51907,
          36000,
          18641,
          6728,
          6818,
          36134,
          57274,
          43291,
          51064,
          36619,
          47943,
          60332,
          112785,
          32044,
          27257,
          80030,
          26727,
          105949,
          47565,
          27829,
          28360,
          29274
         ],
         "y": [
          22953,
          30798,
          28489,
          23189,
          41553,
          22519,
          31422,
          26990,
          23990,
          41450,
          47000,
          28398,
          36990,
          32590,
          33491,
          24489,
          19341,
          25969,
          31563,
          52995,
          30191,
          25269,
          23498,
          27299,
          9999,
          30798,
          26074,
          41200,
          33789,
          19990,
          32698,
          5041,
          29998,
          31988,
          28398,
          15298,
          31613,
          23492,
          28398,
          16598,
          24498,
          30684,
          34290,
          30798,
          31790,
          33489,
          30798,
          29490,
          29876,
          30498,
          19297,
          25239,
          27298,
          16699,
          22174,
          26991,
          28398,
          26998,
          42697,
          38586,
          33205,
          30692,
          29998,
          16991,
          32587,
          29490,
          32599,
          33301,
          14498,
          36254,
          38041,
          25999,
          8899,
          15861,
          34291,
          32798,
          28555,
          27998,
          30498,
          28398,
          27190,
          34998,
          25000,
          26787,
          32591,
          9500,
          39600,
          30798,
          24189,
          18995,
          22589,
          34798,
          35798,
          26099,
          38490,
          29300,
          31847,
          31398,
          47092,
          27398,
          23500,
          12500,
          31573,
          30950,
          22571,
          30797,
          30799,
          25589,
          30999,
          26789,
          26990,
          30798,
          28999,
          8499,
          31491,
          28000,
          24900,
          20690,
          30798,
          32680,
          32920,
          29160,
          33000,
          30799,
          25039,
          27500,
          16988,
          26798,
          31777,
          10645,
          24999,
          12790,
          15495,
          26389,
          30498,
          25189,
          30398,
          29990,
          22871,
          33999,
          30799,
          8630,
          25989,
          31295,
          34821,
          23989,
          34389,
          34398,
          27498,
          30999,
          32495,
          30498,
          25980,
          13996,
          23850,
          26171,
          26890,
          24498,
          47498,
          32349,
          34000,
          21988,
          25500,
          33788,
          28998,
          30798,
          30300,
          30988,
          12498,
          9971,
          16940,
          30498,
          30798,
          18999,
          32500,
          19314,
          28398,
          24765,
          26389,
          36499,
          28998,
          23498,
          18091,
          26990,
          19990,
          14329,
          12914,
          29991,
          21488,
          26499,
          14490,
          29980,
          34191,
          26889,
          23990,
          30798,
          33500,
          23497,
          27993,
          33591,
          25900,
          11018,
          43174,
          39000,
          10200,
          32591,
          28398,
          31499,
          49500,
          33900,
          27689,
          34000,
          25189,
          28398,
          10599,
          32591,
          8499,
          40500,
          36798,
          30998,
          11650,
          24989,
          32997,
          26499,
          6998,
          26990,
          28798,
          27499,
          32548,
          28995,
          28985,
          39000,
          22500,
          30798,
          28291,
          30498,
          28998,
          13990,
          27499,
          25500,
          16995,
          33000,
          26520,
          50101,
          30466,
          34191,
          36498,
          24269,
          31840,
          31961,
          23991,
          29360,
          29298,
          30995,
          11498,
          31410,
          30798,
          30448,
          32125,
          28000,
          9250,
          26198,
          14497,
          30669,
          24389,
          26489,
          28998,
          27440,
          21000,
          35000,
          23900,
          30498,
          6789,
          30798,
          30798,
          34998,
          23839,
          37798,
          33098,
          32400,
          31811,
          41790,
          51000,
          30798,
          26990,
          29098,
          24689,
          40980,
          37097,
          26990,
          17988,
          32350,
          32498,
          24600,
          33000,
          20299,
          30191,
          29989,
          28498,
          30999
         ]
        },
        {
         "mode": "lines",
         "name": "Predicted",
         "type": "scatter",
         "x": [
          41706,
          36517,
          46231,
          58206,
          5794,
          73319,
          36957,
          62737,
          55523,
          17529,
          9691,
          53609,
          40301,
          31983,
          74530,
          55502,
          74202,
          57361,
          22962,
          275,
          48201,
          58874,
          58140,
          21339,
          170240,
          39398,
          49205,
          16054,
          15546,
          150951,
          53812,
          195319,
          43359,
          12886,
          51416,
          149934,
          76628,
          81794,
          54491,
          99218,
          59150,
          23484,
          14194,
          39941,
          27123,
          14410,
          36298,
          61722,
          33221,
          41797,
          63180,
          57146,
          36653,
          124729,
          85019,
          83589,
          55848,
          51073,
          29505,
          18011,
          45837,
          62900,
          42330,
          148533,
          18393,
          63005,
          19919,
          19585,
          135707,
          39278,
          57563,
          39855,
          182467,
          122075,
          18016,
          4078,
          53906,
          26462,
          40886,
          55123,
          56371,
          31617,
          88773,
          57219,
          34798,
          186545,
          12674,
          37728,
          54653,
          107751,
          78794,
          47918,
          25188,
          73067,
          23416,
          39939,
          35167,
          33450,
          28471,
          58218,
          58876,
          134568,
          47218,
          22541,
          87481,
          28268,
          33662,
          56680,
          35333,
          55160,
          62396,
          39293,
          60958,
          183288,
          30395,
          65841,
          69870,
          89082,
          35548,
          33769,
          25366,
          24579,
          20455,
          36318,
          59896,
          28024,
          69552,
          57072,
          21717,
          129761,
          51578,
          141220,
          98300,
          52598,
          41588,
          58680,
          31293,
          57393,
          75993,
          8688,
          33662,
          230676,
          56951,
          18689,
          16764,
          59841,
          17477,
          44542,
          33436,
          37460,
          33346,
          41109,
          39879,
          145190,
          50176,
          73150,
          55921,
          66238,
          20109,
          49043,
          10490,
          52852,
          64108,
          38788,
          49882,
          37599,
          47961,
          11566,
          124135,
          136134,
          91613,
          41287,
          38168,
          90880,
          43453,
          81112,
          54625,
          61680,
          51510,
          31226,
          40511,
          54534,
          112533,
          58689,
          44183,
          120813,
          99620,
          56755,
          59118,
          61147,
          119312,
          66348,
          42099,
          53253,
          55288,
          39911,
          49322,
          75552,
          77163,
          40455,
          44462,
          156461,
          13154,
          12999,
          191660,
          30831,
          59576,
          61964,
          2456,
          46179,
          56494,
          10906,
          59404,
          61101,
          174797,
          33726,
          171277,
          25913,
          18209,
          39146,
          122682,
          46606,
          42867,
          43555,
          206590,
          54919,
          50367,
          41290,
          41929,
          49756,
          29272,
          31754,
          107003,
          38587,
          17793,
          42086,
          45709,
          125344,
          32546,
          44049,
          147706,
          33506,
          53755,
          3620,
          49779,
          30638,
          36831,
          62121,
          30668,
          32317,
          113910,
          37841,
          19378,
          57976,
          182318,
          74930,
          37543,
          61047,
          21197,
          58138,
          172777,
          55068,
          96168,
          16527,
          57442,
          54669,
          64381,
          62149,
          50133,
          39674,
          102969,
          40100,
          234723,
          39898,
          38566,
          50241,
          51310,
          19012,
          51907,
          36000,
          18641,
          6728,
          6818,
          36134,
          57274,
          43291,
          51064,
          36619,
          47943,
          60332,
          112785,
          32044,
          27257,
          80030,
          26727,
          105949,
          47565,
          27829,
          28360,
          29274
         ],
         "y": [
          30525.582015558703,
          31379.949242657538,
          29780.542180788565,
          27808.86217606539,
          36438.481583794084,
          25320.51145277676,
          31307.50338027105,
          27062.834443171803,
          28250.617286935725,
          34506.31750400899,
          35796.84175261194,
          28565.756788316954,
          30756.91482613374,
          32126.47092461285,
          25121.120681526674,
          28254.07493036781,
          25175.125778942056,
          27947.9911617849,
          33611.775753223104,
          37347.183207682785,
          29456.18229692179,
          27698.876184987723,
          27819.729055423362,
          33879.0021956169,
          9362.499115593047,
          30905.593493713284,
          29290.874010930802,
          34749.17579269097,
          34832.81783380992,
          12538.426932804348,
          28532.33290180682,
          5233.249609250455,
          30253.416082547647,
          35270.78600187369,
          28926.8335524387,
          12705.875664729483,
          24775.68563769292,
          23925.10535340065,
          28420.535764169494,
          21056.249202895713,
          27653.432871308927,
          33525.82861648277,
          35055.42421096113,
          30816.188713540865,
          32926.66840460907,
          35019.85987851685,
          31416.007524163542,
          27229.95387572245,
          31922.634611807232,
          30510.598894019677,
          26989.89463172359,
          27983.39084454193,
          31357.556885192622,
          16855.871031664567,
          23394.11011204514,
          23629.559164801227,
          28197.106138582072,
          28983.308395162712,
          32534.472849598576,
          34426.95635475834,
          29845.41415756192,
          27035.996544151356,
          30422.840610719682,
          12936.54987655555,
          34364.06017423189,
          27018.70832699094,
          34112.80475150057,
          34167.7977470394,
          15048.346765121685,
          30925.351456182325,
          27914.73192496201,
          30830.34858664368,
          7349.3273896848805,
          17292.851301604886,
          34426.13310632213,
          36721.02044710139,
          28516.85583120607,
          33035.50184787604,
          30660.59475909716,
          28316.477161832536,
          28110.994352154496,
          32186.73271014343,
          22776.015186138597,
          27971.371417373266,
          31662.98205502657,
          6677.885965111927,
          35305.691735568995,
          31180.558471407454,
          28393.862514836284,
          19651.293421659564,
          24419.054415126706,
          29502.77815841128,
          33245.26554942237,
          25362.003173961748,
          33537.02479521523,
          30816.51801291535,
          31602.226320434263,
          31884.92983342881,
          32704.72062620682,
          27806.886379818487,
          27698.546885613236,
          15235.882758890344,
          29618.032939480694,
          33681.093271551996,
          22988.74258205529,
          32738.144512716954,
          31850.024099733502,
          28060.11759879671,
          31574.89447235209,
          28310.38512340458,
          27118.97998652133,
          30922.881710873695,
          27355.746236775354,
          7214.149996459182,
          32387.93462795318,
          26551.761813972575,
          25888.388224074482,
          22725.138432780815,
          31539.494789595054,
          31832.406583198608,
          33215.957905093295,
          33345.53720895276,
          34024.552519138844,
          31412.7145304187,
          27530.60420462638,
          32778.319036404006,
          25940.746824617447,
          27995.57492139784,
          33816.76461383942,
          16027.353805462728,
          28900.16030310549,
          14140.633039356435,
          21207.397615783884,
          28732.21762211863,
          30545.01067865326,
          27730.818224312672,
          32240.079208809846,
          27942.722371793152,
          24880.2381890916,
          35961.98538891568,
          31850.024099733502,
          -588.2693825656097,
          28015.497533554124,
          34315.32386680825,
          34632.27451474914,
          27539.65993742469,
          34514.87928774558,
          30058.63550254034,
          31887.2349290502,
          31224.684587588315,
          31902.05340090198,
          30623.877878842188,
          30826.396994149873,
          13486.973781005618,
          29130.999164618803,
          25348.33724992066,
          28185.0867114134,
          26486.395888137493,
          34081.52131092458,
          29317.54726026401,
          35665.286652505565,
          28690.396601559158,
          26837.099721962993,
          31006.029802930912,
          29179.406172667957,
          31201.798281061674,
          29495.698221859875,
          35488.12358903315,
          16953.672945886326,
          14978.041348669343,
          22308.410074371266,
          30594.570234513107,
          31108.112609020965,
          22429.098295119664,
          30237.939011946895,
          24037.396440099707,
          28398.47270607906,
          27236.86916258662,
          28911.35648183795,
          32251.11073785506,
          30722.338391812915,
          28413.455827618083,
          18863.93861726823,
          27729.336377127496,
          30117.744740260223,
          17500.639206904314,
          20990.06002862442,
          28047.76887225356,
          27658.70166130067,
          27324.627445886614,
          17747.778387454586,
          26468.284422540873,
          30460.874688472588,
          28624.37207697511,
          28289.3099634376,
          30821.128204158125,
          29271.609997523487,
          24952.84870116533,
          24687.59805501844,
          30731.558774298468,
          30071.8074775197,
          11631.207156100823,
          35226.659885692825,
          35252.18058721534,
          5835.702814869001,
          32316.147364315657,
          27583.292104543827,
          27190.108651409886,
          36988.08223980795,
          29789.10396452515,
          28090.742440623726,
          35596.79238261288,
          27611.611850749454,
          27332.201331499746,
          8612.190490831166,
          31839.48651975001,
          9191.757389923074,
          33125.894526171905,
          34394.35571668442,
          30947.08521489827,
          17192.90894144898,
          29718.79854807281,
          30334.423728670718,
          30221.14474384821,
          3377.482984345661,
          28350.065698029906,
          29099.55107435558,
          30594.07628545138,
          30488.86513530373,
          29200.15203326045,
          32572.836226725965,
          32164.175702991273,
          19774.451387716595,
          31039.124390066558,
          34462.8499865771,
          30463.015134406734,
          29866.4893175289,
          16754.611474010726,
          32033.773150695597,
          30139.807798350652,
          13072.715167904698,
          31875.709450943257,
          28541.717933979617,
          36796.43000385824,
          29196.365090453884,
          32347.924753953368,
          31328.249240863544,
          27164.258650512886,
          32342.985263336108,
          32071.47792907402,
          18637.21599793597,
          31161.953056749106,
          34201.8802322985,
          27846.731604131055,
          7373.860193083943,
          25055.260806629867,
          31211.018663547227,
          27341.092414610815,
          33902.38245120527,
          27820.058354797846,
          8944.782859060044,
          28325.532894630844,
          21558.43074898387,
          34671.29649062549,
          27934.654537118295,
          28391.22811984041,
          26792.150357345927,
          27159.64845927011,
          29138.07910117021,
          30860.150180034485,
          20438.6482260509,
          30790.009413269385,
          -1254.6066668340573,
          30823.268650092272,
          31042.582033498642,
          29120.29693494807,
          28944.286419286353,
          34262.14201782908,
          28845.990556002867,
          31465.07313096166,
          34323.22705179587,
          36284.69877591004,
          36269.88030405826,
          31443.01007287123,
          27962.315684574955,
          30264.612261280105,
          28984.790242347888,
          31363.154974558853,
          29498.66191623023,
          27458.816940988858,
          18822.446896083242,
          32116.42729369109,
          32904.605346518634,
          24215.54740169557,
          32991.86968075691,
          19947.992158069683,
          29560.899498007715,
          32810.4257254162,
          32722.996741490686,
          32572.506927351482
         ]
        }
       ],
       "layout": {
        "height": 800,
        "template": {
         "data": {
          "bar": [
           {
            "error_x": {
             "color": "#2a3f5f"
            },
            "error_y": {
             "color": "#2a3f5f"
            },
            "marker": {
             "line": {
              "color": "#E5ECF6",
              "width": 0.5
             },
             "pattern": {
              "fillmode": "overlay",
              "size": 10,
              "solidity": 0.2
             }
            },
            "type": "bar"
           }
          ],
          "barpolar": [
           {
            "marker": {
             "line": {
              "color": "#E5ECF6",
              "width": 0.5
             },
             "pattern": {
              "fillmode": "overlay",
              "size": 10,
              "solidity": 0.2
             }
            },
            "type": "barpolar"
           }
          ],
          "carpet": [
           {
            "aaxis": {
             "endlinecolor": "#2a3f5f",
             "gridcolor": "white",
             "linecolor": "white",
             "minorgridcolor": "white",
             "startlinecolor": "#2a3f5f"
            },
            "baxis": {
             "endlinecolor": "#2a3f5f",
             "gridcolor": "white",
             "linecolor": "white",
             "minorgridcolor": "white",
             "startlinecolor": "#2a3f5f"
            },
            "type": "carpet"
           }
          ],
          "choropleth": [
           {
            "colorbar": {
             "outlinewidth": 0,
             "ticks": ""
            },
            "type": "choropleth"
           }
          ],
          "contour": [
           {
            "colorbar": {
             "outlinewidth": 0,
             "ticks": ""
            },
            "colorscale": [
             [
              0,
              "#0d0887"
             ],
             [
              0.1111111111111111,
              "#46039f"
             ],
             [
              0.2222222222222222,
              "#7201a8"
             ],
             [
              0.3333333333333333,
              "#9c179e"
             ],
             [
              0.4444444444444444,
              "#bd3786"
             ],
             [
              0.5555555555555556,
              "#d8576b"
             ],
             [
              0.6666666666666666,
              "#ed7953"
             ],
             [
              0.7777777777777778,
              "#fb9f3a"
             ],
             [
              0.8888888888888888,
              "#fdca26"
             ],
             [
              1,
              "#f0f921"
             ]
            ],
            "type": "contour"
           }
          ],
          "contourcarpet": [
           {
            "colorbar": {
             "outlinewidth": 0,
             "ticks": ""
            },
            "type": "contourcarpet"
           }
          ],
          "heatmap": [
           {
            "colorbar": {
             "outlinewidth": 0,
             "ticks": ""
            },
            "colorscale": [
             [
              0,
              "#0d0887"
             ],
             [
              0.1111111111111111,
              "#46039f"
             ],
             [
              0.2222222222222222,
              "#7201a8"
             ],
             [
              0.3333333333333333,
              "#9c179e"
             ],
             [
              0.4444444444444444,
              "#bd3786"
             ],
             [
              0.5555555555555556,
              "#d8576b"
             ],
             [
              0.6666666666666666,
              "#ed7953"
             ],
             [
              0.7777777777777778,
              "#fb9f3a"
             ],
             [
              0.8888888888888888,
              "#fdca26"
             ],
             [
              1,
              "#f0f921"
             ]
            ],
            "type": "heatmap"
           }
          ],
          "heatmapgl": [
           {
            "colorbar": {
             "outlinewidth": 0,
             "ticks": ""
            },
            "colorscale": [
             [
              0,
              "#0d0887"
             ],
             [
              0.1111111111111111,
              "#46039f"
             ],
             [
              0.2222222222222222,
              "#7201a8"
             ],
             [
              0.3333333333333333,
              "#9c179e"
             ],
             [
              0.4444444444444444,
              "#bd3786"
             ],
             [
              0.5555555555555556,
              "#d8576b"
             ],
             [
              0.6666666666666666,
              "#ed7953"
             ],
             [
              0.7777777777777778,
              "#fb9f3a"
             ],
             [
              0.8888888888888888,
              "#fdca26"
             ],
             [
              1,
              "#f0f921"
             ]
            ],
            "type": "heatmapgl"
           }
          ],
          "histogram": [
           {
            "marker": {
             "pattern": {
              "fillmode": "overlay",
              "size": 10,
              "solidity": 0.2
             }
            },
            "type": "histogram"
           }
          ],
          "histogram2d": [
           {
            "colorbar": {
             "outlinewidth": 0,
             "ticks": ""
            },
            "colorscale": [
             [
              0,
              "#0d0887"
             ],
             [
              0.1111111111111111,
              "#46039f"
             ],
             [
              0.2222222222222222,
              "#7201a8"
             ],
             [
              0.3333333333333333,
              "#9c179e"
             ],
             [
              0.4444444444444444,
              "#bd3786"
             ],
             [
              0.5555555555555556,
              "#d8576b"
             ],
             [
              0.6666666666666666,
              "#ed7953"
             ],
             [
              0.7777777777777778,
              "#fb9f3a"
             ],
             [
              0.8888888888888888,
              "#fdca26"
             ],
             [
              1,
              "#f0f921"
             ]
            ],
            "type": "histogram2d"
           }
          ],
          "histogram2dcontour": [
           {
            "colorbar": {
             "outlinewidth": 0,
             "ticks": ""
            },
            "colorscale": [
             [
              0,
              "#0d0887"
             ],
             [
              0.1111111111111111,
              "#46039f"
             ],
             [
              0.2222222222222222,
              "#7201a8"
             ],
             [
              0.3333333333333333,
              "#9c179e"
             ],
             [
              0.4444444444444444,
              "#bd3786"
             ],
             [
              0.5555555555555556,
              "#d8576b"
             ],
             [
              0.6666666666666666,
              "#ed7953"
             ],
             [
              0.7777777777777778,
              "#fb9f3a"
             ],
             [
              0.8888888888888888,
              "#fdca26"
             ],
             [
              1,
              "#f0f921"
             ]
            ],
            "type": "histogram2dcontour"
           }
          ],
          "mesh3d": [
           {
            "colorbar": {
             "outlinewidth": 0,
             "ticks": ""
            },
            "type": "mesh3d"
           }
          ],
          "parcoords": [
           {
            "line": {
             "colorbar": {
              "outlinewidth": 0,
              "ticks": ""
             }
            },
            "type": "parcoords"
           }
          ],
          "pie": [
           {
            "automargin": true,
            "type": "pie"
           }
          ],
          "scatter": [
           {
            "fillpattern": {
             "fillmode": "overlay",
             "size": 10,
             "solidity": 0.2
            },
            "type": "scatter"
           }
          ],
          "scatter3d": [
           {
            "line": {
             "colorbar": {
              "outlinewidth": 0,
              "ticks": ""
             }
            },
            "marker": {
             "colorbar": {
              "outlinewidth": 0,
              "ticks": ""
             }
            },
            "type": "scatter3d"
           }
          ],
          "scattercarpet": [
           {
            "marker": {
             "colorbar": {
              "outlinewidth": 0,
              "ticks": ""
             }
            },
            "type": "scattercarpet"
           }
          ],
          "scattergeo": [
           {
            "marker": {
             "colorbar": {
              "outlinewidth": 0,
              "ticks": ""
             }
            },
            "type": "scattergeo"
           }
          ],
          "scattergl": [
           {
            "marker": {
             "colorbar": {
              "outlinewidth": 0,
              "ticks": ""
             }
            },
            "type": "scattergl"
           }
          ],
          "scattermapbox": [
           {
            "marker": {
             "colorbar": {
              "outlinewidth": 0,
              "ticks": ""
             }
            },
            "type": "scattermapbox"
           }
          ],
          "scatterpolar": [
           {
            "marker": {
             "colorbar": {
              "outlinewidth": 0,
              "ticks": ""
             }
            },
            "type": "scatterpolar"
           }
          ],
          "scatterpolargl": [
           {
            "marker": {
             "colorbar": {
              "outlinewidth": 0,
              "ticks": ""
             }
            },
            "type": "scatterpolargl"
           }
          ],
          "scatterternary": [
           {
            "marker": {
             "colorbar": {
              "outlinewidth": 0,
              "ticks": ""
             }
            },
            "type": "scatterternary"
           }
          ],
          "surface": [
           {
            "colorbar": {
             "outlinewidth": 0,
             "ticks": ""
            },
            "colorscale": [
             [
              0,
              "#0d0887"
             ],
             [
              0.1111111111111111,
              "#46039f"
             ],
             [
              0.2222222222222222,
              "#7201a8"
             ],
             [
              0.3333333333333333,
              "#9c179e"
             ],
             [
              0.4444444444444444,
              "#bd3786"
             ],
             [
              0.5555555555555556,
              "#d8576b"
             ],
             [
              0.6666666666666666,
              "#ed7953"
             ],
             [
              0.7777777777777778,
              "#fb9f3a"
             ],
             [
              0.8888888888888888,
              "#fdca26"
             ],
             [
              1,
              "#f0f921"
             ]
            ],
            "type": "surface"
           }
          ],
          "table": [
           {
            "cells": {
             "fill": {
              "color": "#EBF0F8"
             },
             "line": {
              "color": "white"
             }
            },
            "header": {
             "fill": {
              "color": "#C8D4E3"
             },
             "line": {
              "color": "white"
             }
            },
            "type": "table"
           }
          ]
         },
         "layout": {
          "annotationdefaults": {
           "arrowcolor": "#2a3f5f",
           "arrowhead": 0,
           "arrowwidth": 1
          },
          "autotypenumbers": "strict",
          "coloraxis": {
           "colorbar": {
            "outlinewidth": 0,
            "ticks": ""
           }
          },
          "colorscale": {
           "diverging": [
            [
             0,
             "#8e0152"
            ],
            [
             0.1,
             "#c51b7d"
            ],
            [
             0.2,
             "#de77ae"
            ],
            [
             0.3,
             "#f1b6da"
            ],
            [
             0.4,
             "#fde0ef"
            ],
            [
             0.5,
             "#f7f7f7"
            ],
            [
             0.6,
             "#e6f5d0"
            ],
            [
             0.7,
             "#b8e186"
            ],
            [
             0.8,
             "#7fbc41"
            ],
            [
             0.9,
             "#4d9221"
            ],
            [
             1,
             "#276419"
            ]
           ],
           "sequential": [
            [
             0,
             "#0d0887"
            ],
            [
             0.1111111111111111,
             "#46039f"
            ],
            [
             0.2222222222222222,
             "#7201a8"
            ],
            [
             0.3333333333333333,
             "#9c179e"
            ],
            [
             0.4444444444444444,
             "#bd3786"
            ],
            [
             0.5555555555555556,
             "#d8576b"
            ],
            [
             0.6666666666666666,
             "#ed7953"
            ],
            [
             0.7777777777777778,
             "#fb9f3a"
            ],
            [
             0.8888888888888888,
             "#fdca26"
            ],
            [
             1,
             "#f0f921"
            ]
           ],
           "sequentialminus": [
            [
             0,
             "#0d0887"
            ],
            [
             0.1111111111111111,
             "#46039f"
            ],
            [
             0.2222222222222222,
             "#7201a8"
            ],
            [
             0.3333333333333333,
             "#9c179e"
            ],
            [
             0.4444444444444444,
             "#bd3786"
            ],
            [
             0.5555555555555556,
             "#d8576b"
            ],
            [
             0.6666666666666666,
             "#ed7953"
            ],
            [
             0.7777777777777778,
             "#fb9f3a"
            ],
            [
             0.8888888888888888,
             "#fdca26"
            ],
            [
             1,
             "#f0f921"
            ]
           ]
          },
          "colorway": [
           "#636efa",
           "#EF553B",
           "#00cc96",
           "#ab63fa",
           "#FFA15A",
           "#19d3f3",
           "#FF6692",
           "#B6E880",
           "#FF97FF",
           "#FECB52"
          ],
          "font": {
           "color": "#2a3f5f"
          },
          "geo": {
           "bgcolor": "white",
           "lakecolor": "white",
           "landcolor": "#E5ECF6",
           "showlakes": true,
           "showland": true,
           "subunitcolor": "white"
          },
          "hoverlabel": {
           "align": "left"
          },
          "hovermode": "closest",
          "mapbox": {
           "style": "light"
          },
          "paper_bgcolor": "white",
          "plot_bgcolor": "#E5ECF6",
          "polar": {
           "angularaxis": {
            "gridcolor": "white",
            "linecolor": "white",
            "ticks": ""
           },
           "bgcolor": "#E5ECF6",
           "radialaxis": {
            "gridcolor": "white",
            "linecolor": "white",
            "ticks": ""
           }
          },
          "scene": {
           "xaxis": {
            "backgroundcolor": "#E5ECF6",
            "gridcolor": "white",
            "gridwidth": 2,
            "linecolor": "white",
            "showbackground": true,
            "ticks": "",
            "zerolinecolor": "white"
           },
           "yaxis": {
            "backgroundcolor": "#E5ECF6",
            "gridcolor": "white",
            "gridwidth": 2,
            "linecolor": "white",
            "showbackground": true,
            "ticks": "",
            "zerolinecolor": "white"
           },
           "zaxis": {
            "backgroundcolor": "#E5ECF6",
            "gridcolor": "white",
            "gridwidth": 2,
            "linecolor": "white",
            "showbackground": true,
            "ticks": "",
            "zerolinecolor": "white"
           }
          },
          "shapedefaults": {
           "line": {
            "color": "#2a3f5f"
           }
          },
          "ternary": {
           "aaxis": {
            "gridcolor": "white",
            "linecolor": "white",
            "ticks": ""
           },
           "baxis": {
            "gridcolor": "white",
            "linecolor": "white",
            "ticks": ""
           },
           "bgcolor": "#E5ECF6",
           "caxis": {
            "gridcolor": "white",
            "linecolor": "white",
            "ticks": ""
           }
          },
          "title": {
           "x": 0.05
          },
          "xaxis": {
           "automargin": true,
           "gridcolor": "white",
           "linecolor": "white",
           "ticks": "",
           "title": {
            "standoff": 15
           },
           "zerolinecolor": "white",
           "zerolinewidth": 2
          },
          "yaxis": {
           "automargin": true,
           "gridcolor": "white",
           "linecolor": "white",
           "ticks": "",
           "title": {
            "standoff": 15
           },
           "zerolinecolor": "white",
           "zerolinewidth": 2
          }
         }
        },
        "title": {
         "text": "Linear Regression Model for Rav4"
        },
        "xaxis": {
         "title": {
          "text": "Mileage"
         }
        },
        "yaxis": {
         "title": {
          "text": "Price"
         }
        }
       }
      }
     },
     "metadata": {},
     "output_type": "display_data"
    }
   ],
   "source": [
    "from sklearn.linear_model import LinearRegression\n",
    "\n",
    "#create a linear regression model for the rav4 data\n",
    "explanatory = toyota_df[['Mileage']]\n",
    "response = toyota_df['price']\n",
    "\n",
    "# Create and fit the linear regression model\n",
    "\n",
    "rav4_model = LinearRegression()\n",
    "\n",
    "#fit the model\n",
    "rav4_model.fit(explanatory, response)\n",
    "\n",
    "# Plot the model\n",
    "t_fig = go.Figure()\n",
    "t_fig.add_trace(go.Scatter(x=explanatory['Mileage'], y=response, mode='markers', name='Actual'))\n",
    "t_fig.add_trace(go.Scatter(x=explanatory['Mileage'], y=rav4_model.predict(explanatory), mode='lines', name='Predicted'))\n",
    "t_fig.update_layout(title=\"Linear Regression Model for Rav4\", height=800)\n",
    "t_fig.update_xaxes(title=\"Mileage\")\n",
    "t_fig.update_yaxes(title=\"Price\")\n",
    "t_fig.show()"
   ]
  },
  {
   "cell_type": "code",
   "execution_count": 40,
   "metadata": {},
   "outputs": [
    {
     "name": "stdout",
     "output_type": "stream",
     "text": [
      "Regression equation: predicted_price = 37392.46 + -0.16 * mileage\n",
      "R^2: 0.74\n",
      "Standard Error: 4051.23\n"
     ]
    }
   ],
   "source": [
    "# Calculate the R^2 score for the Rav4 model\n",
    "rav_r2 = round(rav4_model.score(explanatory, response), 2)\n",
    "\n",
    "# Calculate the mean squared error\n",
    "rav_mse = mean_squared_error(response, rav4_model.predict(explanatory))\n",
    "\n",
    "# Calculate the standard error (root mean squared error)\n",
    "rav_standard_error = round(rav_mse ** 0.5, 2)\n",
    "\n",
    "\n",
    "#print the Rav4 regression equation\n",
    "print(f\"Regression equation: predicted_price = {round(rav4_model.intercept_, 2)} + {round(rav4_model.coef_[0], 2)} * mileage\")\n",
    "print(f\"R^2: {rav_r2}\")\n",
    "print(f\"Standard Error: {rav_standard_error}\")\n"
   ]
  },
  {
   "cell_type": "markdown",
   "metadata": {},
   "source": [
    "# Comparing the Toyota Rav4 to the Volvo XC60"
   ]
  },
  {
   "cell_type": "code",
   "execution_count": 41,
   "metadata": {},
   "outputs": [
    {
     "data": {
      "application/vnd.plotly.v1+json": {
       "config": {
        "plotlyServerURL": "https://plot.ly"
       },
       "data": [
        {
         "mode": "markers",
         "name": "Volvo XC60",
         "type": "scatter",
         "x": [
          39106,
          32922,
          24514,
          83670,
          22964,
          48894,
          30553,
          11527,
          24259,
          165954,
          49321,
          65123,
          56135,
          30156,
          31890,
          71641,
          35568,
          15964,
          21216,
          61143,
          90573,
          113925,
          123615,
          99033,
          14541,
          32006,
          23237,
          10991,
          10028,
          32723,
          33051,
          114773,
          12890,
          26467,
          42285,
          7107,
          51765,
          13203,
          11004,
          42172,
          5498,
          30046,
          38656,
          38132,
          14242,
          42431,
          72364,
          65529,
          14868,
          12111,
          84810,
          22507,
          23387,
          159490,
          27428,
          32475,
          22018,
          45007,
          20100,
          93137,
          10750,
          21110,
          37818,
          42582,
          34540,
          12553,
          48058,
          21050,
          42274,
          25496,
          31172,
          38035,
          56994,
          17585,
          33751,
          34205,
          12505,
          41842,
          13650,
          34777,
          53485,
          5051,
          50621,
          44208,
          5861,
          53134,
          7252,
          11882,
          38747,
          14232,
          43317,
          34294,
          28178,
          39738,
          11285,
          11812,
          27813,
          35480,
          14429,
          20455,
          8274,
          16008,
          18679,
          18265,
          20599,
          45521,
          11069,
          20419,
          42431,
          14266,
          22415,
          26954,
          26335,
          36120,
          24037,
          105635,
          26653,
          30120,
          41565,
          59617,
          33751,
          32371,
          28640,
          76740,
          74623,
          38444,
          34133,
          13424,
          20585,
          54329,
          33325,
          43955,
          27374,
          43831,
          140499,
          21863,
          34655,
          42365,
          28453,
          30448,
          34802,
          52141,
          82166,
          37284,
          36953,
          35010,
          27368,
          28998,
          29224,
          34022,
          15825,
          36953,
          10811,
          30448,
          11933,
          52060,
          11837,
          39091,
          12549,
          33209,
          12860,
          111027,
          13109,
          63267,
          60090,
          171792,
          14612,
          14978,
          71735,
          46211,
          13843,
          66220,
          73085,
          69596,
          24236,
          25409,
          51996,
          23101,
          67500,
          43361,
          23368,
          42954,
          24014,
          29290,
          27075,
          67198,
          31031,
          28055,
          70113,
          36639,
          52145,
          54567,
          39482,
          32861,
          50504,
          35891,
          43243,
          53965,
          59725,
          55683,
          56353,
          45682,
          50603,
          44805,
          51077,
          63230,
          47784,
          39200,
          5226,
          5625,
          23485,
          24535,
          691,
          54545,
          125230,
          85620,
          57337,
          27201,
          25502,
          68287,
          39496,
          65764,
          30663,
          18885,
          77448,
          28069,
          36681,
          73406,
          60401,
          77476,
          46946,
          30821,
          50545,
          10933,
          50434,
          140292,
          37862,
          31527,
          40032,
          157076,
          41509,
          37887,
          49802,
          41245,
          57425,
          65675,
          47405,
          67977,
          142252,
          61404,
          37453
         ],
         "y": [
          27293,
          37175,
          31789,
          11799,
          45482,
          27998,
          40675,
          45850,
          34120,
          7902,
          28998,
          18998,
          19998,
          37250,
          34000,
          24998,
          36099,
          45990,
          44920,
          31110,
          15900,
          9999,
          6999,
          26988,
          35990,
          27199,
          30998,
          30998,
          38590,
          37500,
          29998,
          10999,
          33998,
          31590,
          28998,
          41998,
          28998,
          43998,
          38998,
          28998,
          42998,
          31998,
          33990,
          30998,
          34299,
          26998,
          24998,
          15200,
          39998,
          40500,
          22359,
          32890,
          36590,
          5900,
          31998,
          28998,
          35461,
          32998,
          36998,
          13623,
          41500,
          35998,
          29998,
          24998,
          25998,
          40998,
          28998,
          34359,
          31998,
          44759,
          32990,
          39590,
          27998,
          34998,
          30998,
          33998,
          41759,
          29998,
          41000,
          28998,
          22998,
          36998,
          26590,
          28998,
          55989,
          29998,
          40998,
          31998,
          34998,
          32998,
          28998,
          34998,
          29554,
          33998,
          55998,
          41998,
          28417,
          35998,
          39422,
          27998,
          41998,
          39998,
          30998,
          37998,
          32990,
          27998,
          49500,
          33998,
          26998,
          51990,
          39899,
          28998,
          33588,
          28998,
          34998,
          10999,
          31998,
          27998,
          27998,
          27998,
          30998,
          39990,
          33990,
          26787,
          21749,
          28998,
          30998,
          38590,
          32590,
          23797,
          30998,
          25998,
          33998,
          26998,
          12359,
          31590,
          30998,
          26998,
          35193,
          31998,
          44359,
          25998,
          25199,
          30998,
          26998,
          34998,
          40991,
          32998,
          38000,
          27998,
          37990,
          26998,
          41998,
          31998,
          37998,
          25998,
          39998,
          26998,
          41998,
          30998,
          40998,
          9500,
          41998,
          24998,
          24998,
          8999,
          37998,
          33998,
          17998,
          19590,
          48500,
          18998,
          18998,
          18998,
          30998,
          45759,
          19998,
          37998,
          19998,
          20998,
          37998,
          24590,
          37998,
          28998,
          32998,
          24590,
          38590,
          32590,
          24990,
          29998,
          25998,
          25998,
          28998,
          35590,
          24998,
          32998,
          40590,
          26998,
          26998,
          26998,
          26998,
          27998,
          27998,
          28998,
          32590,
          27998,
          28998,
          20590,
          37998,
          38998,
          33998,
          31998,
          53990,
          20998,
          10899,
          12997,
          23990,
          32998,
          42998,
          23628,
          38990,
          22998,
          29998,
          43590,
          22498,
          41998,
          26904,
          15990,
          16590,
          17590,
          25998,
          29990,
          34998,
          38990,
          24990,
          8359,
          29590,
          32590,
          30590,
          12719,
          28990,
          32590,
          32990,
          32590,
          16590,
          18990,
          19990,
          19590,
          7999,
          16590,
          35000
         ]
        },
        {
         "mode": "markers",
         "name": "Toyota RAV4",
         "type": "scatter",
         "x": [
          41706,
          36517,
          46231,
          58206,
          5794,
          73319,
          36957,
          62737,
          55523,
          17529,
          9691,
          53609,
          40301,
          31983,
          74530,
          55502,
          74202,
          57361,
          22962,
          275,
          48201,
          58874,
          58140,
          21339,
          170240,
          39398,
          49205,
          16054,
          15546,
          150951,
          53812,
          195319,
          43359,
          12886,
          51416,
          149934,
          76628,
          81794,
          54491,
          99218,
          59150,
          23484,
          14194,
          39941,
          27123,
          14410,
          36298,
          61722,
          33221,
          41797,
          63180,
          57146,
          36653,
          124729,
          85019,
          83589,
          55848,
          51073,
          29505,
          18011,
          45837,
          62900,
          42330,
          148533,
          18393,
          63005,
          19919,
          19585,
          135707,
          39278,
          57563,
          39855,
          182467,
          122075,
          18016,
          4078,
          53906,
          26462,
          40886,
          55123,
          56371,
          31617,
          88773,
          57219,
          34798,
          186545,
          12674,
          37728,
          54653,
          107751,
          78794,
          47918,
          25188,
          73067,
          23416,
          39939,
          35167,
          33450,
          28471,
          58218,
          58876,
          134568,
          47218,
          22541,
          87481,
          28268,
          33662,
          56680,
          35333,
          55160,
          62396,
          39293,
          60958,
          183288,
          30395,
          65841,
          69870,
          89082,
          35548,
          33769,
          25366,
          24579,
          20455,
          36318,
          59896,
          28024,
          69552,
          57072,
          21717,
          129761,
          51578,
          141220,
          98300,
          52598,
          41588,
          58680,
          31293,
          57393,
          75993,
          8688,
          33662,
          230676,
          56951,
          18689,
          16764,
          59841,
          17477,
          44542,
          33436,
          37460,
          33346,
          41109,
          39879,
          145190,
          50176,
          73150,
          55921,
          66238,
          20109,
          49043,
          10490,
          52852,
          64108,
          38788,
          49882,
          37599,
          47961,
          11566,
          124135,
          136134,
          91613,
          41287,
          38168,
          90880,
          43453,
          81112,
          54625,
          61680,
          51510,
          31226,
          40511,
          54534,
          112533,
          58689,
          44183,
          120813,
          99620,
          56755,
          59118,
          61147,
          119312,
          66348,
          42099,
          53253,
          55288,
          39911,
          49322,
          75552,
          77163,
          40455,
          44462,
          156461,
          13154,
          12999,
          191660,
          30831,
          59576,
          61964,
          2456,
          46179,
          56494,
          10906,
          59404,
          61101,
          174797,
          33726,
          171277,
          25913,
          18209,
          39146,
          122682,
          46606,
          42867,
          43555,
          206590,
          54919,
          50367,
          41290,
          41929,
          49756,
          29272,
          31754,
          107003,
          38587,
          17793,
          42086,
          45709,
          125344,
          32546,
          44049,
          147706,
          33506,
          53755,
          3620,
          49779,
          30638,
          36831,
          62121,
          30668,
          32317,
          113910,
          37841,
          19378,
          57976,
          182318,
          74930,
          37543,
          61047,
          21197,
          58138,
          172777,
          55068,
          96168,
          16527,
          57442,
          54669,
          64381,
          62149,
          50133,
          39674,
          102969,
          40100,
          234723,
          39898,
          38566,
          50241,
          51310,
          19012,
          51907,
          36000,
          18641,
          6728,
          6818,
          36134,
          57274,
          43291,
          51064,
          36619,
          47943,
          60332,
          112785,
          32044,
          27257,
          80030,
          26727,
          105949,
          47565,
          27829,
          28360,
          29274
         ],
         "y": [
          22953,
          30798,
          28489,
          23189,
          41553,
          22519,
          31422,
          26990,
          23990,
          41450,
          47000,
          28398,
          36990,
          32590,
          33491,
          24489,
          19341,
          25969,
          31563,
          52995,
          30191,
          25269,
          23498,
          27299,
          9999,
          30798,
          26074,
          41200,
          33789,
          19990,
          32698,
          5041,
          29998,
          31988,
          28398,
          15298,
          31613,
          23492,
          28398,
          16598,
          24498,
          30684,
          34290,
          30798,
          31790,
          33489,
          30798,
          29490,
          29876,
          30498,
          19297,
          25239,
          27298,
          16699,
          22174,
          26991,
          28398,
          26998,
          42697,
          38586,
          33205,
          30692,
          29998,
          16991,
          32587,
          29490,
          32599,
          33301,
          14498,
          36254,
          38041,
          25999,
          8899,
          15861,
          34291,
          32798,
          28555,
          27998,
          30498,
          28398,
          27190,
          34998,
          25000,
          26787,
          32591,
          9500,
          39600,
          30798,
          24189,
          18995,
          22589,
          34798,
          35798,
          26099,
          38490,
          29300,
          31847,
          31398,
          47092,
          27398,
          23500,
          12500,
          31573,
          30950,
          22571,
          30797,
          30799,
          25589,
          30999,
          26789,
          26990,
          30798,
          28999,
          8499,
          31491,
          28000,
          24900,
          20690,
          30798,
          32680,
          32920,
          29160,
          33000,
          30799,
          25039,
          27500,
          16988,
          26798,
          31777,
          10645,
          24999,
          12790,
          15495,
          26389,
          30498,
          25189,
          30398,
          29990,
          22871,
          33999,
          30799,
          8630,
          25989,
          31295,
          34821,
          23989,
          34389,
          34398,
          27498,
          30999,
          32495,
          30498,
          25980,
          13996,
          23850,
          26171,
          26890,
          24498,
          47498,
          32349,
          34000,
          21988,
          25500,
          33788,
          28998,
          30798,
          30300,
          30988,
          12498,
          9971,
          16940,
          30498,
          30798,
          18999,
          32500,
          19314,
          28398,
          24765,
          26389,
          36499,
          28998,
          23498,
          18091,
          26990,
          19990,
          14329,
          12914,
          29991,
          21488,
          26499,
          14490,
          29980,
          34191,
          26889,
          23990,
          30798,
          33500,
          23497,
          27993,
          33591,
          25900,
          11018,
          43174,
          39000,
          10200,
          32591,
          28398,
          31499,
          49500,
          33900,
          27689,
          34000,
          25189,
          28398,
          10599,
          32591,
          8499,
          40500,
          36798,
          30998,
          11650,
          24989,
          32997,
          26499,
          6998,
          26990,
          28798,
          27499,
          32548,
          28995,
          28985,
          39000,
          22500,
          30798,
          28291,
          30498,
          28998,
          13990,
          27499,
          25500,
          16995,
          33000,
          26520,
          50101,
          30466,
          34191,
          36498,
          24269,
          31840,
          31961,
          23991,
          29360,
          29298,
          30995,
          11498,
          31410,
          30798,
          30448,
          32125,
          28000,
          9250,
          26198,
          14497,
          30669,
          24389,
          26489,
          28998,
          27440,
          21000,
          35000,
          23900,
          30498,
          6789,
          30798,
          30798,
          34998,
          23839,
          37798,
          33098,
          32400,
          31811,
          41790,
          51000,
          30798,
          26990,
          29098,
          24689,
          40980,
          37097,
          26990,
          17988,
          32350,
          32498,
          24600,
          33000,
          20299,
          30191,
          29989,
          28498,
          30999
         ]
        },
        {
         "mode": "lines",
         "name": "Volvo XC60 Model",
         "type": "scatter",
         "x": [
          39106,
          32922,
          24514,
          83670,
          22964,
          48894,
          30553,
          11527,
          24259,
          165954,
          49321,
          65123,
          56135,
          30156,
          31890,
          71641,
          35568,
          15964,
          21216,
          61143,
          90573,
          113925,
          123615,
          99033,
          14541,
          32006,
          23237,
          10991,
          10028,
          32723,
          33051,
          114773,
          12890,
          26467,
          42285,
          7107,
          51765,
          13203,
          11004,
          42172,
          5498,
          30046,
          38656,
          38132,
          14242,
          42431,
          72364,
          65529,
          14868,
          12111,
          84810,
          22507,
          23387,
          159490,
          27428,
          32475,
          22018,
          45007,
          20100,
          93137,
          10750,
          21110,
          37818,
          42582,
          34540,
          12553,
          48058,
          21050,
          42274,
          25496,
          31172,
          38035,
          56994,
          17585,
          33751,
          34205,
          12505,
          41842,
          13650,
          34777,
          53485,
          5051,
          50621,
          44208,
          5861,
          53134,
          7252,
          11882,
          38747,
          14232,
          43317,
          34294,
          28178,
          39738,
          11285,
          11812,
          27813,
          35480,
          14429,
          20455,
          8274,
          16008,
          18679,
          18265,
          20599,
          45521,
          11069,
          20419,
          42431,
          14266,
          22415,
          26954,
          26335,
          36120,
          24037,
          105635,
          26653,
          30120,
          41565,
          59617,
          33751,
          32371,
          28640,
          76740,
          74623,
          38444,
          34133,
          13424,
          20585,
          54329,
          33325,
          43955,
          27374,
          43831,
          140499,
          21863,
          34655,
          42365,
          28453,
          30448,
          34802,
          52141,
          82166,
          37284,
          36953,
          35010,
          27368,
          28998,
          29224,
          34022,
          15825,
          36953,
          10811,
          30448,
          11933,
          52060,
          11837,
          39091,
          12549,
          33209,
          12860,
          111027,
          13109,
          63267,
          60090,
          171792,
          14612,
          14978,
          71735,
          46211,
          13843,
          66220,
          73085,
          69596,
          24236,
          25409,
          51996,
          23101,
          67500,
          43361,
          23368,
          42954,
          24014,
          29290,
          27075,
          67198,
          31031,
          28055,
          70113,
          36639,
          52145,
          54567,
          39482,
          32861,
          50504,
          35891,
          43243,
          53965,
          59725,
          55683,
          56353,
          45682,
          50603,
          44805,
          51077,
          63230,
          47784,
          39200,
          5226,
          5625,
          23485,
          24535,
          691,
          54545,
          125230,
          85620,
          57337,
          27201,
          25502,
          68287,
          39496,
          65764,
          30663,
          18885,
          77448,
          28069,
          36681,
          73406,
          60401,
          77476,
          46946,
          30821,
          50545,
          10933,
          50434,
          140292,
          37862,
          31527,
          40032,
          157076,
          41509,
          37887,
          49802,
          41245,
          57425,
          65675,
          47405,
          67977,
          142252,
          61404,
          37453
         ],
         "y": [
          31318.91800073305,
          32922.412280094766,
          35102.58367415577,
          19763.594736587624,
          35504.49443305142,
          28780.91638262302,
          33536.68749804559,
          38470.077239173654,
          35168.7044764257,
          -1572.4213182311214,
          28670.196450978867,
          24572.781088353742,
          26903.34489542086,
          33639.628511775634,
          33190.007056340124,
          22882.681522881612,
          32236.311720070335,
          37319.5752796769,
          35957.74605018018,
          25604.784198292233,
          17973.665724551094,
          11918.556020208485,
          9405.96553395121,
          15780.010872772298,
          37688.55528606948,
          33159.9285737389,
          35433.706280033024,
          38609.0605725724,
          38858.763837615305,
          32974.01243559169,
          32888.9629330641,
          11698.671940502998,
          38116.65506860929,
          34596.17611794727,
          30494.611999101282,
          39616.17114518574,
          28036.473938242772,
          38035.49502503875,
          38605.689708142956,
          30523.91258991109,
          40033.3804426458,
          33668.151210794036,
          31435.601769444693,
          31571.473535677796,
          37766.08516794677,
          30456.754598585947,
          22695.209601151582,
          24467.506399249465,
          37603.765080805686,
          38318.64763711233,
          19467.995855851474,
          35622.99328260968,
          35394.81169046248,
          103.6761949956126,
          34346.99144743197,
          33038.31815701499,
          35749.78964460966,
          29788.80484702777,
          36247.121796585045,
          17308.82754015856,
          38671.55121314908,
          35985.231560143366,
          31652.89287651214,
          30417.6007117516,
          32502.869307260473,
          38204.03824651112,
          28997.688895162864,
          36000.78939597159,
          30497.464269003118,
          34847.9537611006,
          33376.18249175113,
          31596.625370266753,
          26680.608545813535,
          36899.2544150512,
          32707.454848401547,
          32589.733890634692,
          38216.48451517369,
          30609.480686966293,
          37919.589148118524,
          32441.41585573901,
          27590.48264450051,
          40149.286319566025,
          28333.110008034135,
          29995.98336080688,
          39939.25553588508,
          27681.495984095585,
          39578.573041934214,
          38378.02671052336,
          31412.00571843856,
          37768.6781405848,
          30227.017222855924,
          32566.65643415617,
          34152.51849957924,
          31155.042130009155,
          38532.82717701413,
          38396.177518989614,
          34247.16200086757,
          32259.129879285054,
          37717.596579615485,
          36155.07126793475,
          39313.57123832689,
          37308.166200069536,
          36615.583208450014,
          36722.93227566472,
          36117.732461947024,
          29655.526053432703,
          38588.83538599572,
          36164.40596943168,
          30456.754598585947,
          37759.86203361548,
          35646.84863087961,
          34469.89835047489,
          34630.40335676934,
          32093.179630450722,
          35226.26846899011,
          14068.130337140661,
          34547.94682687979,
          33648.96321327257,
          30681.3060290399,
          26000.471822856583,
          32707.454848401547,
          33065.28507245057,
          34032.72316370195,
          21560.524774746853,
          22109.457082219156,
          31490.572789371065,
          32608.40329362856,
          37978.19032973814,
          36121.36262364028,
          27371.635753850234,
          32817.9154827819,
          30061.5855685492,
          34360.99349967736,
          30093.738429260855,
          5027.990531890544,
          35789.980720499225,
          32473.050121923057,
          30473.86821799699,
          34081.21175203323,
          33563.91371074497,
          32434.93342414392,
          27938.9781670526,
          20153.5778213483,
          31791.357615383284,
          31877.18500970229,
          32380.99959327276,
          34362.54928326018,
          33939.89474326025,
          33881.293561640625,
          32637.18528991076,
          37355.617599345605,
          31877.18500970229,
          38655.73408005706,
          33563.91371074497,
          38364.80255006938,
          27959.981245420695,
          38389.695087394524,
          31322.807459690106,
          38205.07543556633,
          32847.993965383124,
          38124.4339865234,
          12669.999490711434,
          38059.86896783629,
          25054.0368099733,
          25877.82421707746,
          -3086.1987443167745,
          37670.14518033942,
          37575.24238178729,
          22858.30758008407,
          29476.610941408188,
          37869.54477620442,
          24288.33198996115,
          22508.25627394916,
          23412.944427360057,
          35174.66831349319,
          34870.512623051516,
          27976.57627030413,
          35468.97070791032,
          23956.43149229249,
          30215.608143248563,
          35399.738338474745,
          30321.142129616645,
          35232.232306057595,
          33864.17994222959,
          34438.52338155465,
          24034.739265961187,
          33412.74340594745,
          34184.412063027085,
          23278.887741973576,
          31958.604350536632,
          27937.940977997387,
          27309.92300506497,
          31221.422229542884,
          32938.22941318679,
          28363.44778789916,
          32152.55870386176,
          30246.205220377393,
          27466.019957874763,
          25972.46771836579,
          27020.547258660106,
          26846.818091911668,
          29613.779193960312,
          28337.7773587826,
          29841.18289431611,
          28214.870455739674,
          25063.630808734033,
          29068.73634544506,
          31294.544057935513,
          40103.90929840039,
          40000.449690142734,
          35369.40055860972,
          35097.138431615895,
          41279.8223897499,
          27315.62754486865,
          8987.200452908328,
          19257.965072170526,
          26591.669584328884,
          34405.851926315394,
          34846.39797751778,
          23752.364545679022,
          31217.792067849634,
          24406.57154225561,
          33508.16479902719,
          36562.167972106465,
          21376.942311973875,
          34180.78190133383,
          31947.71386545688,
          22425.02185226819,
          25797.18276803453,
          21369.681988587374,
          29286.027452512513,
          33467.19583134622,
          28352.816600083213,
          38624.099813873014,
          28381.598596365417,
          5081.665065497895,
          31641.48379690478,
          33284.131963100845,
          31078.808734450882,
          729.619789817596,
          30695.826675812903,
          31635.00136530969,
          28545.474467089316,
          30764.281153457065,
          26568.851425114168,
          24429.648998734134,
          29167.01000842664,
          23832.74669745815,
          4573.442428442766,
          25537.107612439482,
          31747.53637780047
         ]
        },
        {
         "mode": "lines",
         "name": "Toyota RAV4 Model",
         "type": "scatter",
         "x": [
          41706,
          36517,
          46231,
          58206,
          5794,
          73319,
          36957,
          62737,
          55523,
          17529,
          9691,
          53609,
          40301,
          31983,
          74530,
          55502,
          74202,
          57361,
          22962,
          275,
          48201,
          58874,
          58140,
          21339,
          170240,
          39398,
          49205,
          16054,
          15546,
          150951,
          53812,
          195319,
          43359,
          12886,
          51416,
          149934,
          76628,
          81794,
          54491,
          99218,
          59150,
          23484,
          14194,
          39941,
          27123,
          14410,
          36298,
          61722,
          33221,
          41797,
          63180,
          57146,
          36653,
          124729,
          85019,
          83589,
          55848,
          51073,
          29505,
          18011,
          45837,
          62900,
          42330,
          148533,
          18393,
          63005,
          19919,
          19585,
          135707,
          39278,
          57563,
          39855,
          182467,
          122075,
          18016,
          4078,
          53906,
          26462,
          40886,
          55123,
          56371,
          31617,
          88773,
          57219,
          34798,
          186545,
          12674,
          37728,
          54653,
          107751,
          78794,
          47918,
          25188,
          73067,
          23416,
          39939,
          35167,
          33450,
          28471,
          58218,
          58876,
          134568,
          47218,
          22541,
          87481,
          28268,
          33662,
          56680,
          35333,
          55160,
          62396,
          39293,
          60958,
          183288,
          30395,
          65841,
          69870,
          89082,
          35548,
          33769,
          25366,
          24579,
          20455,
          36318,
          59896,
          28024,
          69552,
          57072,
          21717,
          129761,
          51578,
          141220,
          98300,
          52598,
          41588,
          58680,
          31293,
          57393,
          75993,
          8688,
          33662,
          230676,
          56951,
          18689,
          16764,
          59841,
          17477,
          44542,
          33436,
          37460,
          33346,
          41109,
          39879,
          145190,
          50176,
          73150,
          55921,
          66238,
          20109,
          49043,
          10490,
          52852,
          64108,
          38788,
          49882,
          37599,
          47961,
          11566,
          124135,
          136134,
          91613,
          41287,
          38168,
          90880,
          43453,
          81112,
          54625,
          61680,
          51510,
          31226,
          40511,
          54534,
          112533,
          58689,
          44183,
          120813,
          99620,
          56755,
          59118,
          61147,
          119312,
          66348,
          42099,
          53253,
          55288,
          39911,
          49322,
          75552,
          77163,
          40455,
          44462,
          156461,
          13154,
          12999,
          191660,
          30831,
          59576,
          61964,
          2456,
          46179,
          56494,
          10906,
          59404,
          61101,
          174797,
          33726,
          171277,
          25913,
          18209,
          39146,
          122682,
          46606,
          42867,
          43555,
          206590,
          54919,
          50367,
          41290,
          41929,
          49756,
          29272,
          31754,
          107003,
          38587,
          17793,
          42086,
          45709,
          125344,
          32546,
          44049,
          147706,
          33506,
          53755,
          3620,
          49779,
          30638,
          36831,
          62121,
          30668,
          32317,
          113910,
          37841,
          19378,
          57976,
          182318,
          74930,
          37543,
          61047,
          21197,
          58138,
          172777,
          55068,
          96168,
          16527,
          57442,
          54669,
          64381,
          62149,
          50133,
          39674,
          102969,
          40100,
          234723,
          39898,
          38566,
          50241,
          51310,
          19012,
          51907,
          36000,
          18641,
          6728,
          6818,
          36134,
          57274,
          43291,
          51064,
          36619,
          47943,
          60332,
          112785,
          32044,
          27257,
          80030,
          26727,
          105949,
          47565,
          27829,
          28360,
          29274
         ],
         "y": [
          30525.582015558703,
          31379.949242657538,
          29780.542180788565,
          27808.86217606539,
          36438.481583794084,
          25320.51145277676,
          31307.50338027105,
          27062.834443171803,
          28250.617286935725,
          34506.31750400899,
          35796.84175261194,
          28565.756788316954,
          30756.91482613374,
          32126.47092461285,
          25121.120681526674,
          28254.07493036781,
          25175.125778942056,
          27947.9911617849,
          33611.775753223104,
          37347.183207682785,
          29456.18229692179,
          27698.876184987723,
          27819.729055423362,
          33879.0021956169,
          9362.499115593047,
          30905.593493713284,
          29290.874010930802,
          34749.17579269097,
          34832.81783380992,
          12538.426932804348,
          28532.33290180682,
          5233.249609250455,
          30253.416082547647,
          35270.78600187369,
          28926.8335524387,
          12705.875664729483,
          24775.68563769292,
          23925.10535340065,
          28420.535764169494,
          21056.249202895713,
          27653.432871308927,
          33525.82861648277,
          35055.42421096113,
          30816.188713540865,
          32926.66840460907,
          35019.85987851685,
          31416.007524163542,
          27229.95387572245,
          31922.634611807232,
          30510.598894019677,
          26989.89463172359,
          27983.39084454193,
          31357.556885192622,
          16855.871031664567,
          23394.11011204514,
          23629.559164801227,
          28197.106138582072,
          28983.308395162712,
          32534.472849598576,
          34426.95635475834,
          29845.41415756192,
          27035.996544151356,
          30422.840610719682,
          12936.54987655555,
          34364.06017423189,
          27018.70832699094,
          34112.80475150057,
          34167.7977470394,
          15048.346765121685,
          30925.351456182325,
          27914.73192496201,
          30830.34858664368,
          7349.3273896848805,
          17292.851301604886,
          34426.13310632213,
          36721.02044710139,
          28516.85583120607,
          33035.50184787604,
          30660.59475909716,
          28316.477161832536,
          28110.994352154496,
          32186.73271014343,
          22776.015186138597,
          27971.371417373266,
          31662.98205502657,
          6677.885965111927,
          35305.691735568995,
          31180.558471407454,
          28393.862514836284,
          19651.293421659564,
          24419.054415126706,
          29502.77815841128,
          33245.26554942237,
          25362.003173961748,
          33537.02479521523,
          30816.51801291535,
          31602.226320434263,
          31884.92983342881,
          32704.72062620682,
          27806.886379818487,
          27698.546885613236,
          15235.882758890344,
          29618.032939480694,
          33681.093271551996,
          22988.74258205529,
          32738.144512716954,
          31850.024099733502,
          28060.11759879671,
          31574.89447235209,
          28310.38512340458,
          27118.97998652133,
          30922.881710873695,
          27355.746236775354,
          7214.149996459182,
          32387.93462795318,
          26551.761813972575,
          25888.388224074482,
          22725.138432780815,
          31539.494789595054,
          31832.406583198608,
          33215.957905093295,
          33345.53720895276,
          34024.552519138844,
          31412.7145304187,
          27530.60420462638,
          32778.319036404006,
          25940.746824617447,
          27995.57492139784,
          33816.76461383942,
          16027.353805462728,
          28900.16030310549,
          14140.633039356435,
          21207.397615783884,
          28732.21762211863,
          30545.01067865326,
          27730.818224312672,
          32240.079208809846,
          27942.722371793152,
          24880.2381890916,
          35961.98538891568,
          31850.024099733502,
          -588.2693825656097,
          28015.497533554124,
          34315.32386680825,
          34632.27451474914,
          27539.65993742469,
          34514.87928774558,
          30058.63550254034,
          31887.2349290502,
          31224.684587588315,
          31902.05340090198,
          30623.877878842188,
          30826.396994149873,
          13486.973781005618,
          29130.999164618803,
          25348.33724992066,
          28185.0867114134,
          26486.395888137493,
          34081.52131092458,
          29317.54726026401,
          35665.286652505565,
          28690.396601559158,
          26837.099721962993,
          31006.029802930912,
          29179.406172667957,
          31201.798281061674,
          29495.698221859875,
          35488.12358903315,
          16953.672945886326,
          14978.041348669343,
          22308.410074371266,
          30594.570234513107,
          31108.112609020965,
          22429.098295119664,
          30237.939011946895,
          24037.396440099707,
          28398.47270607906,
          27236.86916258662,
          28911.35648183795,
          32251.11073785506,
          30722.338391812915,
          28413.455827618083,
          18863.93861726823,
          27729.336377127496,
          30117.744740260223,
          17500.639206904314,
          20990.06002862442,
          28047.76887225356,
          27658.70166130067,
          27324.627445886614,
          17747.778387454586,
          26468.284422540873,
          30460.874688472588,
          28624.37207697511,
          28289.3099634376,
          30821.128204158125,
          29271.609997523487,
          24952.84870116533,
          24687.59805501844,
          30731.558774298468,
          30071.8074775197,
          11631.207156100823,
          35226.659885692825,
          35252.18058721534,
          5835.702814869001,
          32316.147364315657,
          27583.292104543827,
          27190.108651409886,
          36988.08223980795,
          29789.10396452515,
          28090.742440623726,
          35596.79238261288,
          27611.611850749454,
          27332.201331499746,
          8612.190490831166,
          31839.48651975001,
          9191.757389923074,
          33125.894526171905,
          34394.35571668442,
          30947.08521489827,
          17192.90894144898,
          29718.79854807281,
          30334.423728670718,
          30221.14474384821,
          3377.482984345661,
          28350.065698029906,
          29099.55107435558,
          30594.07628545138,
          30488.86513530373,
          29200.15203326045,
          32572.836226725965,
          32164.175702991273,
          19774.451387716595,
          31039.124390066558,
          34462.8499865771,
          30463.015134406734,
          29866.4893175289,
          16754.611474010726,
          32033.773150695597,
          30139.807798350652,
          13072.715167904698,
          31875.709450943257,
          28541.717933979617,
          36796.43000385824,
          29196.365090453884,
          32347.924753953368,
          31328.249240863544,
          27164.258650512886,
          32342.985263336108,
          32071.47792907402,
          18637.21599793597,
          31161.953056749106,
          34201.8802322985,
          27846.731604131055,
          7373.860193083943,
          25055.260806629867,
          31211.018663547227,
          27341.092414610815,
          33902.38245120527,
          27820.058354797846,
          8944.782859060044,
          28325.532894630844,
          21558.43074898387,
          34671.29649062549,
          27934.654537118295,
          28391.22811984041,
          26792.150357345927,
          27159.64845927011,
          29138.07910117021,
          30860.150180034485,
          20438.6482260509,
          30790.009413269385,
          -1254.6066668340573,
          30823.268650092272,
          31042.582033498642,
          29120.29693494807,
          28944.286419286353,
          34262.14201782908,
          28845.990556002867,
          31465.07313096166,
          34323.22705179587,
          36284.69877591004,
          36269.88030405826,
          31443.01007287123,
          27962.315684574955,
          30264.612261280105,
          28984.790242347888,
          31363.154974558853,
          29498.66191623023,
          27458.816940988858,
          18822.446896083242,
          32116.42729369109,
          32904.605346518634,
          24215.54740169557,
          32991.86968075691,
          19947.992158069683,
          29560.899498007715,
          32810.4257254162,
          32722.996741490686,
          32572.506927351482
         ]
        }
       ],
       "layout": {
        "height": 800,
        "template": {
         "data": {
          "bar": [
           {
            "error_x": {
             "color": "#2a3f5f"
            },
            "error_y": {
             "color": "#2a3f5f"
            },
            "marker": {
             "line": {
              "color": "#E5ECF6",
              "width": 0.5
             },
             "pattern": {
              "fillmode": "overlay",
              "size": 10,
              "solidity": 0.2
             }
            },
            "type": "bar"
           }
          ],
          "barpolar": [
           {
            "marker": {
             "line": {
              "color": "#E5ECF6",
              "width": 0.5
             },
             "pattern": {
              "fillmode": "overlay",
              "size": 10,
              "solidity": 0.2
             }
            },
            "type": "barpolar"
           }
          ],
          "carpet": [
           {
            "aaxis": {
             "endlinecolor": "#2a3f5f",
             "gridcolor": "white",
             "linecolor": "white",
             "minorgridcolor": "white",
             "startlinecolor": "#2a3f5f"
            },
            "baxis": {
             "endlinecolor": "#2a3f5f",
             "gridcolor": "white",
             "linecolor": "white",
             "minorgridcolor": "white",
             "startlinecolor": "#2a3f5f"
            },
            "type": "carpet"
           }
          ],
          "choropleth": [
           {
            "colorbar": {
             "outlinewidth": 0,
             "ticks": ""
            },
            "type": "choropleth"
           }
          ],
          "contour": [
           {
            "colorbar": {
             "outlinewidth": 0,
             "ticks": ""
            },
            "colorscale": [
             [
              0,
              "#0d0887"
             ],
             [
              0.1111111111111111,
              "#46039f"
             ],
             [
              0.2222222222222222,
              "#7201a8"
             ],
             [
              0.3333333333333333,
              "#9c179e"
             ],
             [
              0.4444444444444444,
              "#bd3786"
             ],
             [
              0.5555555555555556,
              "#d8576b"
             ],
             [
              0.6666666666666666,
              "#ed7953"
             ],
             [
              0.7777777777777778,
              "#fb9f3a"
             ],
             [
              0.8888888888888888,
              "#fdca26"
             ],
             [
              1,
              "#f0f921"
             ]
            ],
            "type": "contour"
           }
          ],
          "contourcarpet": [
           {
            "colorbar": {
             "outlinewidth": 0,
             "ticks": ""
            },
            "type": "contourcarpet"
           }
          ],
          "heatmap": [
           {
            "colorbar": {
             "outlinewidth": 0,
             "ticks": ""
            },
            "colorscale": [
             [
              0,
              "#0d0887"
             ],
             [
              0.1111111111111111,
              "#46039f"
             ],
             [
              0.2222222222222222,
              "#7201a8"
             ],
             [
              0.3333333333333333,
              "#9c179e"
             ],
             [
              0.4444444444444444,
              "#bd3786"
             ],
             [
              0.5555555555555556,
              "#d8576b"
             ],
             [
              0.6666666666666666,
              "#ed7953"
             ],
             [
              0.7777777777777778,
              "#fb9f3a"
             ],
             [
              0.8888888888888888,
              "#fdca26"
             ],
             [
              1,
              "#f0f921"
             ]
            ],
            "type": "heatmap"
           }
          ],
          "heatmapgl": [
           {
            "colorbar": {
             "outlinewidth": 0,
             "ticks": ""
            },
            "colorscale": [
             [
              0,
              "#0d0887"
             ],
             [
              0.1111111111111111,
              "#46039f"
             ],
             [
              0.2222222222222222,
              "#7201a8"
             ],
             [
              0.3333333333333333,
              "#9c179e"
             ],
             [
              0.4444444444444444,
              "#bd3786"
             ],
             [
              0.5555555555555556,
              "#d8576b"
             ],
             [
              0.6666666666666666,
              "#ed7953"
             ],
             [
              0.7777777777777778,
              "#fb9f3a"
             ],
             [
              0.8888888888888888,
              "#fdca26"
             ],
             [
              1,
              "#f0f921"
             ]
            ],
            "type": "heatmapgl"
           }
          ],
          "histogram": [
           {
            "marker": {
             "pattern": {
              "fillmode": "overlay",
              "size": 10,
              "solidity": 0.2
             }
            },
            "type": "histogram"
           }
          ],
          "histogram2d": [
           {
            "colorbar": {
             "outlinewidth": 0,
             "ticks": ""
            },
            "colorscale": [
             [
              0,
              "#0d0887"
             ],
             [
              0.1111111111111111,
              "#46039f"
             ],
             [
              0.2222222222222222,
              "#7201a8"
             ],
             [
              0.3333333333333333,
              "#9c179e"
             ],
             [
              0.4444444444444444,
              "#bd3786"
             ],
             [
              0.5555555555555556,
              "#d8576b"
             ],
             [
              0.6666666666666666,
              "#ed7953"
             ],
             [
              0.7777777777777778,
              "#fb9f3a"
             ],
             [
              0.8888888888888888,
              "#fdca26"
             ],
             [
              1,
              "#f0f921"
             ]
            ],
            "type": "histogram2d"
           }
          ],
          "histogram2dcontour": [
           {
            "colorbar": {
             "outlinewidth": 0,
             "ticks": ""
            },
            "colorscale": [
             [
              0,
              "#0d0887"
             ],
             [
              0.1111111111111111,
              "#46039f"
             ],
             [
              0.2222222222222222,
              "#7201a8"
             ],
             [
              0.3333333333333333,
              "#9c179e"
             ],
             [
              0.4444444444444444,
              "#bd3786"
             ],
             [
              0.5555555555555556,
              "#d8576b"
             ],
             [
              0.6666666666666666,
              "#ed7953"
             ],
             [
              0.7777777777777778,
              "#fb9f3a"
             ],
             [
              0.8888888888888888,
              "#fdca26"
             ],
             [
              1,
              "#f0f921"
             ]
            ],
            "type": "histogram2dcontour"
           }
          ],
          "mesh3d": [
           {
            "colorbar": {
             "outlinewidth": 0,
             "ticks": ""
            },
            "type": "mesh3d"
           }
          ],
          "parcoords": [
           {
            "line": {
             "colorbar": {
              "outlinewidth": 0,
              "ticks": ""
             }
            },
            "type": "parcoords"
           }
          ],
          "pie": [
           {
            "automargin": true,
            "type": "pie"
           }
          ],
          "scatter": [
           {
            "fillpattern": {
             "fillmode": "overlay",
             "size": 10,
             "solidity": 0.2
            },
            "type": "scatter"
           }
          ],
          "scatter3d": [
           {
            "line": {
             "colorbar": {
              "outlinewidth": 0,
              "ticks": ""
             }
            },
            "marker": {
             "colorbar": {
              "outlinewidth": 0,
              "ticks": ""
             }
            },
            "type": "scatter3d"
           }
          ],
          "scattercarpet": [
           {
            "marker": {
             "colorbar": {
              "outlinewidth": 0,
              "ticks": ""
             }
            },
            "type": "scattercarpet"
           }
          ],
          "scattergeo": [
           {
            "marker": {
             "colorbar": {
              "outlinewidth": 0,
              "ticks": ""
             }
            },
            "type": "scattergeo"
           }
          ],
          "scattergl": [
           {
            "marker": {
             "colorbar": {
              "outlinewidth": 0,
              "ticks": ""
             }
            },
            "type": "scattergl"
           }
          ],
          "scattermapbox": [
           {
            "marker": {
             "colorbar": {
              "outlinewidth": 0,
              "ticks": ""
             }
            },
            "type": "scattermapbox"
           }
          ],
          "scatterpolar": [
           {
            "marker": {
             "colorbar": {
              "outlinewidth": 0,
              "ticks": ""
             }
            },
            "type": "scatterpolar"
           }
          ],
          "scatterpolargl": [
           {
            "marker": {
             "colorbar": {
              "outlinewidth": 0,
              "ticks": ""
             }
            },
            "type": "scatterpolargl"
           }
          ],
          "scatterternary": [
           {
            "marker": {
             "colorbar": {
              "outlinewidth": 0,
              "ticks": ""
             }
            },
            "type": "scatterternary"
           }
          ],
          "surface": [
           {
            "colorbar": {
             "outlinewidth": 0,
             "ticks": ""
            },
            "colorscale": [
             [
              0,
              "#0d0887"
             ],
             [
              0.1111111111111111,
              "#46039f"
             ],
             [
              0.2222222222222222,
              "#7201a8"
             ],
             [
              0.3333333333333333,
              "#9c179e"
             ],
             [
              0.4444444444444444,
              "#bd3786"
             ],
             [
              0.5555555555555556,
              "#d8576b"
             ],
             [
              0.6666666666666666,
              "#ed7953"
             ],
             [
              0.7777777777777778,
              "#fb9f3a"
             ],
             [
              0.8888888888888888,
              "#fdca26"
             ],
             [
              1,
              "#f0f921"
             ]
            ],
            "type": "surface"
           }
          ],
          "table": [
           {
            "cells": {
             "fill": {
              "color": "#EBF0F8"
             },
             "line": {
              "color": "white"
             }
            },
            "header": {
             "fill": {
              "color": "#C8D4E3"
             },
             "line": {
              "color": "white"
             }
            },
            "type": "table"
           }
          ]
         },
         "layout": {
          "annotationdefaults": {
           "arrowcolor": "#2a3f5f",
           "arrowhead": 0,
           "arrowwidth": 1
          },
          "autotypenumbers": "strict",
          "coloraxis": {
           "colorbar": {
            "outlinewidth": 0,
            "ticks": ""
           }
          },
          "colorscale": {
           "diverging": [
            [
             0,
             "#8e0152"
            ],
            [
             0.1,
             "#c51b7d"
            ],
            [
             0.2,
             "#de77ae"
            ],
            [
             0.3,
             "#f1b6da"
            ],
            [
             0.4,
             "#fde0ef"
            ],
            [
             0.5,
             "#f7f7f7"
            ],
            [
             0.6,
             "#e6f5d0"
            ],
            [
             0.7,
             "#b8e186"
            ],
            [
             0.8,
             "#7fbc41"
            ],
            [
             0.9,
             "#4d9221"
            ],
            [
             1,
             "#276419"
            ]
           ],
           "sequential": [
            [
             0,
             "#0d0887"
            ],
            [
             0.1111111111111111,
             "#46039f"
            ],
            [
             0.2222222222222222,
             "#7201a8"
            ],
            [
             0.3333333333333333,
             "#9c179e"
            ],
            [
             0.4444444444444444,
             "#bd3786"
            ],
            [
             0.5555555555555556,
             "#d8576b"
            ],
            [
             0.6666666666666666,
             "#ed7953"
            ],
            [
             0.7777777777777778,
             "#fb9f3a"
            ],
            [
             0.8888888888888888,
             "#fdca26"
            ],
            [
             1,
             "#f0f921"
            ]
           ],
           "sequentialminus": [
            [
             0,
             "#0d0887"
            ],
            [
             0.1111111111111111,
             "#46039f"
            ],
            [
             0.2222222222222222,
             "#7201a8"
            ],
            [
             0.3333333333333333,
             "#9c179e"
            ],
            [
             0.4444444444444444,
             "#bd3786"
            ],
            [
             0.5555555555555556,
             "#d8576b"
            ],
            [
             0.6666666666666666,
             "#ed7953"
            ],
            [
             0.7777777777777778,
             "#fb9f3a"
            ],
            [
             0.8888888888888888,
             "#fdca26"
            ],
            [
             1,
             "#f0f921"
            ]
           ]
          },
          "colorway": [
           "#636efa",
           "#EF553B",
           "#00cc96",
           "#ab63fa",
           "#FFA15A",
           "#19d3f3",
           "#FF6692",
           "#B6E880",
           "#FF97FF",
           "#FECB52"
          ],
          "font": {
           "color": "#2a3f5f"
          },
          "geo": {
           "bgcolor": "white",
           "lakecolor": "white",
           "landcolor": "#E5ECF6",
           "showlakes": true,
           "showland": true,
           "subunitcolor": "white"
          },
          "hoverlabel": {
           "align": "left"
          },
          "hovermode": "closest",
          "mapbox": {
           "style": "light"
          },
          "paper_bgcolor": "white",
          "plot_bgcolor": "#E5ECF6",
          "polar": {
           "angularaxis": {
            "gridcolor": "white",
            "linecolor": "white",
            "ticks": ""
           },
           "bgcolor": "#E5ECF6",
           "radialaxis": {
            "gridcolor": "white",
            "linecolor": "white",
            "ticks": ""
           }
          },
          "scene": {
           "xaxis": {
            "backgroundcolor": "#E5ECF6",
            "gridcolor": "white",
            "gridwidth": 2,
            "linecolor": "white",
            "showbackground": true,
            "ticks": "",
            "zerolinecolor": "white"
           },
           "yaxis": {
            "backgroundcolor": "#E5ECF6",
            "gridcolor": "white",
            "gridwidth": 2,
            "linecolor": "white",
            "showbackground": true,
            "ticks": "",
            "zerolinecolor": "white"
           },
           "zaxis": {
            "backgroundcolor": "#E5ECF6",
            "gridcolor": "white",
            "gridwidth": 2,
            "linecolor": "white",
            "showbackground": true,
            "ticks": "",
            "zerolinecolor": "white"
           }
          },
          "shapedefaults": {
           "line": {
            "color": "#2a3f5f"
           }
          },
          "ternary": {
           "aaxis": {
            "gridcolor": "white",
            "linecolor": "white",
            "ticks": ""
           },
           "baxis": {
            "gridcolor": "white",
            "linecolor": "white",
            "ticks": ""
           },
           "bgcolor": "#E5ECF6",
           "caxis": {
            "gridcolor": "white",
            "linecolor": "white",
            "ticks": ""
           }
          },
          "title": {
           "x": 0.05
          },
          "xaxis": {
           "automargin": true,
           "gridcolor": "white",
           "linecolor": "white",
           "ticks": "",
           "title": {
            "standoff": 15
           },
           "zerolinecolor": "white",
           "zerolinewidth": 2
          },
          "yaxis": {
           "automargin": true,
           "gridcolor": "white",
           "linecolor": "white",
           "ticks": "",
           "title": {
            "standoff": 15
           },
           "zerolinecolor": "white",
           "zerolinewidth": 2
          }
         }
        },
        "title": {
         "text": "Linear Regression Models for Volvo XC60 and Toyota RAV4"
        },
        "xaxis": {
         "title": {
          "text": "Mileage"
         }
        },
        "yaxis": {
         "title": {
          "text": "Price"
         }
        }
       }
      }
     },
     "metadata": {},
     "output_type": "display_data"
    }
   ],
   "source": [
    "#plot the rav4 model with the volvo model\n",
    "fig = go.Figure()\n",
    "fig.add_trace(go.Scatter(x=x['Mileage'], y=y, mode='markers', name='Volvo XC60'))\n",
    "fig.add_trace(go.Scatter(x=explanatory['Mileage'], y=response, mode='markers', name='Toyota RAV4'))\n",
    "fig.add_trace(go.Scatter(x=x['Mileage'], y=volvo_model.predict(x), mode='lines', name='Volvo XC60 Model'))\n",
    "fig.add_trace(go.Scatter(x=explanatory['Mileage'], y=rav4_model.predict(explanatory), mode='lines', name='Toyota RAV4 Model'))\n",
    "fig.update_layout(title=\"Linear Regression Models for Volvo XC60 and Toyota RAV4\", height=800)\n",
    "fig.update_xaxes(title=\"Mileage\")\n",
    "fig.update_yaxes(title=\"Price\")\n",
    "fig.show()\n"
   ]
  },
  {
   "cell_type": "code",
   "execution_count": 43,
   "metadata": {},
   "outputs": [
    {
     "name": "stdout",
     "output_type": "stream",
     "text": [
      "Predicted price for a Volvo XC60 with 40000 miles: $31087\n",
      "Predicted price for a Toyota RAV4 with 40000 miles: $30806\n",
      "At 40000, the Volvo XC60 is $281 more than the Rav4.\n"
     ]
    }
   ],
   "source": [
    "#ignore warning\n",
    "import warnings\n",
    "warnings.filterwarnings(\"ignore\")\n",
    "\n",
    "# Predict both the volvo and rav4 price based on mileage\n",
    "pred_mileage = 40000\n",
    "volvo_predicted_price = volvo_model.predict([[pred_mileage]])\n",
    "rav4_predicted_price = rav4_model.predict([[pred_mileage]])\n",
    "\n",
    "print(f\"Predicted price for a Volvo XC60 with {pred_mileage} miles: ${volvo_predicted_price[0]:.0f}\")\n",
    "print(f\"Predicted price for a Toyota RAV4 with {pred_mileage} miles: ${rav4_predicted_price[0]:.0f}\")\n",
    "\n",
    "#state the price difference, rounded to the nearest dollar\n",
    "price_difference = abs(volvo_predicted_price - rav4_predicted_price)\n",
    "if volvo_predicted_price > rav4_predicted_price:\n",
    "    print(f\"At {pred_mileage}, the Volvo XC60 is ${round(price_difference[0])} more than the Rav4.\")\n",
    "else:\n",
    "    print(f\"At {pred_mileage}, the Toyota Rav4 is ${round(price_difference[0])} more than the Volvo XC60.\")"
   ]
  },
  {
   "cell_type": "markdown",
   "metadata": {},
   "source": [
    "# Calculating cost of ownnership\n",
    "\n",
    "The ownership costs below were taken from Edmunds.com. Note, this cost is for the first five years of ownership. Predicting the ownership of these vehicles when purchased gently used requires more time than I have at the moment. I decided to utilize this five year total into this rough estimate.\n",
    "\n",
    "Of note, Edmunds does call out that the Volvo XC60 typically depreciates $32,044 in the first five years. The Toyota Rav4 depreciates by $14,412. I did not add depreciation into the costs below, since this was taken care of by the linear regression model."
   ]
  },
  {
   "cell_type": "code",
   "execution_count": 45,
   "metadata": {},
   "outputs": [
    {
     "name": "stdout",
     "output_type": "stream",
     "text": [
      "For the first five years, the Volvo XC60 has a total cost of ownership of $25654 and the Toyota Rav4 has a total cost of ownership of $20239.\n",
      "The Volvo XC60 is $5415 more expensive to own than the Toyota Rav4 for the first five years.\n"
     ]
    }
   ],
   "source": [
    "#Volvo XC60 ownership data\n",
    "v_fuel = 12232\n",
    "v_maint = 4809\n",
    "v_repairs = 2049\n",
    "v_insurance = 6564\n",
    "#add the total cost of ownership for the volvo\n",
    "volvo_tco = v_fuel + v_maint + v_repairs + v_insurance\n",
    "\n",
    "\n",
    "#Toyota Rav4 ownership data\n",
    "t_fuel = 8618\n",
    "t_maint = 5244\n",
    "t_repairs = 854\n",
    "t_insurance = 5523\n",
    "#add the total cost of ownership for the rav4\n",
    "rav4_tco = t_fuel + t_maint + t_repairs + t_insurance\n",
    "\n",
    "#calculate the difference in total cost of ownership\n",
    "tco_difference = volvo_tco - rav4_tco\n",
    "print(f\"For the first five years, the Volvo XC60 has a total cost of ownership of ${volvo_tco} and the Toyota Rav4 has a total cost of ownership of ${rav4_tco}.\")\n",
    "print(f\"The Volvo XC60 is ${tco_difference} more expensive to own than the Toyota Rav4 for the first five years.\")"
   ]
  },
  {
   "cell_type": "code",
   "execution_count": 48,
   "metadata": {},
   "outputs": [
    {
     "name": "stdout",
     "output_type": "stream",
     "text": [
      "Predicted end price for a Volvo XC60 with 150000 miles: $2564\n",
      "Predicted end price for a Toyota Rav4 with 150000 miles: $12695\n"
     ]
    }
   ],
   "source": [
    "# Predict both the volvo and rav4 price for their milage when I predict I will sell them\n",
    "end_mileage =150000\n",
    "volvo_end_price = volvo_model.predict([[end_mileage]])\n",
    "rav4_end_price = rav4_model.predict([[end_mileage]])\n",
    "\n",
    "#print the predicted end price for both cars\n",
    "print(f\"Predicted end price for a Volvo XC60 with {end_mileage} miles: ${volvo_end_price[0]:.0f}\")\n",
    "print(f\"Predicted end price for a Toyota Rav4 with {end_mileage} miles: ${rav4_end_price[0]:.0f}\")\n",
    "\n"
   ]
  },
  {
   "cell_type": "markdown",
   "metadata": {},
   "source": [
    "## Calculating predicted long term ownership costs\n",
    "I took the original purchase price at 40,000 miles, then added the five year ownership cost for each vehicle to get the rough, true cost of ownership. Finally, I subtracted the predicted value at 150,000 miles to approximate the net ownership cost.\n",
    "\n"
   ]
  },
  {
   "cell_type": "code",
   "execution_count": 51,
   "metadata": {},
   "outputs": [
    {
     "name": "stdout",
     "output_type": "stream",
     "text": [
      "The net ownership cost for the Volvo XC60 is $54177\n",
      "The net ownership cost for the Toyota Rav4 is $38350\n",
      "When purchasing at 40000 and selling at 150000 and considering cost of ownership, the Volvo XC60 is $15826 more expensive to own than the Toyota Rav4.\n"
     ]
    }
   ],
   "source": [
    "#calculate the net ownership cost for the vehicles\n",
    "volvo_net_cost = volvo_predicted_price + volvo_tco - volvo_end_price\n",
    "rav4_net_cost = rav4_predicted_price + rav4_tco - rav4_end_price\n",
    "\n",
    "#calculate the difference in net ownership cost\n",
    "net_cost_difference = volvo_net_cost - rav4_net_cost\n",
    "\n",
    "#print the net ownership cost for the vehicles\n",
    "print(f\"The net ownership cost for the Volvo XC60 is ${volvo_net_cost[0]:.0f}\")\n",
    "print(f\"The net ownership cost for the Toyota Rav4 is ${rav4_net_cost[0]:.0f}\")\n",
    "print(f\"When purchasing at {pred_mileage} and selling at {end_mileage} and considering cost of ownership, \"\n",
    "      f\"the Volvo XC60 is ${net_cost_difference[0]:.0f} more expensive to own than the Toyota Rav4.\")"
   ]
  }
 ],
 "metadata": {
  "kernelspec": {
   "display_name": "base",
   "language": "python",
   "name": "python3"
  },
  "language_info": {
   "codemirror_mode": {
    "name": "ipython",
    "version": 3
   },
   "file_extension": ".py",
   "mimetype": "text/x-python",
   "name": "python",
   "nbconvert_exporter": "python",
   "pygments_lexer": "ipython3",
   "version": "3.12.7"
  }
 },
 "nbformat": 4,
 "nbformat_minor": 2
}

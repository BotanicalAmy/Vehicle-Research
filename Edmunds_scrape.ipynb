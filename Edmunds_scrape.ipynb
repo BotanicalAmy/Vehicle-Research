{
 "cells": [
  {
   "cell_type": "code",
   "execution_count": 1,
   "metadata": {},
   "outputs": [],
   "source": [
    "#load packages\n",
    "from selenium import webdriver\n",
    "from selenium.webdriver.chrome.service import Service\n",
    "from selenium.webdriver.common.by import By\n",
    "from selenium.webdriver.support.ui import WebDriverWait\n",
    "from selenium.webdriver.support import expected_conditions as EC\n",
    "from selenium.common.exceptions import TimeoutException\n",
    "import plotly.express as px\n",
    "import plotly.graph_objects as go\n",
    "import plotly.io as pio\n",
    "from IPython.display import display\n",
    "import pandas as pd\n",
    " \n"
   ]
  },
  {
   "cell_type": "code",
   "execution_count": null,
   "metadata": {},
   "outputs": [
    {
     "name": "stdout",
     "output_type": "stream",
     "text": [
      "Page 11: Number of car listings found: 21\n",
      "Car found: 2023 Volvo XC60, B5 Core 4dr SUV, $32,998, 28,998 miles\n",
      "Car found: 2021 Volvo XC60, Recharge Plug-In Hybrid T8 R-Design 4dr SUV, $38,000, 29,224 miles\n",
      "Car found: 2020 Volvo XC60, T5 Inscription 4dr SUV, $27,998, 34,022 miles\n",
      "Car found: 2022 Volvo XC60, B5 Inscription 4dr SUV, $37,990, 15,825 miles\n",
      "Car found: 2021 Volvo XC60, T5 Momentum 4dr SUV, $26,998, 36,953 miles\n",
      "Car found: 2021 Volvo XC60, Recharge Plug-In Hybrid T8 Inscription 4dr SUV, $41,998, 10,811 miles\n",
      "Car found: 2022 Volvo XC60, B5 Momentum 4dr SUV, $31,998, 30,448 miles\n",
      "Car found: 2022 Volvo XC60, B5 Inscription 4dr SUV, $37,998, 11,933 miles\n",
      "Car found: 2019 Volvo XC60, T6 Momentum 4dr SUV, $25,998, 52,060 miles\n",
      "Car found: 2023 Volvo XC60, B5 Plus Dark 4dr SUV, $39,998, 11,837 miles\n",
      "Car found: 2021 Volvo XC60, T5 Momentum 4dr SUV, $26,998, 39,091 miles\n",
      "Car found: 2024 Volvo XC60, B5 Plus 4dr SUV, $41,998, 12,549 miles\n",
      "Car found: 2022 Volvo XC60, B5 R-Design 4dr SUV, $30,998, 33,209 miles\n",
      "Car found: 2023 Volvo XC60, B5 Plus Dark 4dr SUV, $40,998, 12,860 miles\n",
      "Car found: 2013 Volvo XC60, 3.2 4dr SUV, $9,500, 111,027 miles\n",
      "Car found: 2024 Volvo XC60, B5 Plus 4dr SUV, $41,998, 13,109 miles\n",
      "Car found: 2019 Volvo XC60, T6 Inscription 4dr SUV, $24,998, 63,267 miles\n",
      "Car found: 2020 Volvo XC60, T5 Inscription 4dr SUV, $24,998, 60,090 miles\n",
      "Car found: 2015 Volvo XC60, T6 4dr SUV, $8,999, 171,792 miles\n",
      "Car found: 2023 Volvo XC60, B5 Plus Bright 4dr SUV, $37,998, 14,612 miles\n",
      "Car found: 2022 Volvo XC60, B5 Momentum 4dr SUV, $33,998, 14,978 miles\n",
      "Page 13: Number of car listings found: 21\n",
      "Car found: 2015 Volvo XC60, T5 Drive-E Premier 4dr SUV, $17,998, 71,735 miles\n",
      "Car found: 2014 Volvo XC60, T6 4dr SUV, $19,590, 46,211 miles\n",
      "Car found: Certified 2024 Volvo XC60, B5 Ultimate 4dr SUV, $48,500, 13,843 miles\n",
      "Car found: 2015 Volvo XC60, T6 4dr SUV, $18,998, 66,220 miles\n",
      "Car found: 2016 Volvo XC60, T5 Platinum 4dr SUV, $18,998, 73,085 miles\n",
      "Car found: 2016 Volvo XC60, T5 Drive-E Premier 4dr SUV, $18,998, 69,596 miles\n",
      "Car found: 2021 Volvo XC60, T5 Momentum 4dr SUV, $30,998, 24,236 miles\n",
      "Car found: Certified 2022 Volvo XC60, Recharge Plug-In Hybrid T8 Inscription 4dr SUV w/Prod. End 11/21, $45,759, 25,409 miles\n",
      "Car found: 2016 Volvo XC60, T5 Drive-E Platinum 4dr SUV, $19,998, 51,996 miles\n",
      "Car found: 2023 Volvo XC60, B5 Plus Bright 4dr SUV, $37,998, 23,101 miles\n",
      "Car found: 2016 Volvo XC60, T6 Drive-E 4dr SUV, $19,998, 67,500 miles\n",
      "Car found: 2016 Volvo XC60, T5 Drive-E Premier 4dr SUV, $20,998, 43,361 miles\n",
      "Car found: 2023 Volvo XC60, B5 Plus Dark 4dr SUV, $37,998, 23,368 miles\n",
      "Car found: 2018 Volvo XC60, T6 Momentum 4dr SUV, $24,590, 42,954 miles\n",
      "Car found: 2023 Volvo XC60, B5 Plus Dark 4dr SUV, $37,998, 24,014 miles\n",
      "Car found: 2021 Volvo XC60, T5 Momentum 4dr SUV, $28,998, 29,290 miles\n",
      "Car found: 2022 Volvo XC60, B5 Momentum 4dr SUV, $32,998, 27,075 miles\n",
      "Car found: 2020 Volvo XC60, T5 Momentum 4dr SUV, $24,590, 67,198 miles\n",
      "Car found: 2022 Volvo XC60, Recharge Plug-In Hybrid T8 Inscription Expression 4dr SUV w/Prod. End 11/21, $38,590, 31,031 miles\n",
      "Car found: 2023 Volvo XC60, B5 Plus Bright 4dr SUV, $32,590, 28,055 miles\n",
      "Car found: 2019 Volvo XC60, T6 R-Design 4dr SUV, $24,990, 70,113 miles\n",
      "Page 15: Number of car listings found: 21\n",
      "Car found: 2021 Volvo XC60, T5 Inscription 4dr SUV, $29,998, 36,639 miles\n",
      "Car found: 2021 Volvo XC60, T5 Momentum 4dr SUV, $25,998, 52,145 miles\n",
      "Car found: 2018 Volvo XC60, T6 Momentum 4dr SUV, $25,998, 54,567 miles\n",
      "Car found: 2019 Volvo XC60, T6 Momentum 4dr SUV, $28,998, 39,482 miles\n",
      "Car found: 2021 Volvo XC60, Recharge Plug-In Hybrid T8 Inscription Expression 4dr SUV, $35,590, 32,861 miles\n",
      "Car found: 2019 Volvo XC60, T5 Momentum 4dr SUV, $24,998, 50,504 miles\n",
      "Car found: 2022 Volvo XC60, B5 Inscription 4dr SUV, $32,998, 35,891 miles\n",
      "Car found: 2022 Volvo XC60, Recharge Plug-In Hybrid T8 Inscription 4dr SUV w/Prod. End 11/21, $40,590, 43,243 miles\n",
      "Car found: 2019 Volvo XC60, T5 Momentum 4dr SUV, $26,998, 53,965 miles\n",
      "Car found: 2020 Volvo XC60, T5 Momentum 4dr SUV, $26,998, 59,725 miles\n",
      "Car found: 2021 Volvo XC60, T5 Momentum 4dr SUV, $26,998, 55,683 miles\n",
      "Car found: 2021 Volvo XC60, T5 Momentum 4dr SUV, $26,998, 56,353 miles\n",
      "Car found: 2020 Volvo XC60, T5 Inscription 4dr SUV, $27,998, 45,682 miles\n",
      "Car found: 2021 Volvo XC60, T6 Momentum 4dr SUV, $27,998, 50,603 miles\n",
      "Car found: 2022 Volvo XC60, B5 Momentum 4dr SUV, $28,998, 44,805 miles\n",
      "Car found: 2021 Volvo XC60, Recharge Plug-In Hybrid T8 Inscription Expression 4dr SUV, $32,590, 51,077 miles\n",
      "Car found: 2022 Volvo XC60, B5 Momentum 4dr SUV, $27,998, 63,230 miles\n",
      "Car found: 2020 Volvo XC60, T5 Momentum 4dr SUV, $28,998, 47,784 miles\n",
      "Car found: 2016 Volvo XC60, T6 Drive-E 4dr SUV, $20,590, 39,200 miles\n",
      "Car found: 2023 Volvo XC60, B5 Core 4dr SUV, $37,998, 5,226 miles\n",
      "Car found: 2022 Volvo XC60, B5 Inscription 4dr SUV, $38,998, 5,625 miles\n",
      "Page 17: Number of car listings found: 21\n",
      "Car found: 2022 Volvo XC60, B5 Momentum 4dr SUV, $33,998, 23,485 miles\n",
      "Car found: 2018 Volvo XC60, T8 Inscription Twin Engine Plug-In Hybrid 4dr SUV, $31,998, 24,535 miles\n",
      "Car found: 2024 Volvo XC60, Recharge T8 Plus Plug-In Hybrid 4dr SUV, $53,990, 691 miles\n",
      "Car found: 2017 Volvo XC60, T5 Inscription 4dr SUV, $20,998, 54,545 miles\n",
      "Car found: 2013 Volvo XC60, 3.2 4dr SUV, $10,899, 125,230 miles\n",
      "Car found: 2012 Volvo XC60, 3.2 4dr SUV, $12,997, 85,620 miles\n",
      "Car found: 2018 Volvo XC60, T5 Momentum 4dr SUV, $23,990, 57,337 miles\n",
      "Car found: 2023 Volvo XC60, B5 Core 4dr SUV, $32,998, 27,201 miles\n",
      "Car found: 2023 Volvo XC60, B5 Ultimate Dark 4dr SUV, $42,998, 25,502 miles\n",
      "Car found: 2019 Volvo XC60, T6 Inscription 4dr SUV, $23,628, 68,287 miles\n",
      "Car found: 2022 Volvo XC60, Recharge Plug-In Hybrid T8 Inscription 4dr SUV w/Prod. End 11/21, $38,990, 39,496 miles\n",
      "Car found: 2019 Volvo XC60, T5 Momentum 4dr SUV, $22,998, 65,764 miles\n",
      "Car found: 2021 Volvo XC60, T5 Momentum 4dr SUV, $29,998, 30,663 miles\n",
      "Car found: 2022 Volvo XC60, Recharge Plug-In Hybrid T8 Inscription 4dr SUV w/Prod. End 11/21, $43,590, 18,885 miles\n",
      "Car found: 2018 Volvo XC60, T5 R-Design 4dr SUV, $22,498, 77,448 miles\n",
      "Car found: 2022 Volvo XC60, Recharge Plug-In Hybrid T8 Inscription Expression 4dr SUV w/Prod. End 11/21, $41,998, 28,069 miles\n",
      "Car found: 2021 Volvo XC60, T5 Momentum 4dr SUV, $26,904, 36,681 miles\n",
      "Car found: 2015 Volvo XC60, T5 Drive-E Premier Plus 4dr SUV w/Prod. End 6/14, $15,990, 73,406 miles\n",
      "Car found: 2013 Volvo XC60, T6 4dr SUV, $16,590, 60,401 miles\n",
      "Car found: 2016 Volvo XC60, T5 Premier 4dr SUV, $17,590, 77,476 miles\n",
      "Car found: 2018 Volvo XC60, T5 Inscription 4dr SUV, $25,998, 46,946 miles\n",
      "Page 19: Number of car listings found: 21\n",
      "Car found: 2018 Volvo XC60, T8 R-Design Twin Engine Plug-In Hybrid 4dr SUV, $29,990, 30,821 miles\n",
      "Car found: 2019 Volvo XC60, T8 R-Design Twin Engine Plug-In Hybrid 4dr SUV, $34,998, 50,545 miles\n",
      "Car found: 2023 Volvo XC60, B5 Plus Bright 4dr SUV, $38,990, 10,933 miles\n",
      "Car found: 2019 Volvo XC60, T5 R-Design 4dr SUV, $24,990, 50,434 miles\n",
      "Car found: 2013 Volvo XC60, 3.2 4dr SUV, $8,359, 140,292 miles\n",
      "Car found: 2021 Volvo XC60, T5 Momentum 4dr SUV, $29,590, 37,862 miles\n",
      "Car found: 2019 Volvo XC60, T8 R-Design Twin Engine Plug-In Hybrid 4dr SUV, $32,590, 31,527 miles\n",
      "Car found: 2020 Volvo XC60, T6 R-Design 4dr SUV, $30,590, 40,032 miles\n",
      "Car found: 2015 Volvo XC60, T6 Premier Plus 4dr SUV w/Prod. End 6/14, $12,719, 157,076 miles\n",
      "Car found: 2020 Volvo XC60, T5 Inscription 4dr SUV, $28,990, 41,509 miles\n",
      "Car found: 2020 Volvo XC60, T6 Inscription 4dr SUV, $32,590, 37,887 miles\n",
      "Car found: 2020 Volvo XC60, T8 Momentum Twin Engine Plug-In Hybrid 4dr SUV, $32,990, 49,802 miles\n",
      "Car found: 2021 Volvo XC60, T5 Inscription 4dr SUV, $32,590, 41,245 miles\n",
      "Car found: 2013 Volvo XC60, 3.2 4dr SUV, $16,590, 57,425 miles\n",
      "Car found: 2016 Volvo XC60, T6 Drive-E 4dr SUV, $18,990, 65,675 miles\n",
      "Car found: 2016 Volvo XC60, T6 4dr SUV, $19,990, 47,405 miles\n",
      "Car found: 2017 Volvo XC60, T5 Dynamic 4dr SUV, $19,590, 67,977 miles\n",
      "Car found: 2021 Volvo XC60, T5 Momentum 4dr SUV, Not Priced, 61,681 miles\n",
      "Car found: 2011 Volvo XC60, T6 4dr SUV, $7,999, 142,252 miles\n",
      "Car found: 2015 Volvo XC60, T5 Drive-E Premier 4dr SUV, $16,590, 61,404 miles\n",
      "Car found: Certified 2022 Volvo XC60, B5 Momentum 4dr SUV, $35,000, 37,453 miles\n",
      "An error occurred on page 21: Message: \n",
      "Stacktrace:\n",
      "\tGetHandleVerifier [0x011474A3+25091]\n",
      "\t(No symbol) [0x010CDC04]\n",
      "\t(No symbol) [0x00FAB373]\n",
      "\t(No symbol) [0x00FEF4DC]\n",
      "\t(No symbol) [0x00FEF65B]\n",
      "\t(No symbol) [0x0102D8E2]\n",
      "\t(No symbol) [0x01011F54]\n",
      "\t(No symbol) [0x0102B49E]\n",
      "\t(No symbol) [0x01011CA6]\n",
      "\t(No symbol) [0x00FE31D5]\n",
      "\t(No symbol) [0x00FE435D]\n",
      "\tGetHandleVerifier [0x014407C3+3142947]\n",
      "\tGetHandleVerifier [0x01451A2B+3213195]\n",
      "\tGetHandleVerifier [0x0144C412+3191154]\n",
      "\tGetHandleVerifier [0x011E8720+685184]\n",
      "\t(No symbol) [0x010D6E1D]\n",
      "\t(No symbol) [0x010D3E18]\n",
      "\t(No symbol) [0x010D3FB6]\n",
      "\t(No symbol) [0x010C66F0]\n",
      "\tBaseThreadInitThunk [0x75B45D49+25]\n",
      "\tRtlInitializeExceptionChain [0x775ECEBB+107]\n",
      "\tRtlGetAppContainerNamedObjectPath [0x775ECE41+561]\n",
      "\n"
     ]
    }
   ],
   "source": [
    "# Set up the driver (make sure to specify the path to your WebDriver)\n",
    "service = Service(r'C:\\Users\\amyfo\\.wdm\\drivers\\chromedriver\\win64\\132.0.6834.159\\chromedriver-win32\\chromedriver.exe')\n",
    "driver = webdriver.Chrome(service=service)\n",
    "\n",
    "# Set a timeout for the WebDriver\n",
    "driver.set_page_load_timeout(180)\n",
    "\n",
    "# Base URL\n",
    "base_url = \"https://www.edmunds.com/inventory/srp.html?inventorytype=used%2Ccpo&make=volvo&model=volvo%7Cxc60\"\n",
    "\n",
    "# Initialize an empty list to store car data\n",
    "volvo_data = []\n",
    "\n",
    "# Loop through pages, if the program quit at page \"n\", start the application again on that page\n",
    "# for example, if the program quit at page 10, start the application again on page 11 by setting page_number = 10\n",
    "page_number = 10\n",
    "max_retries = 3\n",
    "\n",
    "while True:\n",
    "    page_number += 1\n",
    "\n",
    "    # Construct the URL with the current page number\n",
    "    url = f\"{base_url}&pagenumber={page_number}\"\n",
    "    retries = 0\n",
    "    while retries < max_retries:\n",
    "        try:\n",
    "            driver.get(url)\n",
    "            break\n",
    "        except TimeoutException:\n",
    "            print(f\"Page {page_number} timed out.\")\n",
    "            retries += 1\n",
    "            if retries == max_retries:\n",
    "                print(f\"Page {page_number} failed to load after {max_retries} retries. Skipping to the next page.\")\n",
    "                page_number += 1\n",
    "                continue\n",
    "\n",
    "    try:\n",
    "        # Wait until the listings load\n",
    "        WebDriverWait(driver, 60).until(\n",
    "            EC.presence_of_element_located((By.CLASS_NAME, \"vehicle-info\"))\n",
    "        )\n",
    "\n",
    "        # Find all divs with class 'vehicle-info'\n",
    "        car_listings = driver.find_elements(By.CLASS_NAME, 'vehicle-info')\n",
    "\n",
    "        # Debug print\n",
    "        print(f\"Page {page_number}: Number of car listings found: {len(car_listings)}\")\n",
    "\n",
    "        # If no car listings are found, break the loop\n",
    "        if not car_listings:\n",
    "            break\n",
    "\n",
    "        # Extract car listings from the results container\n",
    "        for car in car_listings:\n",
    "            title = car.find_element(By.CLASS_NAME, 'size-16.text-cool-gray-10.fw-bold.mb-0_5').text.strip()\n",
    "            description = car.find_element(By.CLASS_NAME, 'fw-normal.size-14.text-cool-gray-30').text.strip()\n",
    "            # Getting the pricing details container\n",
    "            pricing_details = car.find_element(By.CLASS_NAME, 'pricing-details')\n",
    "            # Pulling the price from within the heading to exclude the extra price details\n",
    "            price = pricing_details.find_element(By.CLASS_NAME, 'heading-3').text.strip() if pricing_details else None\n",
    "            # Add mileage which is in ul class=mb_0 and then within span class text-cool-gray-30\n",
    "            mileage = car.find_element(By.CSS_SELECTOR, 'ul.mb-0 span.text-cool-gray-30').text.strip()\n",
    "\n",
    "            if title and description and price:\n",
    "                volvo_data.append({\n",
    "                    #saving the page number to keep track of what data was scraped\n",
    "                    'Page': page_number,\n",
    "                    'Title': title,\n",
    "                    'Description': description,\n",
    "                    'Price': price,\n",
    "                    'Mileage': mileage\n",
    "                })\n",
    "                # Debug print\n",
    "                print(f\"Car found: {title}, {description}, {price}, {mileage}\")\n",
    "\n",
    "        # save each batch of page data to a csv\n",
    "        volvo_df = pd.DataFrame(volvo_data)\n",
    "        with open('volvo_data.csv', 'a', newline='', encoding='utf-8') as f:\n",
    "            volvo_df.to_csv(f, header=f.tell()==0, index=False)\n",
    "\n",
    "        # Clear the volvo_data list to avoid duplicates\n",
    "        volvo_data.clear()\n",
    "\n",
    "    except Exception as e:\n",
    "        print(f\"An error occurred on page {page_number}: {e}\")\n",
    "        break\n",
    "\n",
    "    # Increment the page number\n",
    "    page_number += 1\n",
    "\n",
    "# Close the driver\n",
    "driver.quit()"
   ]
  },
  {
   "cell_type": "code",
   "execution_count": null,
   "metadata": {},
   "outputs": [
    {
     "data": {
      "text/html": [
       "<div>\n",
       "<style scoped>\n",
       "    .dataframe tbody tr th:only-of-type {\n",
       "        vertical-align: middle;\n",
       "    }\n",
       "\n",
       "    .dataframe tbody tr th {\n",
       "        vertical-align: top;\n",
       "    }\n",
       "\n",
       "    .dataframe thead th {\n",
       "        text-align: right;\n",
       "    }\n",
       "</style>\n",
       "<table border=\"1\" class=\"dataframe\">\n",
       "  <thead>\n",
       "    <tr style=\"text-align: right;\">\n",
       "      <th></th>\n",
       "      <th>Page</th>\n",
       "      <th>Title</th>\n",
       "      <th>Description</th>\n",
       "      <th>Price</th>\n",
       "      <th>Mileage</th>\n",
       "      <th>Year</th>\n",
       "    </tr>\n",
       "  </thead>\n",
       "  <tbody>\n",
       "    <tr>\n",
       "      <th>0</th>\n",
       "      <td>1</td>\n",
       "      <td>Volvo XC60</td>\n",
       "      <td>T6 Inscription 4dr SUV</td>\n",
       "      <td>27293</td>\n",
       "      <td>39106</td>\n",
       "      <td>2019</td>\n",
       "    </tr>\n",
       "    <tr>\n",
       "      <th>1</th>\n",
       "      <td>1</td>\n",
       "      <td>Volvo XC60</td>\n",
       "      <td>B6 Ultimate Bright 4dr SUV</td>\n",
       "      <td>37175</td>\n",
       "      <td>32922</td>\n",
       "      <td>2023</td>\n",
       "    </tr>\n",
       "    <tr>\n",
       "      <th>2</th>\n",
       "      <td>1</td>\n",
       "      <td>Volvo XC60</td>\n",
       "      <td>B5 Core 4dr SUV</td>\n",
       "      <td>31789</td>\n",
       "      <td>24514</td>\n",
       "      <td>2023</td>\n",
       "    </tr>\n",
       "    <tr>\n",
       "      <th>3</th>\n",
       "      <td>1</td>\n",
       "      <td>Volvo XC60</td>\n",
       "      <td>T6 4dr SUV</td>\n",
       "      <td>11799</td>\n",
       "      <td>83670</td>\n",
       "      <td>2012</td>\n",
       "    </tr>\n",
       "    <tr>\n",
       "      <th>4</th>\n",
       "      <td>1</td>\n",
       "      <td>Volvo XC60</td>\n",
       "      <td>Recharge Plug-In Hybrid T8 Inscription Extende...</td>\n",
       "      <td>45482</td>\n",
       "      <td>22964</td>\n",
       "      <td>2022</td>\n",
       "    </tr>\n",
       "    <tr>\n",
       "      <th>...</th>\n",
       "      <td>...</td>\n",
       "      <td>...</td>\n",
       "      <td>...</td>\n",
       "      <td>...</td>\n",
       "      <td>...</td>\n",
       "      <td>...</td>\n",
       "    </tr>\n",
       "    <tr>\n",
       "      <th>246</th>\n",
       "      <td>19</td>\n",
       "      <td>Volvo XC60</td>\n",
       "      <td>T6 4dr SUV</td>\n",
       "      <td>19990</td>\n",
       "      <td>47405</td>\n",
       "      <td>2016</td>\n",
       "    </tr>\n",
       "    <tr>\n",
       "      <th>247</th>\n",
       "      <td>19</td>\n",
       "      <td>Volvo XC60</td>\n",
       "      <td>T5 Dynamic 4dr SUV</td>\n",
       "      <td>19590</td>\n",
       "      <td>67977</td>\n",
       "      <td>2017</td>\n",
       "    </tr>\n",
       "    <tr>\n",
       "      <th>249</th>\n",
       "      <td>19</td>\n",
       "      <td>Volvo XC60</td>\n",
       "      <td>T6 4dr SUV</td>\n",
       "      <td>7999</td>\n",
       "      <td>142252</td>\n",
       "      <td>2011</td>\n",
       "    </tr>\n",
       "    <tr>\n",
       "      <th>250</th>\n",
       "      <td>19</td>\n",
       "      <td>Volvo XC60</td>\n",
       "      <td>T5 Drive-E Premier 4dr SUV</td>\n",
       "      <td>16590</td>\n",
       "      <td>61404</td>\n",
       "      <td>2015</td>\n",
       "    </tr>\n",
       "    <tr>\n",
       "      <th>251</th>\n",
       "      <td>19</td>\n",
       "      <td>Certified  Volvo XC60</td>\n",
       "      <td>B5 Momentum 4dr SUV</td>\n",
       "      <td>35000</td>\n",
       "      <td>37453</td>\n",
       "      <td>2022</td>\n",
       "    </tr>\n",
       "  </tbody>\n",
       "</table>\n",
       "<p>251 rows × 6 columns</p>\n",
       "</div>"
      ],
      "text/plain": [
       "     Page                  Title  \\\n",
       "0       1             Volvo XC60   \n",
       "1       1             Volvo XC60   \n",
       "2       1             Volvo XC60   \n",
       "3       1             Volvo XC60   \n",
       "4       1             Volvo XC60   \n",
       "..    ...                    ...   \n",
       "246    19             Volvo XC60   \n",
       "247    19             Volvo XC60   \n",
       "249    19             Volvo XC60   \n",
       "250    19             Volvo XC60   \n",
       "251    19  Certified  Volvo XC60   \n",
       "\n",
       "                                           Description  Price  Mileage  Year  \n",
       "0                               T6 Inscription 4dr SUV  27293    39106  2019  \n",
       "1                           B6 Ultimate Bright 4dr SUV  37175    32922  2023  \n",
       "2                                      B5 Core 4dr SUV  31789    24514  2023  \n",
       "3                                           T6 4dr SUV  11799    83670  2012  \n",
       "4    Recharge Plug-In Hybrid T8 Inscription Extende...  45482    22964  2022  \n",
       "..                                                 ...    ...      ...   ...  \n",
       "246                                         T6 4dr SUV  19990    47405  2016  \n",
       "247                                 T5 Dynamic 4dr SUV  19590    67977  2017  \n",
       "249                                         T6 4dr SUV   7999   142252  2011  \n",
       "250                         T5 Drive-E Premier 4dr SUV  16590    61404  2015  \n",
       "251                                B5 Momentum 4dr SUV  35000    37453  2022  \n",
       "\n",
       "[251 rows x 6 columns]"
      ]
     },
     "metadata": {},
     "output_type": "display_data"
    }
   ],
   "source": [
    "# load the data from the csv\n",
    "volvo_df = pd.read_csv('volvo_data.csv')\n",
    "\n",
    "# remove any rows where the price is set to \"Not Priced\"\n",
    "volvo_df = volvo_df[volvo_df['Price'] != 'Not Priced']\n",
    "\n",
    "# Extract the year from the title and create a new column for it, make it an integer\n",
    "volvo_df['Year'] = volvo_df['Title'].str.extract(r'(\\d{4})').astype(int)\n",
    "\n",
    "# Remove the year from the title\n",
    "volvo_df['Title'] = volvo_df['Title'].str.replace(r'\\d{4}', '', regex=True).str.strip()\n",
    "\n",
    "# make price an integer\n",
    "volvo_df['Price'] = volvo_df['Price'].str.replace('$', '').str.replace(',', '').astype(int)\n",
    "\n",
    "# remove the word miles from the mileage column and make mileage an integer\n",
    "volvo_df['Mileage'] = volvo_df['Mileage'].str.replace(' miles', '').str.replace(',', '').astype(int)\n",
    "\n",
    "# preview the cleaned data\n",
    "display(volvo_df)\n"
   ]
  },
  {
   "cell_type": "code",
   "execution_count": null,
   "metadata": {},
   "outputs": [],
   "source": [
    "#save the new, cleaned data to a csv\n",
    "volvo_df.to_csv('volvo_data_clean.csv', index=False)\n"
   ]
  },
  {
   "cell_type": "code",
   "execution_count": null,
   "metadata": {},
   "outputs": [
    {
     "data": {
      "application/vnd.plotly.v1+json": {
       "config": {
        "plotlyServerURL": "https://plot.ly"
       },
       "data": [
        {
         "hovertemplate": "Mileage=%{x}<br>Price=%{y}<br>Year=%{marker.color}<extra></extra>",
         "legendgroup": "",
         "marker": {
          "color": [
           2019,
           2023,
           2023,
           2012,
           2022,
           2020,
           2022,
           2022,
           2022,
           2013,
           2022,
           2015,
           2017,
           2022,
           2020,
           2018,
           2023,
           2022,
           2022,
           2021,
           2017,
           2013,
           2010,
           2019,
           2024,
           2022,
           2022,
           2022,
           2024,
           2022,
           2022,
           2016,
           2022,
           2022,
           2021,
           2024,
           2022,
           2024,
           2024,
           2022,
           2024,
           2022,
           2022,
           2022,
           2023,
           2022,
           2018,
           2017,
           2024,
           2024,
           2021,
           2021,
           2023,
           2010,
           2022,
           2020,
           2022,
           2022,
           2023,
           2016,
           2024,
           2023,
           2022,
           2020,
           2019,
           2024,
           2022,
           2021,
           2023,
           2022,
           2022,
           2022,
           2022,
           2022,
           2022,
           2023,
           2022,
           2022,
           2024,
           2022,
           2019,
           2023,
           2019,
           2022,
           2025,
           2022,
           2023,
           2021,
           2023,
           2022,
           2022,
           2022,
           2020,
           2023,
           2024,
           2024,
           2021,
           2022,
           2022,
           2019,
           2023,
           2024,
           2022,
           2022,
           2022,
           2021,
           2023,
           2022,
           2022,
           2024,
           2022,
           2019,
           2022,
           2021,
           2022,
           2013,
           2021,
           2019,
           2019,
           2021,
           2022,
           2022,
           2023,
           2020,
           2019,
           2021,
           2022,
           2024,
           2022,
           2020,
           2022,
           2019,
           2022,
           2019,
           2017,
           2022,
           2022,
           2019,
           2023,
           2022,
           2022,
           2019,
           2021,
           2022,
           2021,
           2022,
           2022,
           2023,
           2021,
           2020,
           2022,
           2021,
           2021,
           2022,
           2022,
           2019,
           2023,
           2021,
           2024,
           2022,
           2023,
           2013,
           2024,
           2019,
           2020,
           2015,
           2023,
           2022,
           2015,
           2014,
           2024,
           2015,
           2016,
           2016,
           2021,
           2022,
           2016,
           2023,
           2016,
           2016,
           2023,
           2018,
           2023,
           2021,
           2022,
           2020,
           2022,
           2023,
           2019,
           2021,
           2021,
           2018,
           2019,
           2021,
           2019,
           2022,
           2022,
           2019,
           2020,
           2021,
           2021,
           2020,
           2021,
           2022,
           2021,
           2022,
           2020,
           2016,
           2023,
           2022,
           2022,
           2018,
           2024,
           2017,
           2013,
           2012,
           2018,
           2023,
           2023,
           2019,
           2022,
           2019,
           2021,
           2022,
           2018,
           2022,
           2021,
           2015,
           2013,
           2016,
           2018,
           2018,
           2019,
           2023,
           2019,
           2013,
           2021,
           2019,
           2020,
           2015,
           2020,
           2020,
           2020,
           2021,
           2013,
           2016,
           2016,
           2017,
           2011,
           2015,
           2022
          ],
          "coloraxis": "coloraxis",
          "symbol": "circle"
         },
         "mode": "markers",
         "name": "",
         "orientation": "v",
         "showlegend": false,
         "type": "scatter",
         "x": [
          39106,
          32922,
          24514,
          83670,
          22964,
          48894,
          30553,
          11527,
          24259,
          165954,
          49321,
          65123,
          56135,
          30156,
          31890,
          71641,
          35568,
          15964,
          21216,
          61143,
          90573,
          113925,
          123615,
          99033,
          14541,
          32006,
          23237,
          10991,
          10028,
          32723,
          33051,
          114773,
          12890,
          26467,
          42285,
          7107,
          51765,
          13203,
          11004,
          42172,
          5498,
          30046,
          38656,
          38132,
          14242,
          42431,
          72364,
          65529,
          14868,
          12111,
          84810,
          22507,
          23387,
          159490,
          27428,
          32475,
          22018,
          45007,
          20100,
          93137,
          10750,
          21110,
          37818,
          42582,
          34540,
          12553,
          48058,
          21050,
          42274,
          25496,
          31172,
          38035,
          56994,
          17585,
          33751,
          34205,
          12505,
          41842,
          13650,
          34777,
          53485,
          5051,
          50621,
          44208,
          5861,
          53134,
          7252,
          11882,
          38747,
          14232,
          43317,
          34294,
          28178,
          39738,
          11285,
          11812,
          27813,
          35480,
          14429,
          20455,
          8274,
          16008,
          18679,
          18265,
          20599,
          45521,
          11069,
          20419,
          42431,
          14266,
          22415,
          26954,
          26335,
          36120,
          24037,
          105635,
          26653,
          30120,
          41565,
          59617,
          33751,
          32371,
          28640,
          76740,
          74623,
          38444,
          34133,
          13424,
          20585,
          54329,
          33325,
          43955,
          27374,
          43831,
          140499,
          21863,
          34655,
          42365,
          28453,
          30448,
          34802,
          52141,
          82166,
          37284,
          36953,
          35010,
          27368,
          28998,
          29224,
          34022,
          15825,
          36953,
          10811,
          30448,
          11933,
          52060,
          11837,
          39091,
          12549,
          33209,
          12860,
          111027,
          13109,
          63267,
          60090,
          171792,
          14612,
          14978,
          71735,
          46211,
          13843,
          66220,
          73085,
          69596,
          24236,
          25409,
          51996,
          23101,
          67500,
          43361,
          23368,
          42954,
          24014,
          29290,
          27075,
          67198,
          31031,
          28055,
          70113,
          36639,
          52145,
          54567,
          39482,
          32861,
          50504,
          35891,
          43243,
          53965,
          59725,
          55683,
          56353,
          45682,
          50603,
          44805,
          51077,
          63230,
          47784,
          39200,
          5226,
          5625,
          23485,
          24535,
          691,
          54545,
          125230,
          85620,
          57337,
          27201,
          25502,
          68287,
          39496,
          65764,
          30663,
          18885,
          77448,
          28069,
          36681,
          73406,
          60401,
          77476,
          46946,
          30821,
          50545,
          10933,
          50434,
          140292,
          37862,
          31527,
          40032,
          157076,
          41509,
          37887,
          49802,
          41245,
          57425,
          65675,
          47405,
          67977,
          142252,
          61404,
          37453
         ],
         "xaxis": "x",
         "y": [
          27293,
          37175,
          31789,
          11799,
          45482,
          27998,
          40675,
          45850,
          34120,
          7902,
          28998,
          18998,
          19998,
          37250,
          34000,
          24998,
          36099,
          45990,
          44920,
          31110,
          15900,
          9999,
          6999,
          26988,
          35990,
          27199,
          30998,
          30998,
          38590,
          37500,
          29998,
          10999,
          33998,
          31590,
          28998,
          41998,
          28998,
          43998,
          38998,
          28998,
          42998,
          31998,
          33990,
          30998,
          34299,
          26998,
          24998,
          15200,
          39998,
          40500,
          22359,
          32890,
          36590,
          5900,
          31998,
          28998,
          35461,
          32998,
          36998,
          13623,
          41500,
          35998,
          29998,
          24998,
          25998,
          40998,
          28998,
          34359,
          31998,
          44759,
          32990,
          39590,
          27998,
          34998,
          30998,
          33998,
          41759,
          29998,
          41000,
          28998,
          22998,
          36998,
          26590,
          28998,
          55989,
          29998,
          40998,
          31998,
          34998,
          32998,
          28998,
          34998,
          29554,
          33998,
          55998,
          41998,
          28417,
          35998,
          39422,
          27998,
          41998,
          39998,
          30998,
          37998,
          32990,
          27998,
          49500,
          33998,
          26998,
          51990,
          39899,
          28998,
          33588,
          28998,
          34998,
          10999,
          31998,
          27998,
          27998,
          27998,
          30998,
          39990,
          33990,
          26787,
          21749,
          28998,
          30998,
          38590,
          32590,
          23797,
          30998,
          25998,
          33998,
          26998,
          12359,
          31590,
          30998,
          26998,
          35193,
          31998,
          44359,
          25998,
          25199,
          30998,
          26998,
          34998,
          40991,
          32998,
          38000,
          27998,
          37990,
          26998,
          41998,
          31998,
          37998,
          25998,
          39998,
          26998,
          41998,
          30998,
          40998,
          9500,
          41998,
          24998,
          24998,
          8999,
          37998,
          33998,
          17998,
          19590,
          48500,
          18998,
          18998,
          18998,
          30998,
          45759,
          19998,
          37998,
          19998,
          20998,
          37998,
          24590,
          37998,
          28998,
          32998,
          24590,
          38590,
          32590,
          24990,
          29998,
          25998,
          25998,
          28998,
          35590,
          24998,
          32998,
          40590,
          26998,
          26998,
          26998,
          26998,
          27998,
          27998,
          28998,
          32590,
          27998,
          28998,
          20590,
          37998,
          38998,
          33998,
          31998,
          53990,
          20998,
          10899,
          12997,
          23990,
          32998,
          42998,
          23628,
          38990,
          22998,
          29998,
          43590,
          22498,
          41998,
          26904,
          15990,
          16590,
          17590,
          25998,
          29990,
          34998,
          38990,
          24990,
          8359,
          29590,
          32590,
          30590,
          12719,
          28990,
          32590,
          32990,
          32590,
          16590,
          18990,
          19990,
          19590,
          7999,
          16590,
          35000
         ],
         "yaxis": "y"
        }
       ],
       "layout": {
        "coloraxis": {
         "colorbar": {
          "title": {
           "text": "Year"
          }
         },
         "colorscale": [
          [
           0,
           "#0d0887"
          ],
          [
           0.1111111111111111,
           "#46039f"
          ],
          [
           0.2222222222222222,
           "#7201a8"
          ],
          [
           0.3333333333333333,
           "#9c179e"
          ],
          [
           0.4444444444444444,
           "#bd3786"
          ],
          [
           0.5555555555555556,
           "#d8576b"
          ],
          [
           0.6666666666666666,
           "#ed7953"
          ],
          [
           0.7777777777777778,
           "#fb9f3a"
          ],
          [
           0.8888888888888888,
           "#fdca26"
          ],
          [
           1,
           "#f0f921"
          ]
         ]
        },
        "height": 800,
        "legend": {
         "tracegroupgap": 0
        },
        "template": {
         "data": {
          "bar": [
           {
            "error_x": {
             "color": "#2a3f5f"
            },
            "error_y": {
             "color": "#2a3f5f"
            },
            "marker": {
             "line": {
              "color": "#E5ECF6",
              "width": 0.5
             },
             "pattern": {
              "fillmode": "overlay",
              "size": 10,
              "solidity": 0.2
             }
            },
            "type": "bar"
           }
          ],
          "barpolar": [
           {
            "marker": {
             "line": {
              "color": "#E5ECF6",
              "width": 0.5
             },
             "pattern": {
              "fillmode": "overlay",
              "size": 10,
              "solidity": 0.2
             }
            },
            "type": "barpolar"
           }
          ],
          "carpet": [
           {
            "aaxis": {
             "endlinecolor": "#2a3f5f",
             "gridcolor": "white",
             "linecolor": "white",
             "minorgridcolor": "white",
             "startlinecolor": "#2a3f5f"
            },
            "baxis": {
             "endlinecolor": "#2a3f5f",
             "gridcolor": "white",
             "linecolor": "white",
             "minorgridcolor": "white",
             "startlinecolor": "#2a3f5f"
            },
            "type": "carpet"
           }
          ],
          "choropleth": [
           {
            "colorbar": {
             "outlinewidth": 0,
             "ticks": ""
            },
            "type": "choropleth"
           }
          ],
          "contour": [
           {
            "colorbar": {
             "outlinewidth": 0,
             "ticks": ""
            },
            "colorscale": [
             [
              0,
              "#0d0887"
             ],
             [
              0.1111111111111111,
              "#46039f"
             ],
             [
              0.2222222222222222,
              "#7201a8"
             ],
             [
              0.3333333333333333,
              "#9c179e"
             ],
             [
              0.4444444444444444,
              "#bd3786"
             ],
             [
              0.5555555555555556,
              "#d8576b"
             ],
             [
              0.6666666666666666,
              "#ed7953"
             ],
             [
              0.7777777777777778,
              "#fb9f3a"
             ],
             [
              0.8888888888888888,
              "#fdca26"
             ],
             [
              1,
              "#f0f921"
             ]
            ],
            "type": "contour"
           }
          ],
          "contourcarpet": [
           {
            "colorbar": {
             "outlinewidth": 0,
             "ticks": ""
            },
            "type": "contourcarpet"
           }
          ],
          "heatmap": [
           {
            "colorbar": {
             "outlinewidth": 0,
             "ticks": ""
            },
            "colorscale": [
             [
              0,
              "#0d0887"
             ],
             [
              0.1111111111111111,
              "#46039f"
             ],
             [
              0.2222222222222222,
              "#7201a8"
             ],
             [
              0.3333333333333333,
              "#9c179e"
             ],
             [
              0.4444444444444444,
              "#bd3786"
             ],
             [
              0.5555555555555556,
              "#d8576b"
             ],
             [
              0.6666666666666666,
              "#ed7953"
             ],
             [
              0.7777777777777778,
              "#fb9f3a"
             ],
             [
              0.8888888888888888,
              "#fdca26"
             ],
             [
              1,
              "#f0f921"
             ]
            ],
            "type": "heatmap"
           }
          ],
          "heatmapgl": [
           {
            "colorbar": {
             "outlinewidth": 0,
             "ticks": ""
            },
            "colorscale": [
             [
              0,
              "#0d0887"
             ],
             [
              0.1111111111111111,
              "#46039f"
             ],
             [
              0.2222222222222222,
              "#7201a8"
             ],
             [
              0.3333333333333333,
              "#9c179e"
             ],
             [
              0.4444444444444444,
              "#bd3786"
             ],
             [
              0.5555555555555556,
              "#d8576b"
             ],
             [
              0.6666666666666666,
              "#ed7953"
             ],
             [
              0.7777777777777778,
              "#fb9f3a"
             ],
             [
              0.8888888888888888,
              "#fdca26"
             ],
             [
              1,
              "#f0f921"
             ]
            ],
            "type": "heatmapgl"
           }
          ],
          "histogram": [
           {
            "marker": {
             "pattern": {
              "fillmode": "overlay",
              "size": 10,
              "solidity": 0.2
             }
            },
            "type": "histogram"
           }
          ],
          "histogram2d": [
           {
            "colorbar": {
             "outlinewidth": 0,
             "ticks": ""
            },
            "colorscale": [
             [
              0,
              "#0d0887"
             ],
             [
              0.1111111111111111,
              "#46039f"
             ],
             [
              0.2222222222222222,
              "#7201a8"
             ],
             [
              0.3333333333333333,
              "#9c179e"
             ],
             [
              0.4444444444444444,
              "#bd3786"
             ],
             [
              0.5555555555555556,
              "#d8576b"
             ],
             [
              0.6666666666666666,
              "#ed7953"
             ],
             [
              0.7777777777777778,
              "#fb9f3a"
             ],
             [
              0.8888888888888888,
              "#fdca26"
             ],
             [
              1,
              "#f0f921"
             ]
            ],
            "type": "histogram2d"
           }
          ],
          "histogram2dcontour": [
           {
            "colorbar": {
             "outlinewidth": 0,
             "ticks": ""
            },
            "colorscale": [
             [
              0,
              "#0d0887"
             ],
             [
              0.1111111111111111,
              "#46039f"
             ],
             [
              0.2222222222222222,
              "#7201a8"
             ],
             [
              0.3333333333333333,
              "#9c179e"
             ],
             [
              0.4444444444444444,
              "#bd3786"
             ],
             [
              0.5555555555555556,
              "#d8576b"
             ],
             [
              0.6666666666666666,
              "#ed7953"
             ],
             [
              0.7777777777777778,
              "#fb9f3a"
             ],
             [
              0.8888888888888888,
              "#fdca26"
             ],
             [
              1,
              "#f0f921"
             ]
            ],
            "type": "histogram2dcontour"
           }
          ],
          "mesh3d": [
           {
            "colorbar": {
             "outlinewidth": 0,
             "ticks": ""
            },
            "type": "mesh3d"
           }
          ],
          "parcoords": [
           {
            "line": {
             "colorbar": {
              "outlinewidth": 0,
              "ticks": ""
             }
            },
            "type": "parcoords"
           }
          ],
          "pie": [
           {
            "automargin": true,
            "type": "pie"
           }
          ],
          "scatter": [
           {
            "fillpattern": {
             "fillmode": "overlay",
             "size": 10,
             "solidity": 0.2
            },
            "type": "scatter"
           }
          ],
          "scatter3d": [
           {
            "line": {
             "colorbar": {
              "outlinewidth": 0,
              "ticks": ""
             }
            },
            "marker": {
             "colorbar": {
              "outlinewidth": 0,
              "ticks": ""
             }
            },
            "type": "scatter3d"
           }
          ],
          "scattercarpet": [
           {
            "marker": {
             "colorbar": {
              "outlinewidth": 0,
              "ticks": ""
             }
            },
            "type": "scattercarpet"
           }
          ],
          "scattergeo": [
           {
            "marker": {
             "colorbar": {
              "outlinewidth": 0,
              "ticks": ""
             }
            },
            "type": "scattergeo"
           }
          ],
          "scattergl": [
           {
            "marker": {
             "colorbar": {
              "outlinewidth": 0,
              "ticks": ""
             }
            },
            "type": "scattergl"
           }
          ],
          "scattermapbox": [
           {
            "marker": {
             "colorbar": {
              "outlinewidth": 0,
              "ticks": ""
             }
            },
            "type": "scattermapbox"
           }
          ],
          "scatterpolar": [
           {
            "marker": {
             "colorbar": {
              "outlinewidth": 0,
              "ticks": ""
             }
            },
            "type": "scatterpolar"
           }
          ],
          "scatterpolargl": [
           {
            "marker": {
             "colorbar": {
              "outlinewidth": 0,
              "ticks": ""
             }
            },
            "type": "scatterpolargl"
           }
          ],
          "scatterternary": [
           {
            "marker": {
             "colorbar": {
              "outlinewidth": 0,
              "ticks": ""
             }
            },
            "type": "scatterternary"
           }
          ],
          "surface": [
           {
            "colorbar": {
             "outlinewidth": 0,
             "ticks": ""
            },
            "colorscale": [
             [
              0,
              "#0d0887"
             ],
             [
              0.1111111111111111,
              "#46039f"
             ],
             [
              0.2222222222222222,
              "#7201a8"
             ],
             [
              0.3333333333333333,
              "#9c179e"
             ],
             [
              0.4444444444444444,
              "#bd3786"
             ],
             [
              0.5555555555555556,
              "#d8576b"
             ],
             [
              0.6666666666666666,
              "#ed7953"
             ],
             [
              0.7777777777777778,
              "#fb9f3a"
             ],
             [
              0.8888888888888888,
              "#fdca26"
             ],
             [
              1,
              "#f0f921"
             ]
            ],
            "type": "surface"
           }
          ],
          "table": [
           {
            "cells": {
             "fill": {
              "color": "#EBF0F8"
             },
             "line": {
              "color": "white"
             }
            },
            "header": {
             "fill": {
              "color": "#C8D4E3"
             },
             "line": {
              "color": "white"
             }
            },
            "type": "table"
           }
          ]
         },
         "layout": {
          "annotationdefaults": {
           "arrowcolor": "#2a3f5f",
           "arrowhead": 0,
           "arrowwidth": 1
          },
          "autotypenumbers": "strict",
          "coloraxis": {
           "colorbar": {
            "outlinewidth": 0,
            "ticks": ""
           }
          },
          "colorscale": {
           "diverging": [
            [
             0,
             "#8e0152"
            ],
            [
             0.1,
             "#c51b7d"
            ],
            [
             0.2,
             "#de77ae"
            ],
            [
             0.3,
             "#f1b6da"
            ],
            [
             0.4,
             "#fde0ef"
            ],
            [
             0.5,
             "#f7f7f7"
            ],
            [
             0.6,
             "#e6f5d0"
            ],
            [
             0.7,
             "#b8e186"
            ],
            [
             0.8,
             "#7fbc41"
            ],
            [
             0.9,
             "#4d9221"
            ],
            [
             1,
             "#276419"
            ]
           ],
           "sequential": [
            [
             0,
             "#0d0887"
            ],
            [
             0.1111111111111111,
             "#46039f"
            ],
            [
             0.2222222222222222,
             "#7201a8"
            ],
            [
             0.3333333333333333,
             "#9c179e"
            ],
            [
             0.4444444444444444,
             "#bd3786"
            ],
            [
             0.5555555555555556,
             "#d8576b"
            ],
            [
             0.6666666666666666,
             "#ed7953"
            ],
            [
             0.7777777777777778,
             "#fb9f3a"
            ],
            [
             0.8888888888888888,
             "#fdca26"
            ],
            [
             1,
             "#f0f921"
            ]
           ],
           "sequentialminus": [
            [
             0,
             "#0d0887"
            ],
            [
             0.1111111111111111,
             "#46039f"
            ],
            [
             0.2222222222222222,
             "#7201a8"
            ],
            [
             0.3333333333333333,
             "#9c179e"
            ],
            [
             0.4444444444444444,
             "#bd3786"
            ],
            [
             0.5555555555555556,
             "#d8576b"
            ],
            [
             0.6666666666666666,
             "#ed7953"
            ],
            [
             0.7777777777777778,
             "#fb9f3a"
            ],
            [
             0.8888888888888888,
             "#fdca26"
            ],
            [
             1,
             "#f0f921"
            ]
           ]
          },
          "colorway": [
           "#636efa",
           "#EF553B",
           "#00cc96",
           "#ab63fa",
           "#FFA15A",
           "#19d3f3",
           "#FF6692",
           "#B6E880",
           "#FF97FF",
           "#FECB52"
          ],
          "font": {
           "color": "#2a3f5f"
          },
          "geo": {
           "bgcolor": "white",
           "lakecolor": "white",
           "landcolor": "#E5ECF6",
           "showlakes": true,
           "showland": true,
           "subunitcolor": "white"
          },
          "hoverlabel": {
           "align": "left"
          },
          "hovermode": "closest",
          "mapbox": {
           "style": "light"
          },
          "paper_bgcolor": "white",
          "plot_bgcolor": "#E5ECF6",
          "polar": {
           "angularaxis": {
            "gridcolor": "white",
            "linecolor": "white",
            "ticks": ""
           },
           "bgcolor": "#E5ECF6",
           "radialaxis": {
            "gridcolor": "white",
            "linecolor": "white",
            "ticks": ""
           }
          },
          "scene": {
           "xaxis": {
            "backgroundcolor": "#E5ECF6",
            "gridcolor": "white",
            "gridwidth": 2,
            "linecolor": "white",
            "showbackground": true,
            "ticks": "",
            "zerolinecolor": "white"
           },
           "yaxis": {
            "backgroundcolor": "#E5ECF6",
            "gridcolor": "white",
            "gridwidth": 2,
            "linecolor": "white",
            "showbackground": true,
            "ticks": "",
            "zerolinecolor": "white"
           },
           "zaxis": {
            "backgroundcolor": "#E5ECF6",
            "gridcolor": "white",
            "gridwidth": 2,
            "linecolor": "white",
            "showbackground": true,
            "ticks": "",
            "zerolinecolor": "white"
           }
          },
          "shapedefaults": {
           "line": {
            "color": "#2a3f5f"
           }
          },
          "ternary": {
           "aaxis": {
            "gridcolor": "white",
            "linecolor": "white",
            "ticks": ""
           },
           "baxis": {
            "gridcolor": "white",
            "linecolor": "white",
            "ticks": ""
           },
           "bgcolor": "#E5ECF6",
           "caxis": {
            "gridcolor": "white",
            "linecolor": "white",
            "ticks": ""
           }
          },
          "title": {
           "x": 0.05
          },
          "xaxis": {
           "automargin": true,
           "gridcolor": "white",
           "linecolor": "white",
           "ticks": "",
           "title": {
            "standoff": 15
           },
           "zerolinecolor": "white",
           "zerolinewidth": 2
          },
          "yaxis": {
           "automargin": true,
           "gridcolor": "white",
           "linecolor": "white",
           "ticks": "",
           "title": {
            "standoff": 15
           },
           "zerolinecolor": "white",
           "zerolinewidth": 2
          }
         }
        },
        "title": {
         "text": "Volvo XC60 Price vs Mileage"
        },
        "xaxis": {
         "anchor": "y",
         "domain": [
          0,
          1
         ],
         "title": {
          "text": "Mileage"
         }
        },
        "yaxis": {
         "anchor": "x",
         "domain": [
          0,
          1
         ],
         "tickprefix": "$",
         "title": {
          "text": "Price"
         }
        }
       }
      }
     },
     "metadata": {},
     "output_type": "display_data"
    }
   ],
   "source": [
    "#pull the new csv as a dataframe\n",
    "volvo_df_clean = pd.read_csv('volvo_data_clean.csv')\n",
    "\n",
    "#scatterplot using plotly\n",
    "fig = px.scatter(volvo_df_clean, x='Mileage', y='Price', title='Price vs Year', color=\"Year\")\n",
    "fig.update_layout(height=800)\n",
    "fig.update_yaxes(tickprefix=\"$\")\n",
    "fig.update_layout(title=\"Volvo XC60 Price vs Mileage\")\n",
    "fig.show()\n"
   ]
  },
  {
   "cell_type": "code",
   "execution_count": 13,
   "metadata": {},
   "outputs": [
    {
     "data": {
      "application/vnd.plotly.v1+json": {
       "config": {
        "plotlyServerURL": "https://plot.ly"
       },
       "data": [
        {
         "mode": "markers",
         "name": "Actual",
         "type": "scatter",
         "x": [
          39106,
          32922,
          24514,
          83670,
          22964,
          48894,
          30553,
          11527,
          24259,
          165954,
          49321,
          65123,
          56135,
          30156,
          31890,
          71641,
          35568,
          15964,
          21216,
          61143,
          90573,
          113925,
          123615,
          99033,
          14541,
          32006,
          23237,
          10991,
          10028,
          32723,
          33051,
          114773,
          12890,
          26467,
          42285,
          7107,
          51765,
          13203,
          11004,
          42172,
          5498,
          30046,
          38656,
          38132,
          14242,
          42431,
          72364,
          65529,
          14868,
          12111,
          84810,
          22507,
          23387,
          159490,
          27428,
          32475,
          22018,
          45007,
          20100,
          93137,
          10750,
          21110,
          37818,
          42582,
          34540,
          12553,
          48058,
          21050,
          42274,
          25496,
          31172,
          38035,
          56994,
          17585,
          33751,
          34205,
          12505,
          41842,
          13650,
          34777,
          53485,
          5051,
          50621,
          44208,
          5861,
          53134,
          7252,
          11882,
          38747,
          14232,
          43317,
          34294,
          28178,
          39738,
          11285,
          11812,
          27813,
          35480,
          14429,
          20455,
          8274,
          16008,
          18679,
          18265,
          20599,
          45521,
          11069,
          20419,
          42431,
          14266,
          22415,
          26954,
          26335,
          36120,
          24037,
          105635,
          26653,
          30120,
          41565,
          59617,
          33751,
          32371,
          28640,
          76740,
          74623,
          38444,
          34133,
          13424,
          20585,
          54329,
          33325,
          43955,
          27374,
          43831,
          140499,
          21863,
          34655,
          42365,
          28453,
          30448,
          34802,
          52141,
          82166,
          37284,
          36953,
          35010,
          27368,
          28998,
          29224,
          34022,
          15825,
          36953,
          10811,
          30448,
          11933,
          52060,
          11837,
          39091,
          12549,
          33209,
          12860,
          111027,
          13109,
          63267,
          60090,
          171792,
          14612,
          14978,
          71735,
          46211,
          13843,
          66220,
          73085,
          69596,
          24236,
          25409,
          51996,
          23101,
          67500,
          43361,
          23368,
          42954,
          24014,
          29290,
          27075,
          67198,
          31031,
          28055,
          70113,
          36639,
          52145,
          54567,
          39482,
          32861,
          50504,
          35891,
          43243,
          53965,
          59725,
          55683,
          56353,
          45682,
          50603,
          44805,
          51077,
          63230,
          47784,
          39200,
          5226,
          5625,
          23485,
          24535,
          691,
          54545,
          125230,
          85620,
          57337,
          27201,
          25502,
          68287,
          39496,
          65764,
          30663,
          18885,
          77448,
          28069,
          36681,
          73406,
          60401,
          77476,
          46946,
          30821,
          50545,
          10933,
          50434,
          140292,
          37862,
          31527,
          40032,
          157076,
          41509,
          37887,
          49802,
          41245,
          57425,
          65675,
          47405,
          67977,
          142252,
          61404,
          37453
         ],
         "y": [
          27293,
          37175,
          31789,
          11799,
          45482,
          27998,
          40675,
          45850,
          34120,
          7902,
          28998,
          18998,
          19998,
          37250,
          34000,
          24998,
          36099,
          45990,
          44920,
          31110,
          15900,
          9999,
          6999,
          26988,
          35990,
          27199,
          30998,
          30998,
          38590,
          37500,
          29998,
          10999,
          33998,
          31590,
          28998,
          41998,
          28998,
          43998,
          38998,
          28998,
          42998,
          31998,
          33990,
          30998,
          34299,
          26998,
          24998,
          15200,
          39998,
          40500,
          22359,
          32890,
          36590,
          5900,
          31998,
          28998,
          35461,
          32998,
          36998,
          13623,
          41500,
          35998,
          29998,
          24998,
          25998,
          40998,
          28998,
          34359,
          31998,
          44759,
          32990,
          39590,
          27998,
          34998,
          30998,
          33998,
          41759,
          29998,
          41000,
          28998,
          22998,
          36998,
          26590,
          28998,
          55989,
          29998,
          40998,
          31998,
          34998,
          32998,
          28998,
          34998,
          29554,
          33998,
          55998,
          41998,
          28417,
          35998,
          39422,
          27998,
          41998,
          39998,
          30998,
          37998,
          32990,
          27998,
          49500,
          33998,
          26998,
          51990,
          39899,
          28998,
          33588,
          28998,
          34998,
          10999,
          31998,
          27998,
          27998,
          27998,
          30998,
          39990,
          33990,
          26787,
          21749,
          28998,
          30998,
          38590,
          32590,
          23797,
          30998,
          25998,
          33998,
          26998,
          12359,
          31590,
          30998,
          26998,
          35193,
          31998,
          44359,
          25998,
          25199,
          30998,
          26998,
          34998,
          40991,
          32998,
          38000,
          27998,
          37990,
          26998,
          41998,
          31998,
          37998,
          25998,
          39998,
          26998,
          41998,
          30998,
          40998,
          9500,
          41998,
          24998,
          24998,
          8999,
          37998,
          33998,
          17998,
          19590,
          48500,
          18998,
          18998,
          18998,
          30998,
          45759,
          19998,
          37998,
          19998,
          20998,
          37998,
          24590,
          37998,
          28998,
          32998,
          24590,
          38590,
          32590,
          24990,
          29998,
          25998,
          25998,
          28998,
          35590,
          24998,
          32998,
          40590,
          26998,
          26998,
          26998,
          26998,
          27998,
          27998,
          28998,
          32590,
          27998,
          28998,
          20590,
          37998,
          38998,
          33998,
          31998,
          53990,
          20998,
          10899,
          12997,
          23990,
          32998,
          42998,
          23628,
          38990,
          22998,
          29998,
          43590,
          22498,
          41998,
          26904,
          15990,
          16590,
          17590,
          25998,
          29990,
          34998,
          38990,
          24990,
          8359,
          29590,
          32590,
          30590,
          12719,
          28990,
          32590,
          32990,
          32590,
          16590,
          18990,
          19990,
          19590,
          7999,
          16590,
          35000
         ]
        },
        {
         "mode": "lines",
         "name": "Predicted",
         "type": "scatter",
         "x": [
          39106,
          32922,
          24514,
          83670,
          22964,
          48894,
          30553,
          11527,
          24259,
          165954,
          49321,
          65123,
          56135,
          30156,
          31890,
          71641,
          35568,
          15964,
          21216,
          61143,
          90573,
          113925,
          123615,
          99033,
          14541,
          32006,
          23237,
          10991,
          10028,
          32723,
          33051,
          114773,
          12890,
          26467,
          42285,
          7107,
          51765,
          13203,
          11004,
          42172,
          5498,
          30046,
          38656,
          38132,
          14242,
          42431,
          72364,
          65529,
          14868,
          12111,
          84810,
          22507,
          23387,
          159490,
          27428,
          32475,
          22018,
          45007,
          20100,
          93137,
          10750,
          21110,
          37818,
          42582,
          34540,
          12553,
          48058,
          21050,
          42274,
          25496,
          31172,
          38035,
          56994,
          17585,
          33751,
          34205,
          12505,
          41842,
          13650,
          34777,
          53485,
          5051,
          50621,
          44208,
          5861,
          53134,
          7252,
          11882,
          38747,
          14232,
          43317,
          34294,
          28178,
          39738,
          11285,
          11812,
          27813,
          35480,
          14429,
          20455,
          8274,
          16008,
          18679,
          18265,
          20599,
          45521,
          11069,
          20419,
          42431,
          14266,
          22415,
          26954,
          26335,
          36120,
          24037,
          105635,
          26653,
          30120,
          41565,
          59617,
          33751,
          32371,
          28640,
          76740,
          74623,
          38444,
          34133,
          13424,
          20585,
          54329,
          33325,
          43955,
          27374,
          43831,
          140499,
          21863,
          34655,
          42365,
          28453,
          30448,
          34802,
          52141,
          82166,
          37284,
          36953,
          35010,
          27368,
          28998,
          29224,
          34022,
          15825,
          36953,
          10811,
          30448,
          11933,
          52060,
          11837,
          39091,
          12549,
          33209,
          12860,
          111027,
          13109,
          63267,
          60090,
          171792,
          14612,
          14978,
          71735,
          46211,
          13843,
          66220,
          73085,
          69596,
          24236,
          25409,
          51996,
          23101,
          67500,
          43361,
          23368,
          42954,
          24014,
          29290,
          27075,
          67198,
          31031,
          28055,
          70113,
          36639,
          52145,
          54567,
          39482,
          32861,
          50504,
          35891,
          43243,
          53965,
          59725,
          55683,
          56353,
          45682,
          50603,
          44805,
          51077,
          63230,
          47784,
          39200,
          5226,
          5625,
          23485,
          24535,
          691,
          54545,
          125230,
          85620,
          57337,
          27201,
          25502,
          68287,
          39496,
          65764,
          30663,
          18885,
          77448,
          28069,
          36681,
          73406,
          60401,
          77476,
          46946,
          30821,
          50545,
          10933,
          50434,
          140292,
          37862,
          31527,
          40032,
          157076,
          41509,
          37887,
          49802,
          41245,
          57425,
          65675,
          47405,
          67977,
          142252,
          61404,
          37453
         ],
         "y": [
          31318.91800073305,
          32922.412280094766,
          35102.58367415577,
          19763.594736587624,
          35504.49443305142,
          28780.91638262302,
          33536.68749804559,
          38470.077239173654,
          35168.7044764257,
          -1572.4213182311214,
          28670.196450978867,
          24572.781088353742,
          26903.34489542086,
          33639.628511775634,
          33190.007056340124,
          22882.681522881612,
          32236.311720070335,
          37319.5752796769,
          35957.74605018018,
          25604.784198292233,
          17973.665724551094,
          11918.556020208485,
          9405.96553395121,
          15780.010872772298,
          37688.55528606948,
          33159.9285737389,
          35433.706280033024,
          38609.0605725724,
          38858.763837615305,
          32974.01243559169,
          32888.9629330641,
          11698.671940502998,
          38116.65506860929,
          34596.17611794727,
          30494.611999101282,
          39616.17114518574,
          28036.473938242772,
          38035.49502503875,
          38605.689708142956,
          30523.91258991109,
          40033.3804426458,
          33668.151210794036,
          31435.601769444693,
          31571.473535677796,
          37766.08516794677,
          30456.754598585947,
          22695.209601151582,
          24467.506399249465,
          37603.765080805686,
          38318.64763711233,
          19467.995855851474,
          35622.99328260968,
          35394.81169046248,
          103.6761949956126,
          34346.99144743197,
          33038.31815701499,
          35749.78964460966,
          29788.80484702777,
          36247.121796585045,
          17308.82754015856,
          38671.55121314908,
          35985.231560143366,
          31652.89287651214,
          30417.6007117516,
          32502.869307260473,
          38204.03824651112,
          28997.688895162864,
          36000.78939597159,
          30497.464269003118,
          34847.9537611006,
          33376.18249175113,
          31596.625370266753,
          26680.608545813535,
          36899.2544150512,
          32707.454848401547,
          32589.733890634692,
          38216.48451517369,
          30609.480686966293,
          37919.589148118524,
          32441.41585573901,
          27590.48264450051,
          40149.286319566025,
          28333.110008034135,
          29995.98336080688,
          39939.25553588508,
          27681.495984095585,
          39578.573041934214,
          38378.02671052336,
          31412.00571843856,
          37768.6781405848,
          30227.017222855924,
          32566.65643415617,
          34152.51849957924,
          31155.042130009155,
          38532.82717701413,
          38396.177518989614,
          34247.16200086757,
          32259.129879285054,
          37717.596579615485,
          36155.07126793475,
          39313.57123832689,
          37308.166200069536,
          36615.583208450014,
          36722.93227566472,
          36117.732461947024,
          29655.526053432703,
          38588.83538599572,
          36164.40596943168,
          30456.754598585947,
          37759.86203361548,
          35646.84863087961,
          34469.89835047489,
          34630.40335676934,
          32093.179630450722,
          35226.26846899011,
          14068.130337140661,
          34547.94682687979,
          33648.96321327257,
          30681.3060290399,
          26000.471822856583,
          32707.454848401547,
          33065.28507245057,
          34032.72316370195,
          21560.524774746853,
          22109.457082219156,
          31490.572789371065,
          32608.40329362856,
          37978.19032973814,
          36121.36262364028,
          27371.635753850234,
          32817.9154827819,
          30061.5855685492,
          34360.99349967736,
          30093.738429260855,
          5027.990531890544,
          35789.980720499225,
          32473.050121923057,
          30473.86821799699,
          34081.21175203323,
          33563.91371074497,
          32434.93342414392,
          27938.9781670526,
          20153.5778213483,
          31791.357615383284,
          31877.18500970229,
          32380.99959327276,
          34362.54928326018,
          33939.89474326025,
          33881.293561640625,
          32637.18528991076,
          37355.617599345605,
          31877.18500970229,
          38655.73408005706,
          33563.91371074497,
          38364.80255006938,
          27959.981245420695,
          38389.695087394524,
          31322.807459690106,
          38205.07543556633,
          32847.993965383124,
          38124.4339865234,
          12669.999490711434,
          38059.86896783629,
          25054.0368099733,
          25877.82421707746,
          -3086.1987443167745,
          37670.14518033942,
          37575.24238178729,
          22858.30758008407,
          29476.610941408188,
          37869.54477620442,
          24288.33198996115,
          22508.25627394916,
          23412.944427360057,
          35174.66831349319,
          34870.512623051516,
          27976.57627030413,
          35468.97070791032,
          23956.43149229249,
          30215.608143248563,
          35399.738338474745,
          30321.142129616645,
          35232.232306057595,
          33864.17994222959,
          34438.52338155465,
          24034.739265961187,
          33412.74340594745,
          34184.412063027085,
          23278.887741973576,
          31958.604350536632,
          27937.940977997387,
          27309.92300506497,
          31221.422229542884,
          32938.22941318679,
          28363.44778789916,
          32152.55870386176,
          30246.205220377393,
          27466.019957874763,
          25972.46771836579,
          27020.547258660106,
          26846.818091911668,
          29613.779193960312,
          28337.7773587826,
          29841.18289431611,
          28214.870455739674,
          25063.630808734033,
          29068.73634544506,
          31294.544057935513,
          40103.90929840039,
          40000.449690142734,
          35369.40055860972,
          35097.138431615895,
          41279.8223897499,
          27315.62754486865,
          8987.200452908328,
          19257.965072170526,
          26591.669584328884,
          34405.851926315394,
          34846.39797751778,
          23752.364545679022,
          31217.792067849634,
          24406.57154225561,
          33508.16479902719,
          36562.167972106465,
          21376.942311973875,
          34180.78190133383,
          31947.71386545688,
          22425.02185226819,
          25797.18276803453,
          21369.681988587374,
          29286.027452512513,
          33467.19583134622,
          28352.816600083213,
          38624.099813873014,
          28381.598596365417,
          5081.665065497895,
          31641.48379690478,
          33284.131963100845,
          31078.808734450882,
          729.619789817596,
          30695.826675812903,
          31635.00136530969,
          28545.474467089316,
          30764.281153457065,
          26568.851425114168,
          24429.648998734134,
          29167.01000842664,
          23832.74669745815,
          4573.442428442766,
          25537.107612439482,
          31747.53637780047
         ]
        }
       ],
       "layout": {
        "height": 800,
        "template": {
         "data": {
          "bar": [
           {
            "error_x": {
             "color": "#2a3f5f"
            },
            "error_y": {
             "color": "#2a3f5f"
            },
            "marker": {
             "line": {
              "color": "#E5ECF6",
              "width": 0.5
             },
             "pattern": {
              "fillmode": "overlay",
              "size": 10,
              "solidity": 0.2
             }
            },
            "type": "bar"
           }
          ],
          "barpolar": [
           {
            "marker": {
             "line": {
              "color": "#E5ECF6",
              "width": 0.5
             },
             "pattern": {
              "fillmode": "overlay",
              "size": 10,
              "solidity": 0.2
             }
            },
            "type": "barpolar"
           }
          ],
          "carpet": [
           {
            "aaxis": {
             "endlinecolor": "#2a3f5f",
             "gridcolor": "white",
             "linecolor": "white",
             "minorgridcolor": "white",
             "startlinecolor": "#2a3f5f"
            },
            "baxis": {
             "endlinecolor": "#2a3f5f",
             "gridcolor": "white",
             "linecolor": "white",
             "minorgridcolor": "white",
             "startlinecolor": "#2a3f5f"
            },
            "type": "carpet"
           }
          ],
          "choropleth": [
           {
            "colorbar": {
             "outlinewidth": 0,
             "ticks": ""
            },
            "type": "choropleth"
           }
          ],
          "contour": [
           {
            "colorbar": {
             "outlinewidth": 0,
             "ticks": ""
            },
            "colorscale": [
             [
              0,
              "#0d0887"
             ],
             [
              0.1111111111111111,
              "#46039f"
             ],
             [
              0.2222222222222222,
              "#7201a8"
             ],
             [
              0.3333333333333333,
              "#9c179e"
             ],
             [
              0.4444444444444444,
              "#bd3786"
             ],
             [
              0.5555555555555556,
              "#d8576b"
             ],
             [
              0.6666666666666666,
              "#ed7953"
             ],
             [
              0.7777777777777778,
              "#fb9f3a"
             ],
             [
              0.8888888888888888,
              "#fdca26"
             ],
             [
              1,
              "#f0f921"
             ]
            ],
            "type": "contour"
           }
          ],
          "contourcarpet": [
           {
            "colorbar": {
             "outlinewidth": 0,
             "ticks": ""
            },
            "type": "contourcarpet"
           }
          ],
          "heatmap": [
           {
            "colorbar": {
             "outlinewidth": 0,
             "ticks": ""
            },
            "colorscale": [
             [
              0,
              "#0d0887"
             ],
             [
              0.1111111111111111,
              "#46039f"
             ],
             [
              0.2222222222222222,
              "#7201a8"
             ],
             [
              0.3333333333333333,
              "#9c179e"
             ],
             [
              0.4444444444444444,
              "#bd3786"
             ],
             [
              0.5555555555555556,
              "#d8576b"
             ],
             [
              0.6666666666666666,
              "#ed7953"
             ],
             [
              0.7777777777777778,
              "#fb9f3a"
             ],
             [
              0.8888888888888888,
              "#fdca26"
             ],
             [
              1,
              "#f0f921"
             ]
            ],
            "type": "heatmap"
           }
          ],
          "heatmapgl": [
           {
            "colorbar": {
             "outlinewidth": 0,
             "ticks": ""
            },
            "colorscale": [
             [
              0,
              "#0d0887"
             ],
             [
              0.1111111111111111,
              "#46039f"
             ],
             [
              0.2222222222222222,
              "#7201a8"
             ],
             [
              0.3333333333333333,
              "#9c179e"
             ],
             [
              0.4444444444444444,
              "#bd3786"
             ],
             [
              0.5555555555555556,
              "#d8576b"
             ],
             [
              0.6666666666666666,
              "#ed7953"
             ],
             [
              0.7777777777777778,
              "#fb9f3a"
             ],
             [
              0.8888888888888888,
              "#fdca26"
             ],
             [
              1,
              "#f0f921"
             ]
            ],
            "type": "heatmapgl"
           }
          ],
          "histogram": [
           {
            "marker": {
             "pattern": {
              "fillmode": "overlay",
              "size": 10,
              "solidity": 0.2
             }
            },
            "type": "histogram"
           }
          ],
          "histogram2d": [
           {
            "colorbar": {
             "outlinewidth": 0,
             "ticks": ""
            },
            "colorscale": [
             [
              0,
              "#0d0887"
             ],
             [
              0.1111111111111111,
              "#46039f"
             ],
             [
              0.2222222222222222,
              "#7201a8"
             ],
             [
              0.3333333333333333,
              "#9c179e"
             ],
             [
              0.4444444444444444,
              "#bd3786"
             ],
             [
              0.5555555555555556,
              "#d8576b"
             ],
             [
              0.6666666666666666,
              "#ed7953"
             ],
             [
              0.7777777777777778,
              "#fb9f3a"
             ],
             [
              0.8888888888888888,
              "#fdca26"
             ],
             [
              1,
              "#f0f921"
             ]
            ],
            "type": "histogram2d"
           }
          ],
          "histogram2dcontour": [
           {
            "colorbar": {
             "outlinewidth": 0,
             "ticks": ""
            },
            "colorscale": [
             [
              0,
              "#0d0887"
             ],
             [
              0.1111111111111111,
              "#46039f"
             ],
             [
              0.2222222222222222,
              "#7201a8"
             ],
             [
              0.3333333333333333,
              "#9c179e"
             ],
             [
              0.4444444444444444,
              "#bd3786"
             ],
             [
              0.5555555555555556,
              "#d8576b"
             ],
             [
              0.6666666666666666,
              "#ed7953"
             ],
             [
              0.7777777777777778,
              "#fb9f3a"
             ],
             [
              0.8888888888888888,
              "#fdca26"
             ],
             [
              1,
              "#f0f921"
             ]
            ],
            "type": "histogram2dcontour"
           }
          ],
          "mesh3d": [
           {
            "colorbar": {
             "outlinewidth": 0,
             "ticks": ""
            },
            "type": "mesh3d"
           }
          ],
          "parcoords": [
           {
            "line": {
             "colorbar": {
              "outlinewidth": 0,
              "ticks": ""
             }
            },
            "type": "parcoords"
           }
          ],
          "pie": [
           {
            "automargin": true,
            "type": "pie"
           }
          ],
          "scatter": [
           {
            "fillpattern": {
             "fillmode": "overlay",
             "size": 10,
             "solidity": 0.2
            },
            "type": "scatter"
           }
          ],
          "scatter3d": [
           {
            "line": {
             "colorbar": {
              "outlinewidth": 0,
              "ticks": ""
             }
            },
            "marker": {
             "colorbar": {
              "outlinewidth": 0,
              "ticks": ""
             }
            },
            "type": "scatter3d"
           }
          ],
          "scattercarpet": [
           {
            "marker": {
             "colorbar": {
              "outlinewidth": 0,
              "ticks": ""
             }
            },
            "type": "scattercarpet"
           }
          ],
          "scattergeo": [
           {
            "marker": {
             "colorbar": {
              "outlinewidth": 0,
              "ticks": ""
             }
            },
            "type": "scattergeo"
           }
          ],
          "scattergl": [
           {
            "marker": {
             "colorbar": {
              "outlinewidth": 0,
              "ticks": ""
             }
            },
            "type": "scattergl"
           }
          ],
          "scattermapbox": [
           {
            "marker": {
             "colorbar": {
              "outlinewidth": 0,
              "ticks": ""
             }
            },
            "type": "scattermapbox"
           }
          ],
          "scatterpolar": [
           {
            "marker": {
             "colorbar": {
              "outlinewidth": 0,
              "ticks": ""
             }
            },
            "type": "scatterpolar"
           }
          ],
          "scatterpolargl": [
           {
            "marker": {
             "colorbar": {
              "outlinewidth": 0,
              "ticks": ""
             }
            },
            "type": "scatterpolargl"
           }
          ],
          "scatterternary": [
           {
            "marker": {
             "colorbar": {
              "outlinewidth": 0,
              "ticks": ""
             }
            },
            "type": "scatterternary"
           }
          ],
          "surface": [
           {
            "colorbar": {
             "outlinewidth": 0,
             "ticks": ""
            },
            "colorscale": [
             [
              0,
              "#0d0887"
             ],
             [
              0.1111111111111111,
              "#46039f"
             ],
             [
              0.2222222222222222,
              "#7201a8"
             ],
             [
              0.3333333333333333,
              "#9c179e"
             ],
             [
              0.4444444444444444,
              "#bd3786"
             ],
             [
              0.5555555555555556,
              "#d8576b"
             ],
             [
              0.6666666666666666,
              "#ed7953"
             ],
             [
              0.7777777777777778,
              "#fb9f3a"
             ],
             [
              0.8888888888888888,
              "#fdca26"
             ],
             [
              1,
              "#f0f921"
             ]
            ],
            "type": "surface"
           }
          ],
          "table": [
           {
            "cells": {
             "fill": {
              "color": "#EBF0F8"
             },
             "line": {
              "color": "white"
             }
            },
            "header": {
             "fill": {
              "color": "#C8D4E3"
             },
             "line": {
              "color": "white"
             }
            },
            "type": "table"
           }
          ]
         },
         "layout": {
          "annotationdefaults": {
           "arrowcolor": "#2a3f5f",
           "arrowhead": 0,
           "arrowwidth": 1
          },
          "autotypenumbers": "strict",
          "coloraxis": {
           "colorbar": {
            "outlinewidth": 0,
            "ticks": ""
           }
          },
          "colorscale": {
           "diverging": [
            [
             0,
             "#8e0152"
            ],
            [
             0.1,
             "#c51b7d"
            ],
            [
             0.2,
             "#de77ae"
            ],
            [
             0.3,
             "#f1b6da"
            ],
            [
             0.4,
             "#fde0ef"
            ],
            [
             0.5,
             "#f7f7f7"
            ],
            [
             0.6,
             "#e6f5d0"
            ],
            [
             0.7,
             "#b8e186"
            ],
            [
             0.8,
             "#7fbc41"
            ],
            [
             0.9,
             "#4d9221"
            ],
            [
             1,
             "#276419"
            ]
           ],
           "sequential": [
            [
             0,
             "#0d0887"
            ],
            [
             0.1111111111111111,
             "#46039f"
            ],
            [
             0.2222222222222222,
             "#7201a8"
            ],
            [
             0.3333333333333333,
             "#9c179e"
            ],
            [
             0.4444444444444444,
             "#bd3786"
            ],
            [
             0.5555555555555556,
             "#d8576b"
            ],
            [
             0.6666666666666666,
             "#ed7953"
            ],
            [
             0.7777777777777778,
             "#fb9f3a"
            ],
            [
             0.8888888888888888,
             "#fdca26"
            ],
            [
             1,
             "#f0f921"
            ]
           ],
           "sequentialminus": [
            [
             0,
             "#0d0887"
            ],
            [
             0.1111111111111111,
             "#46039f"
            ],
            [
             0.2222222222222222,
             "#7201a8"
            ],
            [
             0.3333333333333333,
             "#9c179e"
            ],
            [
             0.4444444444444444,
             "#bd3786"
            ],
            [
             0.5555555555555556,
             "#d8576b"
            ],
            [
             0.6666666666666666,
             "#ed7953"
            ],
            [
             0.7777777777777778,
             "#fb9f3a"
            ],
            [
             0.8888888888888888,
             "#fdca26"
            ],
            [
             1,
             "#f0f921"
            ]
           ]
          },
          "colorway": [
           "#636efa",
           "#EF553B",
           "#00cc96",
           "#ab63fa",
           "#FFA15A",
           "#19d3f3",
           "#FF6692",
           "#B6E880",
           "#FF97FF",
           "#FECB52"
          ],
          "font": {
           "color": "#2a3f5f"
          },
          "geo": {
           "bgcolor": "white",
           "lakecolor": "white",
           "landcolor": "#E5ECF6",
           "showlakes": true,
           "showland": true,
           "subunitcolor": "white"
          },
          "hoverlabel": {
           "align": "left"
          },
          "hovermode": "closest",
          "mapbox": {
           "style": "light"
          },
          "paper_bgcolor": "white",
          "plot_bgcolor": "#E5ECF6",
          "polar": {
           "angularaxis": {
            "gridcolor": "white",
            "linecolor": "white",
            "ticks": ""
           },
           "bgcolor": "#E5ECF6",
           "radialaxis": {
            "gridcolor": "white",
            "linecolor": "white",
            "ticks": ""
           }
          },
          "scene": {
           "xaxis": {
            "backgroundcolor": "#E5ECF6",
            "gridcolor": "white",
            "gridwidth": 2,
            "linecolor": "white",
            "showbackground": true,
            "ticks": "",
            "zerolinecolor": "white"
           },
           "yaxis": {
            "backgroundcolor": "#E5ECF6",
            "gridcolor": "white",
            "gridwidth": 2,
            "linecolor": "white",
            "showbackground": true,
            "ticks": "",
            "zerolinecolor": "white"
           },
           "zaxis": {
            "backgroundcolor": "#E5ECF6",
            "gridcolor": "white",
            "gridwidth": 2,
            "linecolor": "white",
            "showbackground": true,
            "ticks": "",
            "zerolinecolor": "white"
           }
          },
          "shapedefaults": {
           "line": {
            "color": "#2a3f5f"
           }
          },
          "ternary": {
           "aaxis": {
            "gridcolor": "white",
            "linecolor": "white",
            "ticks": ""
           },
           "baxis": {
            "gridcolor": "white",
            "linecolor": "white",
            "ticks": ""
           },
           "bgcolor": "#E5ECF6",
           "caxis": {
            "gridcolor": "white",
            "linecolor": "white",
            "ticks": ""
           }
          },
          "title": {
           "x": 0.05
          },
          "xaxis": {
           "automargin": true,
           "gridcolor": "white",
           "linecolor": "white",
           "ticks": "",
           "title": {
            "standoff": 15
           },
           "zerolinecolor": "white",
           "zerolinewidth": 2
          },
          "yaxis": {
           "automargin": true,
           "gridcolor": "white",
           "linecolor": "white",
           "ticks": "",
           "title": {
            "standoff": 15
           },
           "zerolinecolor": "white",
           "zerolinewidth": 2
          }
         }
        },
        "title": {
         "text": "Linear Regression Model"
        },
        "xaxis": {
         "title": {
          "text": "Mileage"
         }
        },
        "yaxis": {
         "title": {
          "text": "Price"
         }
        }
       }
      }
     },
     "metadata": {},
     "output_type": "display_data"
    }
   ],
   "source": [
    "#use the volvo_df_clean to fit a linear regression model\n",
    "from sklearn.linear_model import LinearRegression\n",
    "from sklearn.model_selection import train_test_split\n",
    "from sklearn.metrics import mean_squared_error, r2_score\n",
    "\n",
    "# Split the data into training and testing sets\n",
    "x = volvo_df_clean[['Mileage']]\n",
    "y = volvo_df_clean['Price']\n",
    "\n",
    "\n",
    "# Create and fit the linear regression model\n",
    "\n",
    "volvo_model = LinearRegression()\n",
    "\n",
    "#model.fit(x.values.reshape(-1, 1), y) \n",
    "volvo_model.fit(x, y) \n",
    "#plot the model\n",
    "fig = go.Figure()\n",
    "fig.add_trace(go.Scatter(x=x['Mileage'], y=y, mode='markers', name='Actual'))\n",
    "fig.add_trace(go.Scatter(x=x['Mileage'], y=volvo_model.predict(x), mode='lines', name='Predicted'))\n",
    "fig.update_layout(title=\"Linear Regression Model\", height=800)\n",
    "fig.update_xaxes(title=\"Mileage\")\n",
    "fig.update_yaxes(title=\"Price\")\n",
    "fig.show()\n",
    "\n"
   ]
  },
  {
   "cell_type": "code",
   "execution_count": null,
   "metadata": {},
   "outputs": [
    {
     "name": "stdout",
     "output_type": "stream",
     "text": [
      "Model coefficients: [-0.26109015]\n",
      "Regression equation: predicted_price = 41290.63 -0.26 * mileage\n"
     ]
    }
   ],
   "source": [
    "# Access model parameters\n",
    "print(\"Slope:\", volvo_model.coef_[0])\n",
    "print(\"Intercept:\", volvo_model.intercept_)\n",
    "\n",
    "# Calculate the R^2 score\n",
    "r2 = volvo_model.score(x, y)\n",
    "\n",
    "#get the summary statistics\n",
    "y_pred = volvo_model.predict(x)\n",
    "mse = mean_squared_error(y, y_pred)\n",
    "rmse = mse ** 0.5\n",
    "\n",
    "#print the model coefficients\n",
    "print(f\"Model coefficients: {volvo_model.coef_}\")\n",
    "\n",
    "#print the regression equation\n",
    "print(f\"Regression equation: predicted_price = { round(volvo_model.intercept_, 2)} {round(volvo_model.coef_[0], 2)} * mileage\")\n",
    "\n"
   ]
  },
  {
   "cell_type": "code",
   "execution_count": 15,
   "metadata": {},
   "outputs": [
    {
     "name": "stdout",
     "output_type": "stream",
     "text": [
      "Predicted price for a car with 50000 miles: $28494.13\n"
     ]
    },
    {
     "name": "stderr",
     "output_type": "stream",
     "text": [
      "c:\\Users\\amyfo\\anaconda3\\Lib\\site-packages\\sklearn\\base.py:493: UserWarning:\n",
      "\n",
      "X does not have valid feature names, but LinearRegression was fitted with feature names\n",
      "\n"
     ]
    }
   ],
   "source": [
    "#predict the price of a volvo based on mileage\n",
    "mileage = 50000\n",
    "predicted_price = volvo_model.predict([[mileage]])[0]\n",
    "print(f\"Predicted price for a car with {mileage} miles: ${predicted_price:.2f}\")\n"
   ]
  }
 ],
 "metadata": {
  "kernelspec": {
   "display_name": "base",
   "language": "python",
   "name": "python3"
  },
  "language_info": {
   "codemirror_mode": {
    "name": "ipython",
    "version": 3
   },
   "file_extension": ".py",
   "mimetype": "text/x-python",
   "name": "python",
   "nbconvert_exporter": "python",
   "pygments_lexer": "ipython3",
   "version": "3.12.7"
  }
 },
 "nbformat": 4,
 "nbformat_minor": 2
}
